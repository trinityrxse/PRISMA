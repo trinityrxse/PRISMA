{
 "cells": [
  {
   "cell_type": "code",
   "execution_count": 1,
   "metadata": {},
   "outputs": [],
   "source": [
    "import uproot, pylhe, glob, os\n",
    "import numpy as np\n",
    "import numba,vector\n",
    "import matplotlib.pyplot as plt\n",
    "from tqdm import tqdm"
   ]
  },
  {
   "cell_type": "code",
   "execution_count": 2,
   "metadata": {},
   "outputs": [],
   "source": [
    "lhe_signal=glob.glob(\"/localscratch/Samples/Signal/SM/WWW01j_000[0-4].lhe.gz\")\n",
    "root_signal=glob.glob(\"/localscratch/Samples/Signal/SM/WWW01j_000[0-4].root\")\n",
    "\n",
    "lhe_bkg=glob.glob(\"/localscratch/Samples/3l01j/3l01j_00[0-1]?.lhe.gz\")\n",
    "root_bkg=glob.glob(\"/localscratch/Samples/3l01j/3l01j_00[0-1]?.root\")"
   ]
  },
  {
   "cell_type": "code",
   "execution_count": 3,
   "metadata": {},
   "outputs": [],
   "source": [
    "def get_xSection(lhefiles):\n",
    "    init=pylhe.read_lhe_init(lhefiles[0])\n",
    "\n",
    "    xSection=0.\n",
    "    for process in init['procInfo']:\n",
    "        xSection+=process['xSection']\n",
    "    return xSection # in pb"
   ]
  },
  {
   "cell_type": "code",
   "execution_count": 4,
   "metadata": {},
   "outputs": [],
   "source": [
    "def getNeventsLHE(lhefiles):\n",
    "    N=0\n",
    "    for f in lhefiles:\n",
    "        lines=os.popen('zgrep \"</event>\" '+f+\"|wc -l\").readlines()\n",
    "        N+=int(lines[0])\n",
    "    return N"
   ]
  },
  {
   "cell_type": "code",
   "execution_count": 5,
   "metadata": {},
   "outputs": [
    {
     "name": "stdout",
     "output_type": "stream",
     "text": [
      "0.017245120000000003 0.8901096\n"
     ]
    }
   ],
   "source": [
    "xSection_sig=get_xSection(lhe_signal)\n",
    "xSection_bkg=get_xSection(lhe_bkg)\n",
    "print(xSection_sig,xSection_bkg)"
   ]
  },
  {
   "cell_type": "code",
   "execution_count": 6,
   "metadata": {},
   "outputs": [
    {
     "name": "stdout",
     "output_type": "stream",
     "text": [
      "1000000 4000000\n"
     ]
    }
   ],
   "source": [
    "N_lhe_sig=getNeventsLHE(lhe_signal)\n",
    "N_lhe_bkg=getNeventsLHE(lhe_bkg)\n",
    "print(N_lhe_sig,N_lhe_bkg)"
   ]
  },
  {
   "cell_type": "code",
   "execution_count": 7,
   "metadata": {},
   "outputs": [],
   "source": [
    "def getNeventsRoot(rootfiles):\n",
    "    N=0\n",
    "    for f in rootfiles:\n",
    "        with uproot.open(f+':Delphes') as tree:\n",
    "            N+=tree.num_entries\n",
    "    return N"
   ]
  },
  {
   "cell_type": "code",
   "execution_count": 8,
   "metadata": {},
   "outputs": [
    {
     "name": "stdout",
     "output_type": "stream",
     "text": [
      "511723 2964674\n"
     ]
    }
   ],
   "source": [
    "N_root_sig=getNeventsRoot(root_signal)\n",
    "N_root_bgk=getNeventsRoot(root_bkg)\n",
    "print(N_root_sig,N_root_bgk)"
   ]
  },
  {
   "cell_type": "code",
   "execution_count": 9,
   "metadata": {},
   "outputs": [
    {
     "name": "stdout",
     "output_type": "stream",
     "text": [
      "0.008824724541760002 0.6597211970676\n"
     ]
    }
   ],
   "source": [
    "#calculate resulting xSection*efficiency\n",
    "xSection_sig*=N_root_sig/N_lhe_sig\n",
    "xSection_bkg*=N_root_bgk/N_lhe_bkg\n",
    "print(xSection_sig,xSection_bkg)"
   ]
  },
  {
   "cell_type": "code",
   "execution_count": 10,
   "metadata": {},
   "outputs": [
    {
     "name": "stdout",
     "output_type": "stream",
     "text": [
      "name                 | typename                 | interpretation                \n",
      "---------------------+--------------------------+-------------------------------\n",
      "Event                | int32_t                  | AsDtype('>i4')\n",
      "Event/Event.fUniq... | uint32_t[]               | AsJagged(AsDtype('>u4'))\n",
      "Event/Event.fBits    | uint32_t[]               | AsJagged(AsDtype('>u4'))\n",
      "Event/Event.Number   | int64_t[]                | AsJagged(AsDtype('>i8'))\n",
      "Event/Event.ReadTime | float[]                  | AsJagged(AsDtype('>f4'))\n",
      "Event/Event.ProcTime | float[]                  | AsJagged(AsDtype('>f4'))\n",
      "Event/Event.Proce... | int32_t[]                | AsJagged(AsDtype('>i4'))\n",
      "Event/Event.MPI      | int32_t[]                | AsJagged(AsDtype('>i4'))\n",
      "Event/Event.Weight   | float[]                  | AsJagged(AsDtype('>f4'))\n",
      "Event/Event.Cross... | float[]                  | AsJagged(AsDtype('>f4'))\n",
      "Event/Event.Cross... | float[]                  | AsJagged(AsDtype('>f4'))\n",
      "Event/Event.Scale    | float[]                  | AsJagged(AsDtype('>f4'))\n",
      "Event/Event.AlphaQED | float[]                  | AsJagged(AsDtype('>f4'))\n",
      "Event/Event.AlphaQCD | float[]                  | AsJagged(AsDtype('>f4'))\n",
      "Event/Event.ID1      | int32_t[]                | AsJagged(AsDtype('>i4'))\n",
      "Event/Event.ID2      | int32_t[]                | AsJagged(AsDtype('>i4'))\n",
      "Event/Event.X1       | float[]                  | AsJagged(AsDtype('>f4'))\n",
      "Event/Event.X2       | float[]                  | AsJagged(AsDtype('>f4'))\n",
      "Event/Event.ScalePDF | float[]                  | AsJagged(AsDtype('>f4'))\n",
      "Event/Event.PDF1     | float[]                  | AsJagged(AsDtype('>f4'))\n",
      "Event/Event.PDF2     | float[]                  | AsJagged(AsDtype('>f4'))\n",
      "Event_size           | int32_t                  | AsDtype('>i4')\n",
      "Weight               | int32_t                  | AsDtype('>i4')\n",
      "Weight/Weight.fUn... | uint32_t[]               | AsJagged(AsDtype('>u4'))\n",
      "Weight/Weight.fBits  | uint32_t[]               | AsJagged(AsDtype('>u4'))\n",
      "Weight/Weight.Weight | float[]                  | AsJagged(AsDtype('>f4'))\n",
      "Weight_size          | int32_t                  | AsDtype('>i4')\n",
      "Particle             | int32_t                  | AsDtype('>i4')\n",
      "Particle/Particle... | uint32_t[]               | AsJagged(AsDtype('>u4'))\n",
      "Particle/Particle... | uint32_t[]               | AsJagged(AsDtype('>u4'))\n",
      "Particle/Particle... | int32_t[]                | AsJagged(AsDtype('>i4'))\n",
      "Particle/Particle... | int32_t[]                | AsJagged(AsDtype('>i4'))\n",
      "Particle/Particle... | int32_t[]                | AsJagged(AsDtype('>i4'))\n",
      "Particle/Particle.M1 | int32_t[]                | AsJagged(AsDtype('>i4'))\n",
      "Particle/Particle.M2 | int32_t[]                | AsJagged(AsDtype('>i4'))\n",
      "Particle/Particle.D1 | int32_t[]                | AsJagged(AsDtype('>i4'))\n",
      "Particle/Particle.D2 | int32_t[]                | AsJagged(AsDtype('>i4'))\n",
      "Particle/Particle... | int32_t[]                | AsJagged(AsDtype('>i4'))\n",
      "Particle/Particle... | float[]                  | AsJagged(AsDtype('>f4'))\n",
      "Particle/Particle.E  | float[]                  | AsJagged(AsDtype('>f4'))\n",
      "Particle/Particle.Px | float[]                  | AsJagged(AsDtype('>f4'))\n",
      "Particle/Particle.Py | float[]                  | AsJagged(AsDtype('>f4'))\n",
      "Particle/Particle.Pz | float[]                  | AsJagged(AsDtype('>f4'))\n",
      "Particle/Particle.P  | float[]                  | AsJagged(AsDtype('>f4'))\n",
      "Particle/Particle.PT | float[]                  | AsJagged(AsDtype('>f4'))\n",
      "Particle/Particle... | float[]                  | AsJagged(AsDtype('>f4'))\n",
      "Particle/Particle... | float[]                  | AsJagged(AsDtype('>f4'))\n",
      "Particle/Particle... | float[]                  | AsJagged(AsDtype('>f4'))\n",
      "Particle/Particle.T  | float[]                  | AsJagged(AsDtype('>f4'))\n",
      "Particle/Particle.X  | float[]                  | AsJagged(AsDtype('>f4'))\n",
      "Particle/Particle.Y  | float[]                  | AsJagged(AsDtype('>f4'))\n",
      "Particle/Particle.Z  | float[]                  | AsJagged(AsDtype('>f4'))\n",
      "Particle_size        | int32_t                  | AsDtype('>i4')\n",
      "GenJet               | int32_t                  | AsDtype('>i4')\n",
      "GenJet/GenJet.fUn... | uint32_t[]               | AsJagged(AsDtype('>u4'))\n",
      "GenJet/GenJet.fBits  | uint32_t[]               | AsJagged(AsDtype('>u4'))\n",
      "GenJet/GenJet.PT     | float[]                  | AsJagged(AsDtype('>f4'))\n",
      "GenJet/GenJet.Eta    | float[]                  | AsJagged(AsDtype('>f4'))\n",
      "GenJet/GenJet.Phi    | float[]                  | AsJagged(AsDtype('>f4'))\n",
      "GenJet/GenJet.T      | float[]                  | AsJagged(AsDtype('>f4'))\n",
      "GenJet/GenJet.Mass   | float[]                  | AsJagged(AsDtype('>f4'))\n",
      "GenJet/GenJet.Del... | float[]                  | AsJagged(AsDtype('>f4'))\n",
      "GenJet/GenJet.Del... | float[]                  | AsJagged(AsDtype('>f4'))\n",
      "GenJet/GenJet.Flavor | uint32_t[]               | AsJagged(AsDtype('>u4'))\n",
      "GenJet/GenJet.Fla... | uint32_t[]               | AsJagged(AsDtype('>u4'))\n",
      "GenJet/GenJet.Fla... | uint32_t[]               | AsJagged(AsDtype('>u4'))\n",
      "GenJet/GenJet.BTag   | uint32_t[]               | AsJagged(AsDtype('>u4'))\n",
      "GenJet/GenJet.BTa... | uint32_t[]               | AsJagged(AsDtype('>u4'))\n",
      "GenJet/GenJet.BTa... | uint32_t[]               | AsJagged(AsDtype('>u4'))\n",
      "GenJet/GenJet.TauTag | uint32_t[]               | AsJagged(AsDtype('>u4'))\n",
      "GenJet/GenJet.Tau... | float[]                  | AsJagged(AsDtype('>f4'))\n",
      "GenJet/GenJet.Charge | int32_t[]                | AsJagged(AsDtype('>i4'))\n",
      "GenJet/GenJet.Eha... | float[]                  | AsJagged(AsDtype('>f4'))\n",
      "GenJet/GenJet.NCh... | int32_t[]                | AsJagged(AsDtype('>i4'))\n",
      "GenJet/GenJet.NNe... | int32_t[]                | AsJagged(AsDtype('>i4'))\n",
      "GenJet/GenJet.Neu... | float[]                  | AsJagged(AsDtype('>f4'))\n",
      "GenJet/GenJet.Cha... | float[]                  | AsJagged(AsDtype('>f4'))\n",
      "GenJet/GenJet.Beta   | float[]                  | AsJagged(AsDtype('>f4'))\n",
      "GenJet/GenJet.Bet... | float[]                  | AsJagged(AsDtype('>f4'))\n",
      "GenJet/GenJet.Mea... | float[]                  | AsJagged(AsDtype('>f4'))\n",
      "GenJet/GenJet.PTD    | float[]                  | AsJagged(AsDtype('>f4'))\n",
      "GenJet/GenJet.Fra... | float[][5]               | AsJagged(AsDtype(\"('>f4', (...\n",
      "GenJet/GenJet.Tau[5] | float[][5]               | AsJagged(AsDtype(\"('>f4', (...\n",
      "GenJet/GenJet.Sof... | TLorentzVector[]         | AsJagged(AsStridedObjects(M...\n",
      "GenJet/GenJet.Sof... | TLorentzVector[]         | AsJagged(AsStridedObjects(M...\n",
      "GenJet/GenJet.Sof... | TLorentzVector[]         | AsJagged(AsStridedObjects(M...\n",
      "GenJet/GenJet.Tri... | TLorentzVector[][5]      | AsJagged(AsStridedObjects(M...\n",
      "GenJet/GenJet.Pru... | TLorentzVector[][5]      | AsJagged(AsStridedObjects(M...\n",
      "GenJet/GenJet.Sof... | TLorentzVector[][5]      | AsJagged(AsStridedObjects(M...\n",
      "GenJet/GenJet.NSu... | int32_t[]                | AsJagged(AsDtype('>i4'))\n",
      "GenJet/GenJet.NSu... | int32_t[]                | AsJagged(AsDtype('>i4'))\n",
      "GenJet/GenJet.NSu... | int32_t[]                | AsJagged(AsDtype('>i4'))\n",
      "GenJet/GenJet.Exc... | double[]                 | AsJagged(AsDtype('>f8'))\n",
      "GenJet/GenJet.Exc... | double[]                 | AsJagged(AsDtype('>f8'))\n",
      "GenJet/GenJet.Exc... | double[]                 | AsJagged(AsDtype('>f8'))\n",
      "GenJet/GenJet.Exc... | double[]                 | AsJagged(AsDtype('>f8'))\n",
      "GenJet/GenJet.Con... | TRefArray[]              | AsObjects(AsArray(False, Fa...\n",
      "GenJet/GenJet.Par... | TRefArray[]              | AsObjects(AsArray(False, Fa...\n",
      "GenJet/GenJet.Area   | TLorentzVector[]         | AsJagged(AsStridedObjects(M...\n",
      "GenJet_size          | int32_t                  | AsDtype('>i4')\n",
      "GenMissingET         | int32_t                  | AsDtype('>i4')\n",
      "GenMissingET/GenM... | uint32_t[]               | AsJagged(AsDtype('>u4'))\n",
      "GenMissingET/GenM... | uint32_t[]               | AsJagged(AsDtype('>u4'))\n",
      "GenMissingET/GenM... | float[]                  | AsJagged(AsDtype('>f4'))\n",
      "GenMissingET/GenM... | float[]                  | AsJagged(AsDtype('>f4'))\n",
      "GenMissingET/GenM... | float[]                  | AsJagged(AsDtype('>f4'))\n",
      "GenMissingET_size    | int32_t                  | AsDtype('>i4')\n",
      "Jet                  | int32_t                  | AsDtype('>i4')\n",
      "Jet/Jet.fUniqueID    | uint32_t[]               | AsJagged(AsDtype('>u4'))\n",
      "Jet/Jet.fBits        | uint32_t[]               | AsJagged(AsDtype('>u4'))\n",
      "Jet/Jet.PT           | float[]                  | AsJagged(AsDtype('>f4'))\n",
      "Jet/Jet.Eta          | float[]                  | AsJagged(AsDtype('>f4'))\n",
      "Jet/Jet.Phi          | float[]                  | AsJagged(AsDtype('>f4'))\n",
      "Jet/Jet.T            | float[]                  | AsJagged(AsDtype('>f4'))\n",
      "Jet/Jet.Mass         | float[]                  | AsJagged(AsDtype('>f4'))\n",
      "Jet/Jet.DeltaEta     | float[]                  | AsJagged(AsDtype('>f4'))\n",
      "Jet/Jet.DeltaPhi     | float[]                  | AsJagged(AsDtype('>f4'))\n",
      "Jet/Jet.Flavor       | uint32_t[]               | AsJagged(AsDtype('>u4'))\n",
      "Jet/Jet.FlavorAlgo   | uint32_t[]               | AsJagged(AsDtype('>u4'))\n",
      "Jet/Jet.FlavorPhys   | uint32_t[]               | AsJagged(AsDtype('>u4'))\n",
      "Jet/Jet.BTag         | uint32_t[]               | AsJagged(AsDtype('>u4'))\n",
      "Jet/Jet.BTagAlgo     | uint32_t[]               | AsJagged(AsDtype('>u4'))\n",
      "Jet/Jet.BTagPhys     | uint32_t[]               | AsJagged(AsDtype('>u4'))\n",
      "Jet/Jet.TauTag       | uint32_t[]               | AsJagged(AsDtype('>u4'))\n",
      "Jet/Jet.TauWeight    | float[]                  | AsJagged(AsDtype('>f4'))\n",
      "Jet/Jet.Charge       | int32_t[]                | AsJagged(AsDtype('>i4'))\n",
      "Jet/Jet.EhadOverEem  | float[]                  | AsJagged(AsDtype('>f4'))\n",
      "Jet/Jet.NCharged     | int32_t[]                | AsJagged(AsDtype('>i4'))\n",
      "Jet/Jet.NNeutrals    | int32_t[]                | AsJagged(AsDtype('>i4'))\n",
      "Jet/Jet.NeutralEn... | float[]                  | AsJagged(AsDtype('>f4'))\n",
      "Jet/Jet.ChargedEn... | float[]                  | AsJagged(AsDtype('>f4'))\n",
      "Jet/Jet.Beta         | float[]                  | AsJagged(AsDtype('>f4'))\n",
      "Jet/Jet.BetaStar     | float[]                  | AsJagged(AsDtype('>f4'))\n",
      "Jet/Jet.MeanSqDeltaR | float[]                  | AsJagged(AsDtype('>f4'))\n",
      "Jet/Jet.PTD          | float[]                  | AsJagged(AsDtype('>f4'))\n",
      "Jet/Jet.FracPt[5]    | float[][5]               | AsJagged(AsDtype(\"('>f4', (...\n",
      "Jet/Jet.Tau[5]       | float[][5]               | AsJagged(AsDtype(\"('>f4', (...\n",
      "Jet/Jet.SoftDropp... | TLorentzVector[]         | AsJagged(AsStridedObjects(M...\n",
      "Jet/Jet.SoftDropp... | TLorentzVector[]         | AsJagged(AsStridedObjects(M...\n",
      "Jet/Jet.SoftDropp... | TLorentzVector[]         | AsJagged(AsStridedObjects(M...\n",
      "Jet/Jet.TrimmedP4[5] | TLorentzVector[][5]      | AsJagged(AsStridedObjects(M...\n",
      "Jet/Jet.PrunedP4[5]  | TLorentzVector[][5]      | AsJagged(AsStridedObjects(M...\n",
      "Jet/Jet.SoftDropp... | TLorentzVector[][5]      | AsJagged(AsStridedObjects(M...\n",
      "Jet/Jet.NSubJetsT... | int32_t[]                | AsJagged(AsDtype('>i4'))\n",
      "Jet/Jet.NSubJetsP... | int32_t[]                | AsJagged(AsDtype('>i4'))\n",
      "Jet/Jet.NSubJetsS... | int32_t[]                | AsJagged(AsDtype('>i4'))\n",
      "Jet/Jet.ExclYmerge23 | double[]                 | AsJagged(AsDtype('>f8'))\n",
      "Jet/Jet.ExclYmerge34 | double[]                 | AsJagged(AsDtype('>f8'))\n",
      "Jet/Jet.ExclYmerge45 | double[]                 | AsJagged(AsDtype('>f8'))\n",
      "Jet/Jet.ExclYmerge56 | double[]                 | AsJagged(AsDtype('>f8'))\n",
      "Jet/Jet.Constituents | TRefArray[]              | AsObjects(AsArray(False, Fa...\n",
      "Jet/Jet.Particles    | TRefArray[]              | AsObjects(AsArray(False, Fa...\n",
      "Jet/Jet.Area         | TLorentzVector[]         | AsJagged(AsStridedObjects(M...\n",
      "Jet_size             | int32_t                  | AsDtype('>i4')\n",
      "Electron             | int32_t                  | AsDtype('>i4')\n",
      "Electron/Electron... | uint32_t[]               | AsJagged(AsDtype('>u4'))\n",
      "Electron/Electron... | uint32_t[]               | AsJagged(AsDtype('>u4'))\n",
      "Electron/Electron.PT | float[]                  | AsJagged(AsDtype('>f4'))\n",
      "Electron/Electron... | float[]                  | AsJagged(AsDtype('>f4'))\n",
      "Electron/Electron... | float[]                  | AsJagged(AsDtype('>f4'))\n",
      "Electron/Electron.T  | float[]                  | AsJagged(AsDtype('>f4'))\n",
      "Electron/Electron... | int32_t[]                | AsJagged(AsDtype('>i4'))\n",
      "Electron/Electron... | float[]                  | AsJagged(AsDtype('>f4'))\n",
      "Electron/Electron... | TRef[]                   | AsJagged(AsStridedObjects(M...\n",
      "Electron/Electron... | float[]                  | AsJagged(AsDtype('>f4'))\n",
      "Electron/Electron... | float[]                  | AsJagged(AsDtype('>f4'))\n",
      "Electron/Electron... | float[]                  | AsJagged(AsDtype('>f4'))\n",
      "Electron/Electron... | float[]                  | AsJagged(AsDtype('>f4'))\n",
      "Electron/Electron... | float[]                  | AsJagged(AsDtype('>f4'))\n",
      "Electron/Electron... | float[]                  | AsJagged(AsDtype('>f4'))\n",
      "Electron/Electron.D0 | float[]                  | AsJagged(AsDtype('>f4'))\n",
      "Electron/Electron.DZ | float[]                  | AsJagged(AsDtype('>f4'))\n",
      "Electron/Electron... | float[]                  | AsJagged(AsDtype('>f4'))\n",
      "Electron/Electron... | float[]                  | AsJagged(AsDtype('>f4'))\n",
      "Electron_size        | int32_t                  | AsDtype('>i4')\n",
      "Muon                 | int32_t                  | AsDtype('>i4')\n",
      "Muon/Muon.fUniqueID  | uint32_t[]               | AsJagged(AsDtype('>u4'))\n",
      "Muon/Muon.fBits      | uint32_t[]               | AsJagged(AsDtype('>u4'))\n",
      "Muon/Muon.PT         | float[]                  | AsJagged(AsDtype('>f4'))\n",
      "Muon/Muon.Eta        | float[]                  | AsJagged(AsDtype('>f4'))\n",
      "Muon/Muon.Phi        | float[]                  | AsJagged(AsDtype('>f4'))\n",
      "Muon/Muon.T          | float[]                  | AsJagged(AsDtype('>f4'))\n",
      "Muon/Muon.Charge     | int32_t[]                | AsJagged(AsDtype('>i4'))\n",
      "Muon/Muon.Particle   | TRef[]                   | AsJagged(AsStridedObjects(M...\n",
      "Muon/Muon.Isolati... | float[]                  | AsJagged(AsDtype('>f4'))\n",
      "Muon/Muon.Isolati... | float[]                  | AsJagged(AsDtype('>f4'))\n",
      "Muon/Muon.SumPtCh... | float[]                  | AsJagged(AsDtype('>f4'))\n",
      "Muon/Muon.SumPtNe... | float[]                  | AsJagged(AsDtype('>f4'))\n",
      "Muon/Muon.SumPtCh... | float[]                  | AsJagged(AsDtype('>f4'))\n",
      "Muon/Muon.SumPt      | float[]                  | AsJagged(AsDtype('>f4'))\n",
      "Muon/Muon.D0         | float[]                  | AsJagged(AsDtype('>f4'))\n",
      "Muon/Muon.DZ         | float[]                  | AsJagged(AsDtype('>f4'))\n",
      "Muon/Muon.ErrorD0    | float[]                  | AsJagged(AsDtype('>f4'))\n",
      "Muon/Muon.ErrorDZ    | float[]                  | AsJagged(AsDtype('>f4'))\n",
      "Muon_size            | int32_t                  | AsDtype('>i4')\n",
      "MissingET            | int32_t                  | AsDtype('>i4')\n",
      "MissingET/Missing... | uint32_t[]               | AsJagged(AsDtype('>u4'))\n",
      "MissingET/Missing... | uint32_t[]               | AsJagged(AsDtype('>u4'))\n",
      "MissingET/Missing... | float[]                  | AsJagged(AsDtype('>f4'))\n",
      "MissingET/Missing... | float[]                  | AsJagged(AsDtype('>f4'))\n",
      "MissingET/Missing... | float[]                  | AsJagged(AsDtype('>f4'))\n",
      "MissingET_size       | int32_t                  | AsDtype('>i4')\n"
     ]
    }
   ],
   "source": [
    "#show available branches\n",
    "tree=uproot.open(root_signal[0]+':Delphes')\n",
    "tree.show()"
   ]
  },
  {
   "cell_type": "code",
   "execution_count": 11,
   "metadata": {},
   "outputs": [
    {
     "name": "stdout",
     "output_type": "stream",
     "text": [
      "name                 | typename                 | interpretation                \n",
      "---------------------+--------------------------+-------------------------------\n",
      "MissingET            | int32_t                  | AsDtype('>i4')                \n",
      "MissingET.fUniqueID  | uint32_t[]               | AsJagged(AsDtype('>u4'))\n",
      "MissingET.fBits      | uint32_t[]               | AsJagged(AsDtype('>u4'))\n",
      "MissingET.MET        | float[]                  | AsJagged(AsDtype('>f4'))\n",
      "MissingET.Eta        | float[]                  | AsJagged(AsDtype('>f4'))\n",
      "MissingET.Phi        | float[]                  | AsJagged(AsDtype('>f4'))\n"
     ]
    }
   ],
   "source": [
    "#show only specifc elements\n",
    "tree['MissingET'].show(filter_name=\"MissingET.*\")"
   ]
  },
  {
   "cell_type": "code",
   "execution_count": 12,
   "metadata": {},
   "outputs": [
    {
     "name": "stdout",
     "output_type": "stream",
     "text": [
      "name                                     | typename                 | interpretation                \n",
      "-----------------------------------------+--------------------------+-------------------------------\n",
      "Electron                                 | int32_t                  | AsDtype('>i4')                \n",
      "Electron.fUniqueID                       | uint32_t[]               | AsJagged(AsDtype('>u4'))\n",
      "Electron.fBits                           | uint32_t[]               | AsJagged(AsDtype('>u4'))\n",
      "Electron.PT                              | float[]                  | AsJagged(AsDtype('>f4'))\n",
      "Electron.Eta                             | float[]                  | AsJagged(AsDtype('>f4'))\n",
      "Electron.Phi                             | float[]                  | AsJagged(AsDtype('>f4'))\n",
      "Electron.T                               | float[]                  | AsJagged(AsDtype('>f4'))\n",
      "Electron.Charge                          | int32_t[]                | AsJagged(AsDtype('>i4'))\n",
      "Electron.EhadOverEem                     | float[]                  | AsJagged(AsDtype('>f4'))\n",
      "Electron.Particle                        | TRef[]                   | AsJagged(AsStridedObjects(M...\n",
      "Electron.IsolationVar                    | float[]                  | AsJagged(AsDtype('>f4'))\n",
      "Electron.IsolationVarRhoCorr             | float[]                  | AsJagged(AsDtype('>f4'))\n",
      "Electron.SumPtCharged                    | float[]                  | AsJagged(AsDtype('>f4'))\n",
      "Electron.SumPtNeutral                    | float[]                  | AsJagged(AsDtype('>f4'))\n",
      "Electron.SumPtChargedPU                  | float[]                  | AsJagged(AsDtype('>f4'))\n",
      "Electron.SumPt                           | float[]                  | AsJagged(AsDtype('>f4'))\n",
      "Electron.D0                              | float[]                  | AsJagged(AsDtype('>f4'))\n",
      "Electron.DZ                              | float[]                  | AsJagged(AsDtype('>f4'))\n",
      "Electron.ErrorD0                         | float[]                  | AsJagged(AsDtype('>f4'))\n",
      "Electron.ErrorDZ                         | float[]                  | AsJagged(AsDtype('>f4'))\n"
     ]
    }
   ],
   "source": [
    "\n",
    "tree['Electron'].show(filter_name=\"Electron.*\", name_width=40)"
   ]
  },
  {
   "cell_type": "code",
   "execution_count": 13,
   "metadata": {},
   "outputs": [
    {
     "data": {
      "text/plain": [
       "['Particle/Particle.PID',\n",
       " 'Particle/Particle.Status',\n",
       " 'Jet/Jet.PT',\n",
       " 'Jet/Jet.Eta',\n",
       " 'Jet/Jet.Phi',\n",
       " 'Jet/Jet.PTD',\n",
       " 'Electron/Electron.PT',\n",
       " 'Electron/Electron.Eta',\n",
       " 'Electron/Electron.Phi',\n",
       " 'Muon/Muon.PT',\n",
       " 'Muon/Muon.Eta',\n",
       " 'Muon/Muon.Phi',\n",
       " 'MissingET/MissingET.MET',\n",
       " 'MissingET/MissingET.Phi']"
      ]
     },
     "execution_count": 13,
     "metadata": {},
     "output_type": "execute_result"
    }
   ],
   "source": [
    "#specify the variables we are interested in\n",
    "tree.keys(filter_name=\"/(MissingET.(MET|Phi)|Particle.(PID|Status)|Electron.(PT|Eta|Phi)|\"\n",
    "          \"Muon.(PT|Eta|Phi)|Jet.(PT|Eta|Phi))/\")"
   ]
  },
  {
   "cell_type": "code",
   "execution_count": 14,
   "metadata": {},
   "outputs": [],
   "source": [
    "@numba.jit(nopython=True)\n",
    "def checkHiggs(batch):\n",
    "    higgs=np.full((len(batch),),False)\n",
    "    for i in range(len(batch)):\n",
    "        for p in range(len(batch[i]['Particle.PID'])):\n",
    "            if abs(batch[i]['Particle.PID'][p])==25:\n",
    "                higgs[i]=True\n",
    "                break\n",
    "    return higgs"
   ]
  },
  {
   "cell_type": "code",
   "execution_count": 15,
   "metadata": {},
   "outputs": [],
   "source": [
    "@numba.jit(nopython=True)\n",
    "def get_MET(batch):\n",
    "    met=np.zeros((len(batch),))\n",
    "    for i in range(len(batch)):\n",
    "        met[i]=float(batch[i]['MissingET.MET'][0])\n",
    "    return met"
   ]
  },
  {
   "cell_type": "code",
   "execution_count": 16,
   "metadata": {},
   "outputs": [],
   "source": [
    "@numba.jit(nopython=True)\n",
    "def get_minDRll(batch):\n",
    "    DRll=np.full((len(batch),),1000.)\n",
    "    for i in range(len(batch)):\n",
    "        leptons=[]\n",
    "\n",
    "        #loop over electrons\n",
    "        for e in range(len(batch[i]['Electron.PT'])):\n",
    "            leptons.append(vector.obj(pt=batch[i]['Electron.PT'][e], \n",
    "                                      phi=batch[i]['Electron.Phi'][e], \n",
    "                                      eta=batch[i]['Electron.Eta'][e], \n",
    "                                      mass=511./1e6))\n",
    "        #loop over muons\n",
    "        for m in range(len(batch[i]['Muon.PT'])):\n",
    "            leptons.append(vector.obj(pt=batch[i]['Muon.PT'][m], \n",
    "                                      phi=batch[i]['Muon.Phi'][m], \n",
    "                                      eta=batch[i]['Muon.Eta'][m], \n",
    "                                      mass=105.66/1e3))\n",
    "        mindr=DRll[i]\n",
    "        for l1 in leptons:\n",
    "            for l2 in leptons:\n",
    "                if l1==l2:\n",
    "                    continue\n",
    "                if l1.deltaR(l2)<mindr:\n",
    "                    mindr=l1.deltaR(l2)\n",
    "\n",
    "        DRll[i]=mindr\n",
    "    return DRll"
   ]
  },
  {
   "cell_type": "code",
   "execution_count": 17,
   "metadata": {},
   "outputs": [],
   "source": [
    "@numba.jit(nopython=True)\n",
    "def preselection(batch):\n",
    "    pass_selection=np.full((len(batch),),False)\n",
    "    for i in range(len(batch)):\n",
    "        nElectrons=0\n",
    "        nMuons=0\n",
    "        nJets=0\n",
    "\n",
    "        for e in range(len(batch[i]['Electron.PT'])):\n",
    "            if batch[i]['Electron.PT'][e]>=10.0 and abs(batch[i]['Electron.Eta'][e])<2.5:\n",
    "                nElectrons+=1\n",
    "\n",
    "        for m in range(len(batch[i]['Muon.PT'])):\n",
    "            if batch[i]['Muon.PT'][m]>=10.0 and abs(batch[i]['Muon.Eta'][m])<2.5:\n",
    "                nMuons+=1\n",
    "\n",
    "        for j in range(len(batch[i]['Jet.PT'])):\n",
    "            if batch[i]['Jet.PT'][j]>=25.0 and abs(batch[i]['Jet.Eta'][j])<2.5:\n",
    "                nJets+=1\n",
    "\n",
    "        if nElectrons+nMuons==3 and nJets<5:\n",
    "            pass_selection[i]=True\n",
    "\n",
    "    return pass_selection\n",
    "    "
   ]
  },
  {
   "cell_type": "code",
   "execution_count": 18,
   "metadata": {},
   "outputs": [
    {
     "name": "stderr",
     "output_type": "stream",
     "text": [
      "105it [00:03, 26.62it/s]                                                                                                                                                                                                                                            \n"
     ]
    },
    {
     "name": "stdout",
     "output_type": "stream",
     "text": [
      "Preselection efficiency for VH events: 41.70 %\n",
      "Preselection efficiency for WWW events: 43.09 %\n"
     ]
    },
    {
     "name": "stderr",
     "output_type": "stream",
     "text": [
      " 23%|████████████████████████████████████████████████▊                                                                                                                                                                       | 134/592.9348 [00:02<00:08, 53.11it/s]"
     ]
    }
   ],
   "source": [
    "met_VH=None\n",
    "met_WWW=None\n",
    "met_bkg=None\n",
    "\n",
    "dr_VH=None\n",
    "dr_WWW=None\n",
    "dr_bkg=None\n",
    "\n",
    "batch_size=5000\n",
    "\n",
    "myfilter=\"/(MissingET.(MET|Phi)|Particle.(PID|Status)|Electron.(PT|Eta|Phi)|Muon.(PT|Eta|Phi)|Jet.(PT|Eta|Phi))/\"\n",
    "\n",
    "#loop over VH/WWW\n",
    "ntotal_VH=0\n",
    "nselected_VH=0\n",
    "ntotal_WWW=0\n",
    "nselected_WWW=0\n",
    "iterator = uproot.iterate([f+\":Delphes\" for f in root_signal],step_size=batch_size, filter_name=myfilter)\n",
    "for batch in tqdm(iterator, total=N_root_sig//batch_size):\n",
    "        higgs=checkHiggs(batch)\n",
    "        met=get_MET(batch)\n",
    "        dr=get_minDRll(batch)\n",
    "        presel=preselection(batch)\n",
    "        if met_VH is not None:\n",
    "                met_VH=np.concatenate((met_VH,met[np.logical_and(higgs,presel)]),axis=0)\n",
    "                met_WWW=np.concatenate((met_WWW,met[np.logical_and(~higgs,presel)]),axis=0)\n",
    "\n",
    "                dr_VH=np.concatenate((dr_VH,dr[np.logical_and(higgs,presel)]),axis=0)\n",
    "                dr_WWW=np.concatenate((dr_WWW,dr[np.logical_and(~higgs,presel)]),axis=0)\n",
    "        else:\n",
    "                met_VH=np.array(met[np.logical_and(higgs,presel)])\n",
    "                met_WWW=np.array(met[np.logical_and(~higgs,presel)])\n",
    "\n",
    "                dr_VH=np.array(dr[np.logical_and(higgs,presel)])\n",
    "                dr_WWW=np.array(dr[np.logical_and(~higgs,presel)])\n",
    "\n",
    "        ntotal_VH+=higgs.sum()\n",
    "        ntotal_WWW+=(~higgs).sum()\n",
    "        nselected_VH+=np.logical_and(higgs,presel).sum()\n",
    "        nselected_WWW+=np.logical_and(~higgs,presel).sum()\n",
    "\n",
    "print(\"Preselection efficiency for VH events: %2.2f %%\"%(100.*nselected_VH/ntotal_VH))\n",
    "print(\"Preselection efficiency for WWW events: %2.2f %%\"%(100.*nselected_WWW/ntotal_WWW))\n",
    "\n",
    "\n",
    "#loop over background\n",
    "ntotal=0\n",
    "nselected=0\n",
    "iterator = uproot.iterate([f+\":Delphes\" for f in root_bkg],step_size=batch_size, filter_name=myfilter)\n",
    "for batch in tqdm(iterator, total=N_root_bgk/batch_size):\n",
    "        met=get_MET(batch)\n",
    "        dr=get_minDRll(batch)\n",
    "        presel=preselection(batch)\n",
    "        if met_bkg is not None:\n",
    "                met_bkg=np.concatenate((met_bkg,met[presel]),axis=0)\n",
    "                dr_bkg=np.concatenate((dr_bkg,dr[presel]),axis=0)\n",
    "        else:\n",
    "                met_bkg=np.array(met[presel])\n",
    "                dr_bkg=np.array(dr[presel])\n",
    "\n",
    "        ntotal+=len(batch)\n",
    "        nselected+=presel.sum()\n",
    "print(\"Preselection efficiency for background events: %2.2f %%\"%(100.*nselected/ntotal))"
   ]
  },
  {
   "cell_type": "code",
   "execution_count": null,
   "metadata": {},
   "outputs": [],
   "source": [
    "#scale to given luminosity\n",
    "lumi=400 #inverse fb\n",
    "\n",
    "n_sig=lumi*xSection_sig*1000\n",
    "n_bkg=lumi*xSection_bkg*1000\n",
    "\n",
    "weight_sig=n_sig/N_root_sig\n",
    "weight_bkg=n_bkg/N_root_bgk"
   ]
  },
  {
   "cell_type": "code",
   "execution_count": null,
   "metadata": {},
   "outputs": [
    {
     "data": {
      "text/plain": [
       "<matplotlib.legend.Legend at 0x7fb1d50cc970>"
      ]
     },
     "execution_count": 20,
     "metadata": {},
     "output_type": "execute_result"
    },
    {
     "data": {
      "image/png": "[encoded data removed]",
      "text/plain": [
       "<Figure size 1200x600 with 2 Axes>"
      ]
     },
     "metadata": {},
     "output_type": "display_data"
    }
   ],
   "source": [
    "fig,ax=plt.subplots(1,2,figsize=(12,6))\n",
    "bins=np.linspace(0.,500.,100)\n",
    "ax[0].hist([met_VH,met_WWW,met_bkg],bins=bins,\n",
    "        weights=[np.full(met_VH.shape,weight_sig),\n",
    "                 np.full(met_WWW.shape,weight_sig),\n",
    "                 np.full(met_bkg.shape,weight_bkg)],\n",
    "        histtype='bar', stacked=True,label=[\"VH\",\"WWW\",\"bkg\"])\n",
    "ax[0].set_yscale('log')\n",
    "ax[0].text(0.55,0.95,\"${\\\\cal L}=%3.0f$/fb\"%lumi,transform=ax[0].transAxes)\n",
    "ax[0].set_xlabel(\"MET [GeV]\")\n",
    "ax[0].set_ylabel(\"Entries\")\n",
    "ax[0].legend()\n",
    "\n",
    "bins=np.linspace(0.,4.,80)\n",
    "ax[1].hist([dr_VH,dr_WWW,dr_bkg],bins=bins,\n",
    "        weights=[np.full(dr_VH.shape,weight_sig),\n",
    "                 np.full(dr_WWW.shape,weight_sig),\n",
    "                 np.full(dr_bkg.shape,weight_bkg)],\n",
    "        histtype='step', stacked=False,density=True,label=[\"VH\",\"WWW\",\"bkg\"])\n",
    "ax[1].set_yscale('log')\n",
    "ax[1].text(0.55,0.95,\"${\\\\cal L}=%3.0f$/fb\"%lumi,transform=ax[1].transAxes)\n",
    "ax[1].set_xlabel(\"min($\\\\Delta R_{\\\\ell\\\\ell})$\")\n",
    "ax[1].set_ylabel(\"1/N dN/d min($\\\\Delta R_{\\\\ell\\\\ell})$\")\n",
    "ax[1].legend()"
   ]
  },
  {
   "cell_type": "code",
   "execution_count": null,
   "metadata": {},
   "outputs": [],
   "source": []
  }
 ],
 "metadata": {
  "kernelspec": {
   "display_name": "Python 3 (ipykernel)",
   "language": "python",
   "name": "python3"
  },
  "language_info": {
   "codemirror_mode": {
    "name": "ipython",
    "version": 3
   },
   "file_extension": ".py",
   "mimetype": "text/x-python",
   "name": "python",
   "nbconvert_exporter": "python",
   "pygments_lexer": "ipython3",
   "version": "3.9.2"
  },
  "orig_nbformat": 4
 },
 "nbformat": 4,
 "nbformat_minor": 2
}
