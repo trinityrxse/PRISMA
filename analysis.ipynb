{
 "cells": [
  {
   "cell_type": "code",
   "execution_count": 2,
   "metadata": {},
   "outputs": [],
   "source": [
    "import uproot, pylhe, glob, os\n",
    "import numpy as np\n",
    "import numba,vector\n",
    "import matplotlib.pyplot as plt\n",
    "from tqdm import tqdm\n",
    "import pandas as pd "
   ]
  },
  {
   "cell_type": "code",
   "execution_count": 3,
   "metadata": {},
   "outputs": [],
   "source": [
    "lhe_signal=glob.glob(\"/localscratch/Samples/Signal/SM/WWW01j_000[0-4].lhe.gz\")\n",
    "root_signal=glob.glob(\"/localscratch/Samples/Signal/SM/WWW01j_000[0-4].root\")\n",
    "\n",
    "lhe_bkg=glob.glob(\"/localscratch/Samples/3l01j/3l01j_00[0-1]?.lhe.gz\")\n",
    "root_bkg=glob.glob(\"/localscratch/Samples/3l01j/3l01j_00[0-1]?.root\")"
   ]
  },
  {
   "cell_type": "code",
   "execution_count": 4,
   "metadata": {},
   "outputs": [],
   "source": [
    "def get_xSection(lhefiles):\n",
    "    init=pylhe.read_lhe_init(lhefiles[0])\n",
    "\n",
    "    xSection=0.\n",
    "    for process in init['procInfo']:\n",
    "        xSection+=process['xSection']\n",
    "    return xSection # in pb"
   ]
  },
  {
   "cell_type": "code",
   "execution_count": 5,
   "metadata": {},
   "outputs": [],
   "source": [
    "def getNeventsLHE(lhefiles):\n",
    "    N=0\n",
    "    for f in lhefiles:\n",
    "        lines=os.popen('zgrep \"</event>\" '+f+\"|wc -l\").readlines()\n",
    "        N+=int(lines[0])\n",
    "    return N"
   ]
  },
  {
   "cell_type": "code",
   "execution_count": 6,
   "metadata": {},
   "outputs": [
    {
     "name": "stdout",
     "output_type": "stream",
     "text": [
      "0.017245120000000003 0.8901096\n"
     ]
    }
   ],
   "source": [
    "xSection_sig=get_xSection(lhe_signal)\n",
    "xSection_bkg=get_xSection(lhe_bkg)\n",
    "print(xSection_sig,xSection_bkg)"
   ]
  },
  {
   "cell_type": "code",
   "execution_count": 7,
   "metadata": {},
   "outputs": [
    {
     "name": "stdout",
     "output_type": "stream",
     "text": [
      "1000000 4000000\n"
     ]
    }
   ],
   "source": [
    "N_lhe_sig=1000000 #getNeventsLHE(lhe_signal)\n",
    "N_lhe_bkg=4000000 #getNeventsLHE(lhe_bkg)\n",
    "print(N_lhe_sig,N_lhe_bkg)"
   ]
  },
  {
   "cell_type": "code",
   "execution_count": 8,
   "metadata": {},
   "outputs": [],
   "source": [
    "def getNeventsRoot(rootfiles):\n",
    "    N=0\n",
    "    for f in rootfiles:\n",
    "        with uproot.open(f+':Delphes') as tree:\n",
    "            N+=tree.num_entries\n",
    "    return N"
   ]
  },
  {
   "cell_type": "code",
   "execution_count": 9,
   "metadata": {},
   "outputs": [
    {
     "name": "stdout",
     "output_type": "stream",
     "text": [
      "511723 2964674\n"
     ]
    }
   ],
   "source": [
    "N_root_sig=511723 #getNeventsRoot(root_signal)\n",
    "N_root_bgk=2964674 #getNeventsRoot(root_bkg)\n",
    "print(N_root_sig,N_root_bgk)"
   ]
  },
  {
   "cell_type": "code",
   "execution_count": 10,
   "metadata": {},
   "outputs": [
    {
     "name": "stdout",
     "output_type": "stream",
     "text": [
      "0.008824724541760002 0.6597211970676\n"
     ]
    }
   ],
   "source": [
    "#calculate resulting xSection*efficiency\n",
    "xSection_sig*=N_root_sig/N_lhe_sig\n",
    "xSection_bkg*=N_root_bgk/N_lhe_bkg\n",
    "print(xSection_sig,xSection_bkg)"
   ]
  },
  {
   "cell_type": "code",
   "execution_count": 12,
   "metadata": {},
   "outputs": [
    {
     "name": "stdout",
     "output_type": "stream",
     "text": [
      "name                 | typename                 | interpretation                \n",
      "---------------------+--------------------------+-------------------------------\n",
      "Event                | int32_t                  | AsDtype('>i4')\n",
      "Event/Event.fUniq... | uint32_t[]               | AsJagged(AsDtype('>u4'))\n",
      "Event/Event.fBits    | uint32_t[]               | AsJagged(AsDtype('>u4'))\n",
      "Event/Event.Number   | int64_t[]                | AsJagged(AsDtype('>i8'))\n",
      "Event/Event.ReadTime | float[]                  | AsJagged(AsDtype('>f4'))\n",
      "Event/Event.ProcTime | float[]                  | AsJagged(AsDtype('>f4'))\n",
      "Event/Event.Proce... | int32_t[]                | AsJagged(AsDtype('>i4'))\n",
      "Event/Event.MPI      | int32_t[]                | AsJagged(AsDtype('>i4'))\n",
      "Event/Event.Weight   | float[]                  | AsJagged(AsDtype('>f4'))\n",
      "Event/Event.Cross... | float[]                  | AsJagged(AsDtype('>f4'))\n",
      "Event/Event.Cross... | float[]                  | AsJagged(AsDtype('>f4'))\n",
      "Event/Event.Scale    | float[]                  | AsJagged(AsDtype('>f4'))\n",
      "Event/Event.AlphaQED | float[]                  | AsJagged(AsDtype('>f4'))\n",
      "Event/Event.AlphaQCD | float[]                  | AsJagged(AsDtype('>f4'))\n",
      "Event/Event.ID1      | int32_t[]                | AsJagged(AsDtype('>i4'))\n",
      "Event/Event.ID2      | int32_t[]                | AsJagged(AsDtype('>i4'))\n",
      "Event/Event.X1       | float[]                  | AsJagged(AsDtype('>f4'))\n",
      "Event/Event.X2       | float[]                  | AsJagged(AsDtype('>f4'))\n",
      "Event/Event.ScalePDF | float[]                  | AsJagged(AsDtype('>f4'))\n",
      "Event/Event.PDF1     | float[]                  | AsJagged(AsDtype('>f4'))\n",
      "Event/Event.PDF2     | float[]                  | AsJagged(AsDtype('>f4'))\n",
      "Event_size           | int32_t                  | AsDtype('>i4')\n",
      "Weight               | int32_t                  | AsDtype('>i4')\n",
      "Weight/Weight.fUn... | uint32_t[]               | AsJagged(AsDtype('>u4'))\n",
      "Weight/Weight.fBits  | uint32_t[]               | AsJagged(AsDtype('>u4'))\n",
      "Weight/Weight.Weight | float[]                  | AsJagged(AsDtype('>f4'))\n",
      "Weight_size          | int32_t                  | AsDtype('>i4')\n",
      "Particle             | int32_t                  | AsDtype('>i4')\n",
      "Particle/Particle... | uint32_t[]               | AsJagged(AsDtype('>u4'))\n",
      "Particle/Particle... | uint32_t[]               | AsJagged(AsDtype('>u4'))\n",
      "Particle/Particle... | int32_t[]                | AsJagged(AsDtype('>i4'))\n",
      "Particle/Particle... | int32_t[]                | AsJagged(AsDtype('>i4'))\n",
      "Particle/Particle... | int32_t[]                | AsJagged(AsDtype('>i4'))\n",
      "Particle/Particle.M1 | int32_t[]                | AsJagged(AsDtype('>i4'))\n",
      "Particle/Particle.M2 | int32_t[]                | AsJagged(AsDtype('>i4'))\n",
      "Particle/Particle.D1 | int32_t[]                | AsJagged(AsDtype('>i4'))\n",
      "Particle/Particle.D2 | int32_t[]                | AsJagged(AsDtype('>i4'))\n",
      "Particle/Particle... | int32_t[]                | AsJagged(AsDtype('>i4'))\n",
      "Particle/Particle... | float[]                  | AsJagged(AsDtype('>f4'))\n",
      "Particle/Particle.E  | float[]                  | AsJagged(AsDtype('>f4'))\n",
      "Particle/Particle.Px | float[]                  | AsJagged(AsDtype('>f4'))\n",
      "Particle/Particle.Py | float[]                  | AsJagged(AsDtype('>f4'))\n",
      "Particle/Particle.Pz | float[]                  | AsJagged(AsDtype('>f4'))\n",
      "Particle/Particle.P  | float[]                  | AsJagged(AsDtype('>f4'))\n",
      "Particle/Particle.PT | float[]                  | AsJagged(AsDtype('>f4'))\n",
      "Particle/Particle... | float[]                  | AsJagged(AsDtype('>f4'))\n",
      "Particle/Particle... | float[]                  | AsJagged(AsDtype('>f4'))\n",
      "Particle/Particle... | float[]                  | AsJagged(AsDtype('>f4'))\n",
      "Particle/Particle.T  | float[]                  | AsJagged(AsDtype('>f4'))\n",
      "Particle/Particle.X  | float[]                  | AsJagged(AsDtype('>f4'))\n",
      "Particle/Particle.Y  | float[]                  | AsJagged(AsDtype('>f4'))\n",
      "Particle/Particle.Z  | float[]                  | AsJagged(AsDtype('>f4'))\n",
      "Particle_size        | int32_t                  | AsDtype('>i4')\n",
      "GenJet               | int32_t                  | AsDtype('>i4')\n",
      "GenJet/GenJet.fUn... | uint32_t[]               | AsJagged(AsDtype('>u4'))\n",
      "GenJet/GenJet.fBits  | uint32_t[]               | AsJagged(AsDtype('>u4'))\n",
      "GenJet/GenJet.PT     | float[]                  | AsJagged(AsDtype('>f4'))\n",
      "GenJet/GenJet.Eta    | float[]                  | AsJagged(AsDtype('>f4'))\n",
      "GenJet/GenJet.Phi    | float[]                  | AsJagged(AsDtype('>f4'))\n",
      "GenJet/GenJet.T      | float[]                  | AsJagged(AsDtype('>f4'))\n",
      "GenJet/GenJet.Mass   | float[]                  | AsJagged(AsDtype('>f4'))\n",
      "GenJet/GenJet.Del... | float[]                  | AsJagged(AsDtype('>f4'))\n",
      "GenJet/GenJet.Del... | float[]                  | AsJagged(AsDtype('>f4'))\n",
      "GenJet/GenJet.Flavor | uint32_t[]               | AsJagged(AsDtype('>u4'))\n",
      "GenJet/GenJet.Fla... | uint32_t[]               | AsJagged(AsDtype('>u4'))\n",
      "GenJet/GenJet.Fla... | uint32_t[]               | AsJagged(AsDtype('>u4'))\n",
      "GenJet/GenJet.BTag   | uint32_t[]               | AsJagged(AsDtype('>u4'))\n",
      "GenJet/GenJet.BTa... | uint32_t[]               | AsJagged(AsDtype('>u4'))\n",
      "GenJet/GenJet.BTa... | uint32_t[]               | AsJagged(AsDtype('>u4'))\n",
      "GenJet/GenJet.TauTag | uint32_t[]               | AsJagged(AsDtype('>u4'))\n",
      "GenJet/GenJet.Tau... | float[]                  | AsJagged(AsDtype('>f4'))\n",
      "GenJet/GenJet.Charge | int32_t[]                | AsJagged(AsDtype('>i4'))\n",
      "GenJet/GenJet.Eha... | float[]                  | AsJagged(AsDtype('>f4'))\n",
      "GenJet/GenJet.NCh... | int32_t[]                | AsJagged(AsDtype('>i4'))\n",
      "GenJet/GenJet.NNe... | int32_t[]                | AsJagged(AsDtype('>i4'))\n",
      "GenJet/GenJet.Neu... | float[]                  | AsJagged(AsDtype('>f4'))\n",
      "GenJet/GenJet.Cha... | float[]                  | AsJagged(AsDtype('>f4'))\n",
      "GenJet/GenJet.Beta   | float[]                  | AsJagged(AsDtype('>f4'))\n",
      "GenJet/GenJet.Bet... | float[]                  | AsJagged(AsDtype('>f4'))\n",
      "GenJet/GenJet.Mea... | float[]                  | AsJagged(AsDtype('>f4'))\n",
      "GenJet/GenJet.PTD    | float[]                  | AsJagged(AsDtype('>f4'))\n",
      "GenJet/GenJet.Fra... | float[][5]               | AsJagged(AsDtype(\"('>f4', (...\n",
      "GenJet/GenJet.Tau[5] | float[][5]               | AsJagged(AsDtype(\"('>f4', (...\n",
      "GenJet/GenJet.Sof... | TLorentzVector[]         | AsJagged(AsStridedObjects(M...\n",
      "GenJet/GenJet.Sof... | TLorentzVector[]         | AsJagged(AsStridedObjects(M...\n",
      "GenJet/GenJet.Sof... | TLorentzVector[]         | AsJagged(AsStridedObjects(M...\n",
      "GenJet/GenJet.Tri... | TLorentzVector[][5]      | AsJagged(AsStridedObjects(M...\n",
      "GenJet/GenJet.Pru... | TLorentzVector[][5]      | AsJagged(AsStridedObjects(M...\n",
      "GenJet/GenJet.Sof... | TLorentzVector[][5]      | AsJagged(AsStridedObjects(M...\n",
      "GenJet/GenJet.NSu... | int32_t[]                | AsJagged(AsDtype('>i4'))\n",
      "GenJet/GenJet.NSu... | int32_t[]                | AsJagged(AsDtype('>i4'))\n",
      "GenJet/GenJet.NSu... | int32_t[]                | AsJagged(AsDtype('>i4'))\n",
      "GenJet/GenJet.Exc... | double[]                 | AsJagged(AsDtype('>f8'))\n",
      "GenJet/GenJet.Exc... | double[]                 | AsJagged(AsDtype('>f8'))\n",
      "GenJet/GenJet.Exc... | double[]                 | AsJagged(AsDtype('>f8'))\n",
      "GenJet/GenJet.Exc... | double[]                 | AsJagged(AsDtype('>f8'))\n",
      "GenJet/GenJet.Con... | TRefArray[]              | AsObjects(AsArray(False, Fa...\n",
      "GenJet/GenJet.Par... | TRefArray[]              | AsObjects(AsArray(False, Fa...\n",
      "GenJet/GenJet.Area   | TLorentzVector[]         | AsJagged(AsStridedObjects(M...\n",
      "GenJet_size          | int32_t                  | AsDtype('>i4')\n",
      "GenMissingET         | int32_t                  | AsDtype('>i4')\n",
      "GenMissingET/GenM... | uint32_t[]               | AsJagged(AsDtype('>u4'))\n",
      "GenMissingET/GenM... | uint32_t[]               | AsJagged(AsDtype('>u4'))\n",
      "GenMissingET/GenM... | float[]                  | AsJagged(AsDtype('>f4'))\n",
      "GenMissingET/GenM... | float[]                  | AsJagged(AsDtype('>f4'))\n",
      "GenMissingET/GenM... | float[]                  | AsJagged(AsDtype('>f4'))\n",
      "GenMissingET_size    | int32_t                  | AsDtype('>i4')\n",
      "Jet                  | int32_t                  | AsDtype('>i4')\n",
      "Jet/Jet.fUniqueID    | uint32_t[]               | AsJagged(AsDtype('>u4'))\n",
      "Jet/Jet.fBits        | uint32_t[]               | AsJagged(AsDtype('>u4'))\n",
      "Jet/Jet.PT           | float[]                  | AsJagged(AsDtype('>f4'))\n",
      "Jet/Jet.Eta          | float[]                  | AsJagged(AsDtype('>f4'))\n",
      "Jet/Jet.Phi          | float[]                  | AsJagged(AsDtype('>f4'))\n",
      "Jet/Jet.T            | float[]                  | AsJagged(AsDtype('>f4'))\n",
      "Jet/Jet.Mass         | float[]                  | AsJagged(AsDtype('>f4'))\n",
      "Jet/Jet.DeltaEta     | float[]                  | AsJagged(AsDtype('>f4'))\n",
      "Jet/Jet.DeltaPhi     | float[]                  | AsJagged(AsDtype('>f4'))\n",
      "Jet/Jet.Flavor       | uint32_t[]               | AsJagged(AsDtype('>u4'))\n",
      "Jet/Jet.FlavorAlgo   | uint32_t[]               | AsJagged(AsDtype('>u4'))\n",
      "Jet/Jet.FlavorPhys   | uint32_t[]               | AsJagged(AsDtype('>u4'))\n",
      "Jet/Jet.BTag         | uint32_t[]               | AsJagged(AsDtype('>u4'))\n",
      "Jet/Jet.BTagAlgo     | uint32_t[]               | AsJagged(AsDtype('>u4'))\n",
      "Jet/Jet.BTagPhys     | uint32_t[]               | AsJagged(AsDtype('>u4'))\n",
      "Jet/Jet.TauTag       | uint32_t[]               | AsJagged(AsDtype('>u4'))\n",
      "Jet/Jet.TauWeight    | float[]                  | AsJagged(AsDtype('>f4'))\n",
      "Jet/Jet.Charge       | int32_t[]                | AsJagged(AsDtype('>i4'))\n",
      "Jet/Jet.EhadOverEem  | float[]                  | AsJagged(AsDtype('>f4'))\n",
      "Jet/Jet.NCharged     | int32_t[]                | AsJagged(AsDtype('>i4'))\n",
      "Jet/Jet.NNeutrals    | int32_t[]                | AsJagged(AsDtype('>i4'))\n",
      "Jet/Jet.NeutralEn... | float[]                  | AsJagged(AsDtype('>f4'))\n",
      "Jet/Jet.ChargedEn... | float[]                  | AsJagged(AsDtype('>f4'))\n",
      "Jet/Jet.Beta         | float[]                  | AsJagged(AsDtype('>f4'))\n",
      "Jet/Jet.BetaStar     | float[]                  | AsJagged(AsDtype('>f4'))\n",
      "Jet/Jet.MeanSqDeltaR | float[]                  | AsJagged(AsDtype('>f4'))\n",
      "Jet/Jet.PTD          | float[]                  | AsJagged(AsDtype('>f4'))\n",
      "Jet/Jet.FracPt[5]    | float[][5]               | AsJagged(AsDtype(\"('>f4', (...\n",
      "Jet/Jet.Tau[5]       | float[][5]               | AsJagged(AsDtype(\"('>f4', (...\n",
      "Jet/Jet.SoftDropp... | TLorentzVector[]         | AsJagged(AsStridedObjects(M...\n",
      "Jet/Jet.SoftDropp... | TLorentzVector[]         | AsJagged(AsStridedObjects(M...\n",
      "Jet/Jet.SoftDropp... | TLorentzVector[]         | AsJagged(AsStridedObjects(M...\n",
      "Jet/Jet.TrimmedP4[5] | TLorentzVector[][5]      | AsJagged(AsStridedObjects(M...\n",
      "Jet/Jet.PrunedP4[5]  | TLorentzVector[][5]      | AsJagged(AsStridedObjects(M...\n",
      "Jet/Jet.SoftDropp... | TLorentzVector[][5]      | AsJagged(AsStridedObjects(M...\n",
      "Jet/Jet.NSubJetsT... | int32_t[]                | AsJagged(AsDtype('>i4'))\n",
      "Jet/Jet.NSubJetsP... | int32_t[]                | AsJagged(AsDtype('>i4'))\n",
      "Jet/Jet.NSubJetsS... | int32_t[]                | AsJagged(AsDtype('>i4'))\n",
      "Jet/Jet.ExclYmerge23 | double[]                 | AsJagged(AsDtype('>f8'))\n",
      "Jet/Jet.ExclYmerge34 | double[]                 | AsJagged(AsDtype('>f8'))\n",
      "Jet/Jet.ExclYmerge45 | double[]                 | AsJagged(AsDtype('>f8'))\n",
      "Jet/Jet.ExclYmerge56 | double[]                 | AsJagged(AsDtype('>f8'))\n",
      "Jet/Jet.Constituents | TRefArray[]              | AsObjects(AsArray(False, Fa...\n",
      "Jet/Jet.Particles    | TRefArray[]              | AsObjects(AsArray(False, Fa...\n",
      "Jet/Jet.Area         | TLorentzVector[]         | AsJagged(AsStridedObjects(M...\n",
      "Jet_size             | int32_t                  | AsDtype('>i4')\n",
      "Electron             | int32_t                  | AsDtype('>i4')\n",
      "Electron/Electron... | uint32_t[]               | AsJagged(AsDtype('>u4'))\n",
      "Electron/Electron... | uint32_t[]               | AsJagged(AsDtype('>u4'))\n",
      "Electron/Electron.PT | float[]                  | AsJagged(AsDtype('>f4'))\n",
      "Electron/Electron... | float[]                  | AsJagged(AsDtype('>f4'))\n",
      "Electron/Electron... | float[]                  | AsJagged(AsDtype('>f4'))\n",
      "Electron/Electron.T  | float[]                  | AsJagged(AsDtype('>f4'))\n",
      "Electron/Electron... | int32_t[]                | AsJagged(AsDtype('>i4'))\n",
      "Electron/Electron... | float[]                  | AsJagged(AsDtype('>f4'))\n",
      "Electron/Electron... | TRef[]                   | AsJagged(AsStridedObjects(M...\n",
      "Electron/Electron... | float[]                  | AsJagged(AsDtype('>f4'))\n",
      "Electron/Electron... | float[]                  | AsJagged(AsDtype('>f4'))\n",
      "Electron/Electron... | float[]                  | AsJagged(AsDtype('>f4'))\n",
      "Electron/Electron... | float[]                  | AsJagged(AsDtype('>f4'))\n",
      "Electron/Electron... | float[]                  | AsJagged(AsDtype('>f4'))\n",
      "Electron/Electron... | float[]                  | AsJagged(AsDtype('>f4'))\n",
      "Electron/Electron.D0 | float[]                  | AsJagged(AsDtype('>f4'))\n",
      "Electron/Electron.DZ | float[]                  | AsJagged(AsDtype('>f4'))\n",
      "Electron/Electron... | float[]                  | AsJagged(AsDtype('>f4'))\n",
      "Electron/Electron... | float[]                  | AsJagged(AsDtype('>f4'))\n",
      "Electron_size        | int32_t                  | AsDtype('>i4')\n",
      "Muon                 | int32_t                  | AsDtype('>i4')\n",
      "Muon/Muon.fUniqueID  | uint32_t[]               | AsJagged(AsDtype('>u4'))\n",
      "Muon/Muon.fBits      | uint32_t[]               | AsJagged(AsDtype('>u4'))\n",
      "Muon/Muon.PT         | float[]                  | AsJagged(AsDtype('>f4'))\n",
      "Muon/Muon.Eta        | float[]                  | AsJagged(AsDtype('>f4'))\n",
      "Muon/Muon.Phi        | float[]                  | AsJagged(AsDtype('>f4'))\n",
      "Muon/Muon.T          | float[]                  | AsJagged(AsDtype('>f4'))\n",
      "Muon/Muon.Charge     | int32_t[]                | AsJagged(AsDtype('>i4'))\n",
      "Muon/Muon.Particle   | TRef[]                   | AsJagged(AsStridedObjects(M...\n",
      "Muon/Muon.Isolati... | float[]                  | AsJagged(AsDtype('>f4'))\n",
      "Muon/Muon.Isolati... | float[]                  | AsJagged(AsDtype('>f4'))\n",
      "Muon/Muon.SumPtCh... | float[]                  | AsJagged(AsDtype('>f4'))\n",
      "Muon/Muon.SumPtNe... | float[]                  | AsJagged(AsDtype('>f4'))\n",
      "Muon/Muon.SumPtCh... | float[]                  | AsJagged(AsDtype('>f4'))\n",
      "Muon/Muon.SumPt      | float[]                  | AsJagged(AsDtype('>f4'))\n",
      "Muon/Muon.D0         | float[]                  | AsJagged(AsDtype('>f4'))\n",
      "Muon/Muon.DZ         | float[]                  | AsJagged(AsDtype('>f4'))\n",
      "Muon/Muon.ErrorD0    | float[]                  | AsJagged(AsDtype('>f4'))\n",
      "Muon/Muon.ErrorDZ    | float[]                  | AsJagged(AsDtype('>f4'))\n",
      "Muon_size            | int32_t                  | AsDtype('>i4')\n",
      "MissingET            | int32_t                  | AsDtype('>i4')\n",
      "MissingET/Missing... | uint32_t[]               | AsJagged(AsDtype('>u4'))\n",
      "MissingET/Missing... | uint32_t[]               | AsJagged(AsDtype('>u4'))\n",
      "MissingET/Missing... | float[]                  | AsJagged(AsDtype('>f4'))\n",
      "MissingET/Missing... | float[]                  | AsJagged(AsDtype('>f4'))\n",
      "MissingET/Missing... | float[]                  | AsJagged(AsDtype('>f4'))\n",
      "MissingET_size       | int32_t                  | AsDtype('>i4')\n"
     ]
    }
   ],
   "source": [
    "#show available branches\n",
    "tree=uproot.open(root_signal[0]+':Delphes')\n",
    "tree.show()"
   ]
  },
  {
   "cell_type": "code",
   "execution_count": 13,
   "metadata": {},
   "outputs": [
    {
     "name": "stdout",
     "output_type": "stream",
     "text": [
      "name                 | typename                 | interpretation                \n",
      "---------------------+--------------------------+-------------------------------\n",
      "MissingET            | int32_t                  | AsDtype('>i4')                \n",
      "MissingET.fUniqueID  | uint32_t[]               | AsJagged(AsDtype('>u4'))\n",
      "MissingET.fBits      | uint32_t[]               | AsJagged(AsDtype('>u4'))\n",
      "MissingET.MET        | float[]                  | AsJagged(AsDtype('>f4'))\n",
      "MissingET.Eta        | float[]                  | AsJagged(AsDtype('>f4'))\n",
      "MissingET.Phi        | float[]                  | AsJagged(AsDtype('>f4'))\n"
     ]
    }
   ],
   "source": [
    "#show only specifc elements\n",
    "tree['MissingET'].show(filter_name=\"MissingET.*\")"
   ]
  },
  {
   "cell_type": "code",
   "execution_count": 14,
   "metadata": {},
   "outputs": [
    {
     "name": "stdout",
     "output_type": "stream",
     "text": [
      "name                                     | typename                 | interpretation                \n",
      "-----------------------------------------+--------------------------+-------------------------------\n",
      "Electron                                 | int32_t                  | AsDtype('>i4')                \n",
      "Electron.fUniqueID                       | uint32_t[]               | AsJagged(AsDtype('>u4'))\n",
      "Electron.fBits                           | uint32_t[]               | AsJagged(AsDtype('>u4'))\n",
      "Electron.PT                              | float[]                  | AsJagged(AsDtype('>f4'))\n",
      "Electron.Eta                             | float[]                  | AsJagged(AsDtype('>f4'))\n",
      "Electron.Phi                             | float[]                  | AsJagged(AsDtype('>f4'))\n",
      "Electron.T                               | float[]                  | AsJagged(AsDtype('>f4'))\n",
      "Electron.Charge                          | int32_t[]                | AsJagged(AsDtype('>i4'))\n",
      "Electron.EhadOverEem                     | float[]                  | AsJagged(AsDtype('>f4'))\n",
      "Electron.Particle                        | TRef[]                   | AsJagged(AsStridedObjects(M...\n",
      "Electron.IsolationVar                    | float[]                  | AsJagged(AsDtype('>f4'))\n",
      "Electron.IsolationVarRhoCorr             | float[]                  | AsJagged(AsDtype('>f4'))\n",
      "Electron.SumPtCharged                    | float[]                  | AsJagged(AsDtype('>f4'))\n",
      "Electron.SumPtNeutral                    | float[]                  | AsJagged(AsDtype('>f4'))\n",
      "Electron.SumPtChargedPU                  | float[]                  | AsJagged(AsDtype('>f4'))\n",
      "Electron.SumPt                           | float[]                  | AsJagged(AsDtype('>f4'))\n",
      "Electron.D0                              | float[]                  | AsJagged(AsDtype('>f4'))\n",
      "Electron.DZ                              | float[]                  | AsJagged(AsDtype('>f4'))\n",
      "Electron.ErrorD0                         | float[]                  | AsJagged(AsDtype('>f4'))\n",
      "Electron.ErrorDZ                         | float[]                  | AsJagged(AsDtype('>f4'))\n"
     ]
    }
   ],
   "source": [
    "\n",
    "tree['Electron'].show(filter_name=\"Electron.*\", name_width=40)"
   ]
  },
  {
   "cell_type": "code",
   "execution_count": 15,
   "metadata": {},
   "outputs": [
    {
     "data": {
      "text/plain": [
       "['Particle/Particle.PID',\n",
       " 'Particle/Particle.Status',\n",
       " 'Jet/Jet.PT',\n",
       " 'Jet/Jet.Eta',\n",
       " 'Jet/Jet.Phi',\n",
       " 'Jet/Jet.PTD',\n",
       " 'Electron/Electron.PT',\n",
       " 'Electron/Electron.Eta',\n",
       " 'Electron/Electron.Phi',\n",
       " 'Muon/Muon.PT',\n",
       " 'Muon/Muon.Eta',\n",
       " 'Muon/Muon.Phi',\n",
       " 'MissingET/MissingET.MET',\n",
       " 'MissingET/MissingET.Phi']"
      ]
     },
     "execution_count": 15,
     "metadata": {},
     "output_type": "execute_result"
    }
   ],
   "source": [
    "#specify the variables we are interested in\n",
    "tree.keys(filter_name=\"/(MissingET.(MET|Phi)|Particle.(PID|Status)|Electron.(PT|Eta|Phi)|\"\n",
    "          \"Muon.(PT|Eta|Phi)|Jet.(PT|Eta|Phi))/\")"
   ]
  },
  {
   "cell_type": "code",
   "execution_count": 11,
   "metadata": {},
   "outputs": [],
   "source": [
    "@numba.jit(nopython=True)\n",
    "def checkHiggs(batch):\n",
    "    higgs=np.full((len(batch),),False)\n",
    "    for i in range(len(batch)):\n",
    "        for p in range(len(batch[i]['Particle.PID'])):\n",
    "            if abs(batch[i]['Particle.PID'][p])==25:\n",
    "                higgs[i]=True\n",
    "                break\n",
    "    return higgs"
   ]
  },
  {
   "cell_type": "code",
   "execution_count": 12,
   "metadata": {},
   "outputs": [],
   "source": [
    "@numba.jit(nopython=True)\n",
    "def get_MET(batch):\n",
    "    met=np.zeros((len(batch),))\n",
    "    metPhi=np.zeros((len(batch),))\n",
    "    for i in range(len(batch)):\n",
    "        met[i]=float(batch[i]['MissingET.MET'][0])\n",
    "        metPhi[i]=float(batch[i]['MissingET.Phi'][0])\n",
    "    return met, metPhi"
   ]
  },
  {
   "cell_type": "code",
   "execution_count": 42,
   "metadata": {},
   "outputs": [],
   "source": [
    "@numba.jit(nopython=True)\n",
    "def get_minDRll(batch):\n",
    "    DRll=np.full((len(batch),),1000.)\n",
    "    for i in range(len(batch)):\n",
    "        leptons=[]\n",
    "\n",
    "        #loop over electrons\n",
    "        for e in range(len(batch[i]['Electron.PT'])):\n",
    "            leptons.append(vector.obj(pt=batch[i]['Electron.PT'][e], \n",
    "                                      phi=batch[i]['Electron.Phi'][e], \n",
    "                                      eta=batch[i]['Electron.Eta'][e], \n",
    "                                      mass=511./1e6))\n",
    "        #loop over muons\n",
    "        for m in range(len(batch[i]['Muon.PT'])):\n",
    "            leptons.append(vector.obj(pt=batch[i]['Muon.PT'][m], \n",
    "                                      phi=batch[i]['Muon.Phi'][m], \n",
    "                                      eta=batch[i]['Muon.Eta'][m], \n",
    "                                      mass=105.66/1e3)) # in GeV\n",
    "        mindr=DRll[i]\n",
    "        for l1 in leptons:\n",
    "            for l2 in leptons:\n",
    "                if l1==l2:\n",
    "                    continue\n",
    "                if l1.deltaR(l2)<mindr:\n",
    "                    mindr=l1.deltaR(l2)\n",
    "\n",
    "        met, metPhi = get_MET(batch)\n",
    "        #METvec = vector.obj(E=met, phi=metPhi)\n",
    "\n",
    "        for l1 in leptons:\n",
    "            for l2 in leptons:\n",
    "                if l1==l2:\n",
    "                    pass\n",
    "                else:\n",
    "                    for l0 in leptons:\n",
    "                        if l0 == l1:\n",
    "                            pass\n",
    "                        elif l0 == l2:\n",
    "                            pass\n",
    "                        else:\n",
    "                            PT_l0 = l0.p\n",
    "                            PT_l1 = l1.p\n",
    "                            PT_l2 = l2.p\n",
    "\n",
    "                            #deltaPhi_l0_MET = l1.deltaangle(METvec)\n",
    "                           # deltaPhi_l1_MET = l1.deltaangle(METvec)\n",
    "                            #deltaPhi_l2_MET = l2.deltaangle(METvec)\n",
    "                            \n",
    "                            invarM_l0l2=(l0.p2+l2.p2)**2\n",
    "                            invarM_l1l2=(l1.p2+l2.p2)**2\n",
    "                            invarM_l0l1=(l0.p2+l1.p2)**2\n",
    "\n",
    "                            invarM=(l1.p2+l2.p2+l0.p2)**2\n",
    "                            \n",
    "                            E_l1l2=np.sqrt((l1.p+l2.p)**2 + invarM_l1l2)\n",
    "                            E_l0l2=np.sqrt((l0.p+l2.p)**2 + invarM_l0l2)\n",
    "                            E_l0l1=np.sqrt((l0.p+l1.p)**2 + invarM_l0l1)\n",
    "                            transM_l1l2=np.sqrt((E_l1l2+batch[i]['MissingET.MET'][0])**2 - np.abs(l1.p * l2.p + batch[i]['MissingET.MET'][0])**2)\n",
    "                            transM_l0l2=np.sqrt((E_l0l2+batch[i]['MissingET.MET'][0])**2 - np.abs(l0.p * l2.p + batch[i]['MissingET.MET'][0])**2)\n",
    "                            transM_l0l1=np.sqrt((E_l0l1+batch[i]['MissingET.MET'][0])**2 - np.abs(l0.p * l1.p + batch[i]['MissingET.MET'][0])**2)\n",
    "                            \n",
    "                            deltaeta_l1l2=l1.deltaeta(l2)\n",
    "                            deltaeta_l0l2=l0.deltaeta(l2)\n",
    "                            deltaeta_l0l1=l0.deltaeta(l1)\n",
    "                            \n",
    "                            deltaangle_l1l2=l1.deltaangle(l2)\n",
    "                            deltaangle_l0l2=l0.deltaangle(l2)\n",
    "                            deltaangle_l0l1=l0.deltaangle(l1) \n",
    "\n",
    "                            dR_l1l2 = l1.deltaR(l2)\n",
    "                            dR_l0l1 = l0.deltaR(l1)\n",
    "                            dR_l0l2 = l0.deltaR(l2)\n",
    "\n",
    "                            totalP = l0.p + l1.p + l2.p \n",
    "        \n",
    "    DRll[i]=mindr\n",
    "    dataset = {'Number Leptons Produced': len(leptons), 'PT_l0': PT_l0, 'PT_l1': PT_l1, 'PT_l2': PT_l2, \n",
    "               'MET': met, 'MET_Phi': metPhi, \n",
    "               'm_l0l1': invarM_l0l1, 'm_l0l2': invarM_l0l2, 'm_l1l2': invarM_l1l2, 'm_lll': invarM,\n",
    "               'mT_l0l1': transM_l0l1, 'mT_l0l2': transM_l0l2, 'mT_l1l2': transM_l1l2, \n",
    "               'delEta_l0l1': deltaeta_l0l1, 'delEta_l0l2': deltaeta_l0l2, 'delEta_l1l2': deltaeta_l1l2,\n",
    "              'delPhi_l0l1': deltaangle_l0l1, 'delPhi_l0l2': deltaangle_l0l2, 'delPhi_l1l2': deltaangle_l1l2,\n",
    "              'delR_l0l1': dR_l0l1, 'delR_l0l2': dR_l0l2, 'delR_l1l2': dR_l1l2, \n",
    "               'DRll': DRll, 'sumPT': totalP}\n",
    "    print(dataset)\n",
    "\n",
    "    return dataset"
   ]
  },
  {
   "cell_type": "code",
   "execution_count": 18,
   "metadata": {},
   "outputs": [],
   "source": [
    "@numba.jit(nopython=True)\n",
    "def preselection(batch):\n",
    "    pass_selection=np.full((len(batch),),False)\n",
    "    for i in range(len(batch)):\n",
    "        nElectrons=0\n",
    "        nMuons=0\n",
    "        nJets=0\n",
    "\n",
    "        for e in range(len(batch[i]['Electron.PT'])):\n",
    "            if batch[i]['Electron.PT'][e]>=10.0 and abs(batch[i]['Electron.Eta'][e])<2.5:\n",
    "                nElectrons+=1\n",
    "\n",
    "\n",
    "        for m in range(len(batch[i]['Muon.PT'])):\n",
    "            if batch[i]['Muon.PT'][m]>=10.0 and abs(batch[i]['Muon.Eta'][m])<2.5:\n",
    "                nMuons+=1\n",
    "\n",
    "        for j in range(len(batch[i]['Jet.PT'])):\n",
    "            if batch[i]['Jet.PT'][j]>=25.0 and abs(batch[i]['Jet.Eta'][j])<2.5:\n",
    "                nJets+=1\n",
    "\n",
    "        if nElectrons+nMuons==3 and nJets<5:\n",
    "            pass_selection[i]=True\n",
    "\n",
    "    return pass_selection\n",
    "    "
   ]
  },
  {
   "cell_type": "code",
   "execution_count": 15,
   "metadata": {},
   "outputs": [
    {
     "ename": "IndentationError",
     "evalue": "expected an indented block (1679906316.py, line 1)",
     "output_type": "error",
     "traceback": [
      "\u001b[0;36m  Cell \u001b[0;32mIn[15], line 1\u001b[0;36m\u001b[0m\n\u001b[0;31m    def make_df():\u001b[0m\n\u001b[0m                  ^\u001b[0m\n\u001b[0;31mIndentationError\u001b[0m\u001b[0;31m:\u001b[0m expected an indented block\n"
     ]
    }
   ],
   "source": [
    "def batch_automator(batch):\n",
    "    for batch in tqdm(iterator, total=N_root_sig//batch_size):\n",
    "        higgs=checkHiggs(batch)\n",
    "        met, metPhi=get_MET(batch)\n",
    "        dr =get_minDRll(batch)\n",
    "        print(dr)\n",
    "        presel=preselection(batch)\n",
    "        if met_VH is not None:\n",
    "                met_VH=np.concatenate((met_VH,met[np.logical_and(higgs,presel)]),axis=0)\n",
    "                met_WWW=np.concatenate((met_WWW,met[np.logical_and(~higgs,presel)]),axis=0)\n",
    "\n",
    "                dr_VH=np.concatenate((dr_VH,dr[np.logical_and(higgs,presel)]),axis=0)\n",
    "                dr_WWW=np.concatenate((dr_WWW,dr[np.logical_and(~higgs,presel)]),axis=0)\n",
    "\n",
    "                #invarM_VH=np.concatenate((dr_VH,dr[np.logical_and(higgs,presel)]),axis=0)\n",
    "               # invarM_WWW=np.concatenate((dr_VH,dr[np.logical_and(higgs,presel)]),axis=0)\n",
    "        else:\n",
    "                met_VH=np.array(met[np.logical_and(higgs,presel)])\n",
    "                met_WWW=np.array(met[np.logical_and(~higgs,presel)])\n",
    "\n",
    "                dr_VH=np.array(dr[np.logical_and(higgs,presel)])\n",
    "                dr_WWW=np.array(dr[np.logical_and(~higgs,presel)])\n",
    "\n",
    "              # invarM_VH=np.array(dr[np.logical_and(higgs,presel)])\n",
    "              #  invarM_WWW=np.array(dr[np.logical_and(~higgs,presel)])"
   ]
  },
  {
   "cell_type": "code",
   "execution_count": 45,
   "metadata": {},
   "outputs": [],
   "source": [
    "def make_df(N_root_sig, batch_size, iterator):\n",
    "    df = None\n",
    "    ntotal_VH=0\n",
    "    nselected_VH=0\n",
    "    ntotal_WWW=0\n",
    "    nselected_WWW=0\n",
    "    for batch in tqdm(iterator, total=N_root_sig//batch_size):       \n",
    "        higgs=checkHiggs(batch)\n",
    "        presel=preselection(batch)\n",
    "        if df is not None:\n",
    "            newdata = pd.DataFrame.from_dict(get_minDRll(batch))\n",
    "            df = pd.concat([df, newdata], axis = 0, ignore_index=True)\n",
    "            \n",
    "        else:\n",
    "            df = pd.DataFrame.from_dict(get_minDRll(batch))\n",
    "\n",
    "        ntotal_VH+=higgs.sum()\n",
    "        ntotal_WWW+=(~higgs).sum()\n",
    "        nselected_VH+=np.logical_and(higgs,presel).sum()\n",
    "        nselected_WWW+=np.logical_and(~higgs,presel).sum()\n",
    "\n",
    "    #print(\"Preselection efficiency for VH events: %2.2f %%\"%(100.*nselected_VH/ntotal_VH))\n",
    "    #print(\"Preselection efficiency for WWW events: %2.2f %%\"%(100.*nselected_WWW/ntotal_WWW))\n",
    "\n",
    "    #df = df[(df['MET'][np.logical_and(higgs,presel)] == True) & (df['DRll'][np.logical_and(higgs,presel)] == True)]\n",
    "    return df \n"
   ]
  },
  {
   "cell_type": "code",
   "execution_count": 48,
   "metadata": {},
   "outputs": [
    {
     "ename": "IndentationError",
     "evalue": "unindent does not match any outer indentation level (<tokenize>, line 10)",
     "output_type": "error",
     "traceback": [
      "\u001b[0;36m  File \u001b[0;32m<tokenize>:10\u001b[0;36m\u001b[0m\n\u001b[0;31m    ntotal_VH+=higgs.sum()\u001b[0m\n\u001b[0m    ^\u001b[0m\n\u001b[0;31mIndentationError\u001b[0m\u001b[0;31m:\u001b[0m unindent does not match any outer indentation level\n"
     ]
    }
   ],
   "source": [
    "def make_df(N_root_sig, batch_size, iterator):\n",
    "    df = None\n",
    "    ntotal_VH=0\n",
    "    nselected_VH=0\n",
    "    ntotal_WWW=0\n",
    "    nselected_WWW=0\n",
    "    for batch in tqdm(iterator, total=N_root_sig//batch_size):       \n",
    "            df = pd.DataFrame.from_dict(get_minDRll(batch))\n",
    "\n",
    "        ntotal_VH+=higgs.sum()\n",
    "        ntotal_WWW+=(~higgs).sum()\n",
    "        nselected_VH+=np.logical_and(higgs,presel).sum()\n",
    "        nselected_WWW+=np.logical_and(~higgs,presel).sum()\n",
    "\n",
    "    #print(\"Preselection efficiency for VH events: %2.2f %%\"%(100.*nselected_VH/ntotal_VH))\n",
    "    #print(\"Preselection efficiency for WWW events: %2.2f %%\"%(100.*nselected_WWW/ntotal_WWW))\n",
    "\n",
    "    #df = df[(df['MET'][np.logical_and(higgs,presel)] == True) & (df['DRll'][np.logical_and(higgs,presel)] == True)]\n",
    "    return df "
   ]
  },
  {
   "cell_type": "code",
   "execution_count": 49,
   "metadata": {},
   "outputs": [
    {
     "name": "stderr",
     "output_type": "stream",
     "text": [
      "  0%|                                                                                                                                                                                 | 0/102 [00:00<?, ?it/s]\n"
     ]
    },
    {
     "ename": "LoweringError",
     "evalue": "Failed in nopython mode pipeline (step: native lowering)\nunhashable type: 'dict'\n\nFile \"../../../tmp/ipykernel_468254/1541308511.py\", line 85:\n<source missing, REPL/exec in use?>\n\nDuring: lowering \"print(dataset)\" at /tmp/ipykernel_468254/1541308511.py (85)",
     "output_type": "error",
     "traceback": [
      "\u001b[0;31m---------------------------------------------------------------------------\u001b[0m",
      "\u001b[0;31mTypeError\u001b[0m                                 Traceback (most recent call last)",
      "File \u001b[0;32m/localscratch/stenhout/myvenv/lib/python3.9/site-packages/numba/core/errors.py:823\u001b[0m, in \u001b[0;36mnew_error_context\u001b[0;34m(fmt_, *args, **kwargs)\u001b[0m\n\u001b[1;32m    822\u001b[0m \u001b[38;5;28;01mtry\u001b[39;00m:\n\u001b[0;32m--> 823\u001b[0m     \u001b[38;5;28;01myield\u001b[39;00m\n\u001b[1;32m    824\u001b[0m \u001b[38;5;28;01mexcept\u001b[39;00m NumbaError \u001b[38;5;28;01mas\u001b[39;00m e:\n",
      "File \u001b[0;32m/localscratch/stenhout/myvenv/lib/python3.9/site-packages/numba/core/lowering.py:285\u001b[0m, in \u001b[0;36mBaseLower.lower_block\u001b[0;34m(self, block)\u001b[0m\n\u001b[1;32m    283\u001b[0m     \u001b[38;5;28;01mwith\u001b[39;00m new_error_context(\u001b[38;5;124m'\u001b[39m\u001b[38;5;124mlowering \u001b[39m\u001b[38;5;124m\"\u001b[39m\u001b[38;5;132;01m{inst}\u001b[39;00m\u001b[38;5;124m\"\u001b[39m\u001b[38;5;124m at \u001b[39m\u001b[38;5;132;01m{loc}\u001b[39;00m\u001b[38;5;124m'\u001b[39m, inst\u001b[38;5;241m=\u001b[39minst,\n\u001b[1;32m    284\u001b[0m                            loc\u001b[38;5;241m=\u001b[39m\u001b[38;5;28mself\u001b[39m\u001b[38;5;241m.\u001b[39mloc, errcls_\u001b[38;5;241m=\u001b[39mdefaulterrcls):\n\u001b[0;32m--> 285\u001b[0m         \u001b[38;5;28;43mself\u001b[39;49m\u001b[38;5;241;43m.\u001b[39;49m\u001b[43mlower_inst\u001b[49m\u001b[43m(\u001b[49m\u001b[43minst\u001b[49m\u001b[43m)\u001b[49m\n\u001b[1;32m    286\u001b[0m \u001b[38;5;28mself\u001b[39m\u001b[38;5;241m.\u001b[39mpost_block(block)\n",
      "File \u001b[0;32m/localscratch/stenhout/myvenv/lib/python3.9/site-packages/numba/core/lowering.py:525\u001b[0m, in \u001b[0;36mLower.lower_inst\u001b[0;34m(self, inst)\u001b[0m\n\u001b[1;32m    524\u001b[0m \u001b[38;5;28;01melif\u001b[39;00m \u001b[38;5;28misinstance\u001b[39m(inst, ir\u001b[38;5;241m.\u001b[39mPrint):\n\u001b[0;32m--> 525\u001b[0m     \u001b[38;5;28;43mself\u001b[39;49m\u001b[38;5;241;43m.\u001b[39;49m\u001b[43mlower_print\u001b[49m\u001b[43m(\u001b[49m\u001b[43minst\u001b[49m\u001b[43m)\u001b[49m\n\u001b[1;32m    527\u001b[0m \u001b[38;5;28;01melif\u001b[39;00m \u001b[38;5;28misinstance\u001b[39m(inst, ir\u001b[38;5;241m.\u001b[39mSetItem):\n",
      "File \u001b[0;32m/localscratch/stenhout/myvenv/lib/python3.9/site-packages/numba/core/lowering.py:913\u001b[0m, in \u001b[0;36mLower.lower_print\u001b[0;34m(self, inst)\u001b[0m\n\u001b[1;32m    912\u001b[0m impl \u001b[38;5;241m=\u001b[39m \u001b[38;5;28mself\u001b[39m\u001b[38;5;241m.\u001b[39mcontext\u001b[38;5;241m.\u001b[39mget_function(\u001b[38;5;28mprint\u001b[39m, fixed_sig)\n\u001b[0;32m--> 913\u001b[0m \u001b[43mimpl\u001b[49m\u001b[43m(\u001b[49m\u001b[38;5;28;43mself\u001b[39;49m\u001b[38;5;241;43m.\u001b[39;49m\u001b[43mbuilder\u001b[49m\u001b[43m,\u001b[49m\u001b[43m \u001b[49m\u001b[43margvals\u001b[49m\u001b[43m)\u001b[49m\n",
      "File \u001b[0;32m/localscratch/stenhout/myvenv/lib/python3.9/site-packages/numba/core/base.py:1187\u001b[0m, in \u001b[0;36m_wrap_impl.__call__\u001b[0;34m(self, builder, args, loc)\u001b[0m\n\u001b[1;32m   1186\u001b[0m \u001b[38;5;28;01mdef\u001b[39;00m \u001b[38;5;21m__call__\u001b[39m(\u001b[38;5;28mself\u001b[39m, builder, args, loc\u001b[38;5;241m=\u001b[39m\u001b[38;5;28;01mNone\u001b[39;00m):\n\u001b[0;32m-> 1187\u001b[0m     res \u001b[38;5;241m=\u001b[39m \u001b[38;5;28;43mself\u001b[39;49m\u001b[38;5;241;43m.\u001b[39;49m\u001b[43m_imp\u001b[49m\u001b[43m(\u001b[49m\u001b[38;5;28;43mself\u001b[39;49m\u001b[38;5;241;43m.\u001b[39;49m\u001b[43m_context\u001b[49m\u001b[43m,\u001b[49m\u001b[43m \u001b[49m\u001b[43mbuilder\u001b[49m\u001b[43m,\u001b[49m\u001b[43m \u001b[49m\u001b[38;5;28;43mself\u001b[39;49m\u001b[38;5;241;43m.\u001b[39;49m\u001b[43m_sig\u001b[49m\u001b[43m,\u001b[49m\u001b[43m \u001b[49m\u001b[43margs\u001b[49m\u001b[43m,\u001b[49m\u001b[43m \u001b[49m\u001b[43mloc\u001b[49m\u001b[38;5;241;43m=\u001b[39;49m\u001b[43mloc\u001b[49m\u001b[43m)\u001b[49m\n\u001b[1;32m   1188\u001b[0m     \u001b[38;5;28mself\u001b[39m\u001b[38;5;241m.\u001b[39m_context\u001b[38;5;241m.\u001b[39madd_linking_libs(\u001b[38;5;28mgetattr\u001b[39m(\u001b[38;5;28mself\u001b[39m, \u001b[38;5;124m'\u001b[39m\u001b[38;5;124mlibs\u001b[39m\u001b[38;5;124m'\u001b[39m, ()))\n",
      "File \u001b[0;32m/localscratch/stenhout/myvenv/lib/python3.9/site-packages/numba/core/base.py:1217\u001b[0m, in \u001b[0;36m_wrap_missing_loc.__call__.<locals>.wrapper\u001b[0;34m(*args, **kwargs)\u001b[0m\n\u001b[1;32m   1216\u001b[0m kwargs\u001b[38;5;241m.\u001b[39mpop(\u001b[38;5;124m'\u001b[39m\u001b[38;5;124mloc\u001b[39m\u001b[38;5;124m'\u001b[39m)     \u001b[38;5;66;03m# drop unused loc\u001b[39;00m\n\u001b[0;32m-> 1217\u001b[0m \u001b[38;5;28;01mreturn\u001b[39;00m \u001b[43mfn\u001b[49m\u001b[43m(\u001b[49m\u001b[38;5;241;43m*\u001b[39;49m\u001b[43margs\u001b[49m\u001b[43m,\u001b[49m\u001b[43m \u001b[49m\u001b[38;5;241;43m*\u001b[39;49m\u001b[38;5;241;43m*\u001b[39;49m\u001b[43mkwargs\u001b[49m\u001b[43m)\u001b[49m\n",
      "File \u001b[0;32m/localscratch/stenhout/myvenv/lib/python3.9/site-packages/numba/cpython/printimpl.py:75\u001b[0m, in \u001b[0;36mprint_varargs_impl\u001b[0;34m(context, builder, sig, args)\u001b[0m\n\u001b[1;32m     74\u001b[0m imp \u001b[38;5;241m=\u001b[39m context\u001b[38;5;241m.\u001b[39mget_function(\u001b[38;5;124m\"\u001b[39m\u001b[38;5;124mprint_item\u001b[39m\u001b[38;5;124m\"\u001b[39m, signature)\n\u001b[0;32m---> 75\u001b[0m \u001b[43mimp\u001b[49m\u001b[43m(\u001b[49m\u001b[43mbuilder\u001b[49m\u001b[43m,\u001b[49m\u001b[43m \u001b[49m\u001b[43m[\u001b[49m\u001b[43margval\u001b[49m\u001b[43m]\u001b[49m\u001b[43m)\u001b[49m\n\u001b[1;32m     76\u001b[0m \u001b[38;5;28;01mif\u001b[39;00m i \u001b[38;5;241m<\u001b[39m \u001b[38;5;28mlen\u001b[39m(args) \u001b[38;5;241m-\u001b[39m \u001b[38;5;241m1\u001b[39m:\n",
      "File \u001b[0;32m/localscratch/stenhout/myvenv/lib/python3.9/site-packages/numba/core/base.py:1187\u001b[0m, in \u001b[0;36m_wrap_impl.__call__\u001b[0;34m(self, builder, args, loc)\u001b[0m\n\u001b[1;32m   1186\u001b[0m \u001b[38;5;28;01mdef\u001b[39;00m \u001b[38;5;21m__call__\u001b[39m(\u001b[38;5;28mself\u001b[39m, builder, args, loc\u001b[38;5;241m=\u001b[39m\u001b[38;5;28;01mNone\u001b[39;00m):\n\u001b[0;32m-> 1187\u001b[0m     res \u001b[38;5;241m=\u001b[39m \u001b[38;5;28;43mself\u001b[39;49m\u001b[38;5;241;43m.\u001b[39;49m\u001b[43m_imp\u001b[49m\u001b[43m(\u001b[49m\u001b[38;5;28;43mself\u001b[39;49m\u001b[38;5;241;43m.\u001b[39;49m\u001b[43m_context\u001b[49m\u001b[43m,\u001b[49m\u001b[43m \u001b[49m\u001b[43mbuilder\u001b[49m\u001b[43m,\u001b[49m\u001b[43m \u001b[49m\u001b[38;5;28;43mself\u001b[39;49m\u001b[38;5;241;43m.\u001b[39;49m\u001b[43m_sig\u001b[49m\u001b[43m,\u001b[49m\u001b[43m \u001b[49m\u001b[43margs\u001b[49m\u001b[43m,\u001b[49m\u001b[43m \u001b[49m\u001b[43mloc\u001b[49m\u001b[38;5;241;43m=\u001b[39;49m\u001b[43mloc\u001b[49m\u001b[43m)\u001b[49m\n\u001b[1;32m   1188\u001b[0m     \u001b[38;5;28mself\u001b[39m\u001b[38;5;241m.\u001b[39m_context\u001b[38;5;241m.\u001b[39madd_linking_libs(\u001b[38;5;28mgetattr\u001b[39m(\u001b[38;5;28mself\u001b[39m, \u001b[38;5;124m'\u001b[39m\u001b[38;5;124mlibs\u001b[39m\u001b[38;5;124m'\u001b[39m, ()))\n",
      "File \u001b[0;32m/localscratch/stenhout/myvenv/lib/python3.9/site-packages/numba/core/base.py:1217\u001b[0m, in \u001b[0;36m_wrap_missing_loc.__call__.<locals>.wrapper\u001b[0;34m(*args, **kwargs)\u001b[0m\n\u001b[1;32m   1216\u001b[0m kwargs\u001b[38;5;241m.\u001b[39mpop(\u001b[38;5;124m'\u001b[39m\u001b[38;5;124mloc\u001b[39m\u001b[38;5;124m'\u001b[39m)     \u001b[38;5;66;03m# drop unused loc\u001b[39;00m\n\u001b[0;32m-> 1217\u001b[0m \u001b[38;5;28;01mreturn\u001b[39;00m \u001b[43mfn\u001b[49m\u001b[43m(\u001b[49m\u001b[38;5;241;43m*\u001b[39;49m\u001b[43margs\u001b[49m\u001b[43m,\u001b[49m\u001b[43m \u001b[49m\u001b[38;5;241;43m*\u001b[39;49m\u001b[38;5;241;43m*\u001b[39;49m\u001b[43mkwargs\u001b[49m\u001b[43m)\u001b[49m\n",
      "File \u001b[0;32m/localscratch/stenhout/myvenv/lib/python3.9/site-packages/numba/cpython/printimpl.py:25\u001b[0m, in \u001b[0;36mprint_item_impl\u001b[0;34m(context, builder, sig, args)\u001b[0m\n\u001b[1;32m     23\u001b[0m pyapi \u001b[38;5;241m=\u001b[39m context\u001b[38;5;241m.\u001b[39mget_python_api(builder)\n\u001b[0;32m---> 25\u001b[0m strobj \u001b[38;5;241m=\u001b[39m pyapi\u001b[38;5;241m.\u001b[39munserialize(\u001b[43mpyapi\u001b[49m\u001b[38;5;241;43m.\u001b[39;49m\u001b[43mserialize_object\u001b[49m\u001b[43m(\u001b[49m\u001b[43mval\u001b[49m\u001b[43m)\u001b[49m)\n\u001b[1;32m     26\u001b[0m pyapi\u001b[38;5;241m.\u001b[39mprint_object(strobj)\n",
      "File \u001b[0;32m/localscratch/stenhout/myvenv/lib/python3.9/site-packages/numba/core/pythonapi.py:1393\u001b[0m, in \u001b[0;36mPythonAPI.serialize_object\u001b[0;34m(self, obj)\u001b[0m\n\u001b[1;32m   1392\u001b[0m \u001b[38;5;28;01mtry\u001b[39;00m:\n\u001b[0;32m-> 1393\u001b[0m     gv \u001b[38;5;241m=\u001b[39m \u001b[38;5;28;43mself\u001b[39;49m\u001b[38;5;241;43m.\u001b[39;49m\u001b[43mmodule\u001b[49m\u001b[38;5;241;43m.\u001b[39;49m\u001b[43m__serialized\u001b[49m\u001b[43m[\u001b[49m\u001b[43mobj\u001b[49m\u001b[43m]\u001b[49m\n\u001b[1;32m   1394\u001b[0m \u001b[38;5;28;01mexcept\u001b[39;00m \u001b[38;5;167;01mKeyError\u001b[39;00m:\n",
      "\u001b[0;31mTypeError\u001b[0m: unhashable type: 'dict'",
      "\nDuring handling of the above exception, another exception occurred:\n",
      "\u001b[0;31mLoweringError\u001b[0m                             Traceback (most recent call last)",
      "Cell \u001b[0;32mIn[49], line 11\u001b[0m\n\u001b[1;32m      9\u001b[0m nselected_WWW\u001b[38;5;241m=\u001b[39m\u001b[38;5;241m0\u001b[39m\n\u001b[1;32m     10\u001b[0m iterator \u001b[38;5;241m=\u001b[39m uproot\u001b[38;5;241m.\u001b[39miterate([f\u001b[38;5;241m+\u001b[39m\u001b[38;5;124m\"\u001b[39m\u001b[38;5;124m:Delphes\u001b[39m\u001b[38;5;124m\"\u001b[39m \u001b[38;5;28;01mfor\u001b[39;00m f \u001b[38;5;129;01min\u001b[39;00m root_signal],step_size\u001b[38;5;241m=\u001b[39mbatch_size, filter_name\u001b[38;5;241m=\u001b[39mmyfilter)\n\u001b[0;32m---> 11\u001b[0m \u001b[43mmake_df\u001b[49m\u001b[43m(\u001b[49m\u001b[43mN_root_sig\u001b[49m\u001b[43m,\u001b[49m\u001b[43m \u001b[49m\u001b[43mbatch_size\u001b[49m\u001b[43m,\u001b[49m\u001b[43m \u001b[49m\u001b[43miterator\u001b[49m\u001b[43m)\u001b[49m\n\u001b[1;32m     12\u001b[0m               \u001b[38;5;66;03m# invarM_VH=np.array(dr[np.logical_and(higgs,presel)])\u001b[39;00m\n\u001b[1;32m     13\u001b[0m               \u001b[38;5;66;03m#  invarM_WWW=np.array(dr[np.logical_and(~higgs,presel)])\u001b[39;00m\n\u001b[1;32m     14\u001b[0m \n\u001b[1;32m     15\u001b[0m \u001b[38;5;66;03m#print(\"Preselection efficiency for VH events: %2.2f %%\"%(100.*nselected_VH/ntotal_VH))\u001b[39;00m\n\u001b[1;32m     16\u001b[0m \u001b[38;5;66;03m#print(\"Preselection efficiency for WWW events: %2.2f %%\"%(100.*nselected_WWW/ntotal_WWW))\u001b[39;00m\n",
      "Cell \u001b[0;32mIn[45], line 15\u001b[0m, in \u001b[0;36mmake_df\u001b[0;34m(N_root_sig, batch_size, iterator)\u001b[0m\n\u001b[1;32m     12\u001b[0m     df \u001b[38;5;241m=\u001b[39m pd\u001b[38;5;241m.\u001b[39mconcat([df, newdata], axis \u001b[38;5;241m=\u001b[39m \u001b[38;5;241m0\u001b[39m, ignore_index\u001b[38;5;241m=\u001b[39m\u001b[38;5;28;01mTrue\u001b[39;00m)\n\u001b[1;32m     14\u001b[0m \u001b[38;5;28;01melse\u001b[39;00m:\n\u001b[0;32m---> 15\u001b[0m     df \u001b[38;5;241m=\u001b[39m pd\u001b[38;5;241m.\u001b[39mDataFrame\u001b[38;5;241m.\u001b[39mfrom_dict(\u001b[43mget_minDRll\u001b[49m\u001b[43m(\u001b[49m\u001b[43mbatch\u001b[49m\u001b[43m)\u001b[49m)\n\u001b[1;32m     17\u001b[0m ntotal_VH\u001b[38;5;241m+\u001b[39m\u001b[38;5;241m=\u001b[39mhiggs\u001b[38;5;241m.\u001b[39msum()\n\u001b[1;32m     18\u001b[0m ntotal_WWW\u001b[38;5;241m+\u001b[39m\u001b[38;5;241m=\u001b[39m(\u001b[38;5;241m~\u001b[39mhiggs)\u001b[38;5;241m.\u001b[39msum()\n",
      "File \u001b[0;32m/localscratch/stenhout/myvenv/lib/python3.9/site-packages/numba/core/dispatcher.py:487\u001b[0m, in \u001b[0;36m_DispatcherBase._compile_for_args\u001b[0;34m(self, *args, **kws)\u001b[0m\n\u001b[1;32m    485\u001b[0m             e\u001b[38;5;241m.\u001b[39mpatch_message(\u001b[38;5;124m'\u001b[39m\u001b[38;5;130;01m\\n\u001b[39;00m\u001b[38;5;124m'\u001b[39m\u001b[38;5;241m.\u001b[39mjoin((\u001b[38;5;28mstr\u001b[39m(e)\u001b[38;5;241m.\u001b[39mrstrip(), help_msg)))\n\u001b[1;32m    486\u001b[0m     \u001b[38;5;66;03m# ignore the FULL_TRACEBACKS config, this needs reporting!\u001b[39;00m\n\u001b[0;32m--> 487\u001b[0m     \u001b[38;5;28;01mraise\u001b[39;00m e\n\u001b[1;32m    488\u001b[0m \u001b[38;5;28;01mfinally\u001b[39;00m:\n\u001b[1;32m    489\u001b[0m     \u001b[38;5;28mself\u001b[39m\u001b[38;5;241m.\u001b[39m_types_active_call \u001b[38;5;241m=\u001b[39m []\n",
      "File \u001b[0;32m/localscratch/stenhout/myvenv/lib/python3.9/site-packages/numba/core/dispatcher.py:420\u001b[0m, in \u001b[0;36m_DispatcherBase._compile_for_args\u001b[0;34m(self, *args, **kws)\u001b[0m\n\u001b[1;32m    418\u001b[0m return_val \u001b[38;5;241m=\u001b[39m \u001b[38;5;28;01mNone\u001b[39;00m\n\u001b[1;32m    419\u001b[0m \u001b[38;5;28;01mtry\u001b[39;00m:\n\u001b[0;32m--> 420\u001b[0m     return_val \u001b[38;5;241m=\u001b[39m \u001b[38;5;28;43mself\u001b[39;49m\u001b[38;5;241;43m.\u001b[39;49m\u001b[43mcompile\u001b[49m\u001b[43m(\u001b[49m\u001b[38;5;28;43mtuple\u001b[39;49m\u001b[43m(\u001b[49m\u001b[43margtypes\u001b[49m\u001b[43m)\u001b[49m\u001b[43m)\u001b[49m\n\u001b[1;32m    421\u001b[0m \u001b[38;5;28;01mexcept\u001b[39;00m errors\u001b[38;5;241m.\u001b[39mForceLiteralArg \u001b[38;5;28;01mas\u001b[39;00m e:\n\u001b[1;32m    422\u001b[0m     \u001b[38;5;66;03m# Received request for compiler re-entry with the list of arguments\u001b[39;00m\n\u001b[1;32m    423\u001b[0m     \u001b[38;5;66;03m# indicated by e.requested_args.\u001b[39;00m\n\u001b[1;32m    424\u001b[0m     \u001b[38;5;66;03m# First, check if any of these args are already Literal-ized\u001b[39;00m\n\u001b[1;32m    425\u001b[0m     already_lit_pos \u001b[38;5;241m=\u001b[39m [i \u001b[38;5;28;01mfor\u001b[39;00m i \u001b[38;5;129;01min\u001b[39;00m e\u001b[38;5;241m.\u001b[39mrequested_args\n\u001b[1;32m    426\u001b[0m                        \u001b[38;5;28;01mif\u001b[39;00m \u001b[38;5;28misinstance\u001b[39m(args[i], types\u001b[38;5;241m.\u001b[39mLiteral)]\n",
      "File \u001b[0;32m/localscratch/stenhout/myvenv/lib/python3.9/site-packages/numba/core/dispatcher.py:965\u001b[0m, in \u001b[0;36mDispatcher.compile\u001b[0;34m(self, sig)\u001b[0m\n\u001b[1;32m    963\u001b[0m \u001b[38;5;28;01mwith\u001b[39;00m ev\u001b[38;5;241m.\u001b[39mtrigger_event(\u001b[38;5;124m\"\u001b[39m\u001b[38;5;124mnumba:compile\u001b[39m\u001b[38;5;124m\"\u001b[39m, data\u001b[38;5;241m=\u001b[39mev_details):\n\u001b[1;32m    964\u001b[0m     \u001b[38;5;28;01mtry\u001b[39;00m:\n\u001b[0;32m--> 965\u001b[0m         cres \u001b[38;5;241m=\u001b[39m \u001b[38;5;28;43mself\u001b[39;49m\u001b[38;5;241;43m.\u001b[39;49m\u001b[43m_compiler\u001b[49m\u001b[38;5;241;43m.\u001b[39;49m\u001b[43mcompile\u001b[49m\u001b[43m(\u001b[49m\u001b[43margs\u001b[49m\u001b[43m,\u001b[49m\u001b[43m \u001b[49m\u001b[43mreturn_type\u001b[49m\u001b[43m)\u001b[49m\n\u001b[1;32m    966\u001b[0m     \u001b[38;5;28;01mexcept\u001b[39;00m errors\u001b[38;5;241m.\u001b[39mForceLiteralArg \u001b[38;5;28;01mas\u001b[39;00m e:\n\u001b[1;32m    967\u001b[0m         \u001b[38;5;28;01mdef\u001b[39;00m \u001b[38;5;21mfolded\u001b[39m(args, kws):\n",
      "File \u001b[0;32m/localscratch/stenhout/myvenv/lib/python3.9/site-packages/numba/core/dispatcher.py:125\u001b[0m, in \u001b[0;36m_FunctionCompiler.compile\u001b[0;34m(self, args, return_type)\u001b[0m\n\u001b[1;32m    124\u001b[0m \u001b[38;5;28;01mdef\u001b[39;00m \u001b[38;5;21mcompile\u001b[39m(\u001b[38;5;28mself\u001b[39m, args, return_type):\n\u001b[0;32m--> 125\u001b[0m     status, retval \u001b[38;5;241m=\u001b[39m \u001b[38;5;28;43mself\u001b[39;49m\u001b[38;5;241;43m.\u001b[39;49m\u001b[43m_compile_cached\u001b[49m\u001b[43m(\u001b[49m\u001b[43margs\u001b[49m\u001b[43m,\u001b[49m\u001b[43m \u001b[49m\u001b[43mreturn_type\u001b[49m\u001b[43m)\u001b[49m\n\u001b[1;32m    126\u001b[0m     \u001b[38;5;28;01mif\u001b[39;00m status:\n\u001b[1;32m    127\u001b[0m         \u001b[38;5;28;01mreturn\u001b[39;00m retval\n",
      "File \u001b[0;32m/localscratch/stenhout/myvenv/lib/python3.9/site-packages/numba/core/dispatcher.py:139\u001b[0m, in \u001b[0;36m_FunctionCompiler._compile_cached\u001b[0;34m(self, args, return_type)\u001b[0m\n\u001b[1;32m    136\u001b[0m     \u001b[38;5;28;01mpass\u001b[39;00m\n\u001b[1;32m    138\u001b[0m \u001b[38;5;28;01mtry\u001b[39;00m:\n\u001b[0;32m--> 139\u001b[0m     retval \u001b[38;5;241m=\u001b[39m \u001b[38;5;28;43mself\u001b[39;49m\u001b[38;5;241;43m.\u001b[39;49m\u001b[43m_compile_core\u001b[49m\u001b[43m(\u001b[49m\u001b[43margs\u001b[49m\u001b[43m,\u001b[49m\u001b[43m \u001b[49m\u001b[43mreturn_type\u001b[49m\u001b[43m)\u001b[49m\n\u001b[1;32m    140\u001b[0m \u001b[38;5;28;01mexcept\u001b[39;00m errors\u001b[38;5;241m.\u001b[39mTypingError \u001b[38;5;28;01mas\u001b[39;00m e:\n\u001b[1;32m    141\u001b[0m     \u001b[38;5;28mself\u001b[39m\u001b[38;5;241m.\u001b[39m_failed_cache[key] \u001b[38;5;241m=\u001b[39m e\n",
      "File \u001b[0;32m/localscratch/stenhout/myvenv/lib/python3.9/site-packages/numba/core/dispatcher.py:152\u001b[0m, in \u001b[0;36m_FunctionCompiler._compile_core\u001b[0;34m(self, args, return_type)\u001b[0m\n\u001b[1;32m    149\u001b[0m flags \u001b[38;5;241m=\u001b[39m \u001b[38;5;28mself\u001b[39m\u001b[38;5;241m.\u001b[39m_customize_flags(flags)\n\u001b[1;32m    151\u001b[0m impl \u001b[38;5;241m=\u001b[39m \u001b[38;5;28mself\u001b[39m\u001b[38;5;241m.\u001b[39m_get_implementation(args, {})\n\u001b[0;32m--> 152\u001b[0m cres \u001b[38;5;241m=\u001b[39m \u001b[43mcompiler\u001b[49m\u001b[38;5;241;43m.\u001b[39;49m\u001b[43mcompile_extra\u001b[49m\u001b[43m(\u001b[49m\u001b[38;5;28;43mself\u001b[39;49m\u001b[38;5;241;43m.\u001b[39;49m\u001b[43mtargetdescr\u001b[49m\u001b[38;5;241;43m.\u001b[39;49m\u001b[43mtyping_context\u001b[49m\u001b[43m,\u001b[49m\n\u001b[1;32m    153\u001b[0m \u001b[43m                              \u001b[49m\u001b[38;5;28;43mself\u001b[39;49m\u001b[38;5;241;43m.\u001b[39;49m\u001b[43mtargetdescr\u001b[49m\u001b[38;5;241;43m.\u001b[39;49m\u001b[43mtarget_context\u001b[49m\u001b[43m,\u001b[49m\n\u001b[1;32m    154\u001b[0m \u001b[43m                              \u001b[49m\u001b[43mimpl\u001b[49m\u001b[43m,\u001b[49m\n\u001b[1;32m    155\u001b[0m \u001b[43m                              \u001b[49m\u001b[43margs\u001b[49m\u001b[38;5;241;43m=\u001b[39;49m\u001b[43margs\u001b[49m\u001b[43m,\u001b[49m\u001b[43m \u001b[49m\u001b[43mreturn_type\u001b[49m\u001b[38;5;241;43m=\u001b[39;49m\u001b[43mreturn_type\u001b[49m\u001b[43m,\u001b[49m\n\u001b[1;32m    156\u001b[0m \u001b[43m                              \u001b[49m\u001b[43mflags\u001b[49m\u001b[38;5;241;43m=\u001b[39;49m\u001b[43mflags\u001b[49m\u001b[43m,\u001b[49m\u001b[43m \u001b[49m\u001b[38;5;28;43mlocals\u001b[39;49m\u001b[38;5;241;43m=\u001b[39;49m\u001b[38;5;28;43mself\u001b[39;49m\u001b[38;5;241;43m.\u001b[39;49m\u001b[43mlocals\u001b[49m\u001b[43m,\u001b[49m\n\u001b[1;32m    157\u001b[0m \u001b[43m                              \u001b[49m\u001b[43mpipeline_class\u001b[49m\u001b[38;5;241;43m=\u001b[39;49m\u001b[38;5;28;43mself\u001b[39;49m\u001b[38;5;241;43m.\u001b[39;49m\u001b[43mpipeline_class\u001b[49m\u001b[43m)\u001b[49m\n\u001b[1;32m    158\u001b[0m \u001b[38;5;66;03m# Check typing error if object mode is used\u001b[39;00m\n\u001b[1;32m    159\u001b[0m \u001b[38;5;28;01mif\u001b[39;00m cres\u001b[38;5;241m.\u001b[39mtyping_error \u001b[38;5;129;01mis\u001b[39;00m \u001b[38;5;129;01mnot\u001b[39;00m \u001b[38;5;28;01mNone\u001b[39;00m \u001b[38;5;129;01mand\u001b[39;00m \u001b[38;5;129;01mnot\u001b[39;00m flags\u001b[38;5;241m.\u001b[39menable_pyobject:\n",
      "File \u001b[0;32m/localscratch/stenhout/myvenv/lib/python3.9/site-packages/numba/core/compiler.py:762\u001b[0m, in \u001b[0;36mcompile_extra\u001b[0;34m(typingctx, targetctx, func, args, return_type, flags, locals, library, pipeline_class)\u001b[0m\n\u001b[1;32m    738\u001b[0m \u001b[38;5;250m\u001b[39m\u001b[38;5;124;03m\"\"\"Compiler entry point\u001b[39;00m\n\u001b[1;32m    739\u001b[0m \n\u001b[1;32m    740\u001b[0m \u001b[38;5;124;03mParameter\u001b[39;00m\n\u001b[0;32m   (...)\u001b[0m\n\u001b[1;32m    758\u001b[0m \u001b[38;5;124;03m    compiler pipeline\u001b[39;00m\n\u001b[1;32m    759\u001b[0m \u001b[38;5;124;03m\"\"\"\u001b[39;00m\n\u001b[1;32m    760\u001b[0m pipeline \u001b[38;5;241m=\u001b[39m pipeline_class(typingctx, targetctx, library,\n\u001b[1;32m    761\u001b[0m                           args, return_type, flags, \u001b[38;5;28mlocals\u001b[39m)\n\u001b[0;32m--> 762\u001b[0m \u001b[38;5;28;01mreturn\u001b[39;00m \u001b[43mpipeline\u001b[49m\u001b[38;5;241;43m.\u001b[39;49m\u001b[43mcompile_extra\u001b[49m\u001b[43m(\u001b[49m\u001b[43mfunc\u001b[49m\u001b[43m)\u001b[49m\n",
      "File \u001b[0;32m/localscratch/stenhout/myvenv/lib/python3.9/site-packages/numba/core/compiler.py:460\u001b[0m, in \u001b[0;36mCompilerBase.compile_extra\u001b[0;34m(self, func)\u001b[0m\n\u001b[1;32m    458\u001b[0m \u001b[38;5;28mself\u001b[39m\u001b[38;5;241m.\u001b[39mstate\u001b[38;5;241m.\u001b[39mlifted \u001b[38;5;241m=\u001b[39m ()\n\u001b[1;32m    459\u001b[0m \u001b[38;5;28mself\u001b[39m\u001b[38;5;241m.\u001b[39mstate\u001b[38;5;241m.\u001b[39mlifted_from \u001b[38;5;241m=\u001b[39m \u001b[38;5;28;01mNone\u001b[39;00m\n\u001b[0;32m--> 460\u001b[0m \u001b[38;5;28;01mreturn\u001b[39;00m \u001b[38;5;28;43mself\u001b[39;49m\u001b[38;5;241;43m.\u001b[39;49m\u001b[43m_compile_bytecode\u001b[49m\u001b[43m(\u001b[49m\u001b[43m)\u001b[49m\n",
      "File \u001b[0;32m/localscratch/stenhout/myvenv/lib/python3.9/site-packages/numba/core/compiler.py:528\u001b[0m, in \u001b[0;36mCompilerBase._compile_bytecode\u001b[0;34m(self)\u001b[0m\n\u001b[1;32m    524\u001b[0m \u001b[38;5;250m\u001b[39m\u001b[38;5;124;03m\"\"\"\u001b[39;00m\n\u001b[1;32m    525\u001b[0m \u001b[38;5;124;03mPopulate and run pipeline for bytecode input\u001b[39;00m\n\u001b[1;32m    526\u001b[0m \u001b[38;5;124;03m\"\"\"\u001b[39;00m\n\u001b[1;32m    527\u001b[0m \u001b[38;5;28;01massert\u001b[39;00m \u001b[38;5;28mself\u001b[39m\u001b[38;5;241m.\u001b[39mstate\u001b[38;5;241m.\u001b[39mfunc_ir \u001b[38;5;129;01mis\u001b[39;00m \u001b[38;5;28;01mNone\u001b[39;00m\n\u001b[0;32m--> 528\u001b[0m \u001b[38;5;28;01mreturn\u001b[39;00m \u001b[38;5;28;43mself\u001b[39;49m\u001b[38;5;241;43m.\u001b[39;49m\u001b[43m_compile_core\u001b[49m\u001b[43m(\u001b[49m\u001b[43m)\u001b[49m\n",
      "File \u001b[0;32m/localscratch/stenhout/myvenv/lib/python3.9/site-packages/numba/core/compiler.py:507\u001b[0m, in \u001b[0;36mCompilerBase._compile_core\u001b[0;34m(self)\u001b[0m\n\u001b[1;32m    505\u001b[0m         \u001b[38;5;28mself\u001b[39m\u001b[38;5;241m.\u001b[39mstate\u001b[38;5;241m.\u001b[39mstatus\u001b[38;5;241m.\u001b[39mfail_reason \u001b[38;5;241m=\u001b[39m e\n\u001b[1;32m    506\u001b[0m         \u001b[38;5;28;01mif\u001b[39;00m is_final_pipeline:\n\u001b[0;32m--> 507\u001b[0m             \u001b[38;5;28;01mraise\u001b[39;00m e\n\u001b[1;32m    508\u001b[0m \u001b[38;5;28;01melse\u001b[39;00m:\n\u001b[1;32m    509\u001b[0m     \u001b[38;5;28;01mraise\u001b[39;00m CompilerError(\u001b[38;5;124m\"\u001b[39m\u001b[38;5;124mAll available pipelines exhausted\u001b[39m\u001b[38;5;124m\"\u001b[39m)\n",
      "File \u001b[0;32m/localscratch/stenhout/myvenv/lib/python3.9/site-packages/numba/core/compiler.py:494\u001b[0m, in \u001b[0;36mCompilerBase._compile_core\u001b[0;34m(self)\u001b[0m\n\u001b[1;32m    492\u001b[0m res \u001b[38;5;241m=\u001b[39m \u001b[38;5;28;01mNone\u001b[39;00m\n\u001b[1;32m    493\u001b[0m \u001b[38;5;28;01mtry\u001b[39;00m:\n\u001b[0;32m--> 494\u001b[0m     \u001b[43mpm\u001b[49m\u001b[38;5;241;43m.\u001b[39;49m\u001b[43mrun\u001b[49m\u001b[43m(\u001b[49m\u001b[38;5;28;43mself\u001b[39;49m\u001b[38;5;241;43m.\u001b[39;49m\u001b[43mstate\u001b[49m\u001b[43m)\u001b[49m\n\u001b[1;32m    495\u001b[0m     \u001b[38;5;28;01mif\u001b[39;00m \u001b[38;5;28mself\u001b[39m\u001b[38;5;241m.\u001b[39mstate\u001b[38;5;241m.\u001b[39mcr \u001b[38;5;129;01mis\u001b[39;00m \u001b[38;5;129;01mnot\u001b[39;00m \u001b[38;5;28;01mNone\u001b[39;00m:\n\u001b[1;32m    496\u001b[0m         \u001b[38;5;28;01mbreak\u001b[39;00m\n",
      "File \u001b[0;32m/localscratch/stenhout/myvenv/lib/python3.9/site-packages/numba/core/compiler_machinery.py:368\u001b[0m, in \u001b[0;36mPassManager.run\u001b[0;34m(self, state)\u001b[0m\n\u001b[1;32m    365\u001b[0m msg \u001b[38;5;241m=\u001b[39m \u001b[38;5;124m\"\u001b[39m\u001b[38;5;124mFailed in \u001b[39m\u001b[38;5;132;01m%s\u001b[39;00m\u001b[38;5;124m mode pipeline (step: \u001b[39m\u001b[38;5;132;01m%s\u001b[39;00m\u001b[38;5;124m)\u001b[39m\u001b[38;5;124m\"\u001b[39m \u001b[38;5;241m%\u001b[39m \\\n\u001b[1;32m    366\u001b[0m     (\u001b[38;5;28mself\u001b[39m\u001b[38;5;241m.\u001b[39mpipeline_name, pass_desc)\n\u001b[1;32m    367\u001b[0m patched_exception \u001b[38;5;241m=\u001b[39m \u001b[38;5;28mself\u001b[39m\u001b[38;5;241m.\u001b[39m_patch_error(msg, e)\n\u001b[0;32m--> 368\u001b[0m \u001b[38;5;28;01mraise\u001b[39;00m patched_exception\n",
      "File \u001b[0;32m/localscratch/stenhout/myvenv/lib/python3.9/site-packages/numba/core/compiler_machinery.py:356\u001b[0m, in \u001b[0;36mPassManager.run\u001b[0;34m(self, state)\u001b[0m\n\u001b[1;32m    354\u001b[0m pass_inst \u001b[38;5;241m=\u001b[39m _pass_registry\u001b[38;5;241m.\u001b[39mget(pss)\u001b[38;5;241m.\u001b[39mpass_inst\n\u001b[1;32m    355\u001b[0m \u001b[38;5;28;01mif\u001b[39;00m \u001b[38;5;28misinstance\u001b[39m(pass_inst, CompilerPass):\n\u001b[0;32m--> 356\u001b[0m     \u001b[38;5;28;43mself\u001b[39;49m\u001b[38;5;241;43m.\u001b[39;49m\u001b[43m_runPass\u001b[49m\u001b[43m(\u001b[49m\u001b[43midx\u001b[49m\u001b[43m,\u001b[49m\u001b[43m \u001b[49m\u001b[43mpass_inst\u001b[49m\u001b[43m,\u001b[49m\u001b[43m \u001b[49m\u001b[43mstate\u001b[49m\u001b[43m)\u001b[49m\n\u001b[1;32m    357\u001b[0m \u001b[38;5;28;01melse\u001b[39;00m:\n\u001b[1;32m    358\u001b[0m     \u001b[38;5;28;01mraise\u001b[39;00m \u001b[38;5;167;01mBaseException\u001b[39;00m(\u001b[38;5;124m\"\u001b[39m\u001b[38;5;124mLegacy pass in use\u001b[39m\u001b[38;5;124m\"\u001b[39m)\n",
      "File \u001b[0;32m/localscratch/stenhout/myvenv/lib/python3.9/site-packages/numba/core/compiler_lock.py:35\u001b[0m, in \u001b[0;36m_CompilerLock.__call__.<locals>._acquire_compile_lock\u001b[0;34m(*args, **kwargs)\u001b[0m\n\u001b[1;32m     32\u001b[0m \u001b[38;5;129m@functools\u001b[39m\u001b[38;5;241m.\u001b[39mwraps(func)\n\u001b[1;32m     33\u001b[0m \u001b[38;5;28;01mdef\u001b[39;00m \u001b[38;5;21m_acquire_compile_lock\u001b[39m(\u001b[38;5;241m*\u001b[39margs, \u001b[38;5;241m*\u001b[39m\u001b[38;5;241m*\u001b[39mkwargs):\n\u001b[1;32m     34\u001b[0m     \u001b[38;5;28;01mwith\u001b[39;00m \u001b[38;5;28mself\u001b[39m:\n\u001b[0;32m---> 35\u001b[0m         \u001b[38;5;28;01mreturn\u001b[39;00m \u001b[43mfunc\u001b[49m\u001b[43m(\u001b[49m\u001b[38;5;241;43m*\u001b[39;49m\u001b[43margs\u001b[49m\u001b[43m,\u001b[49m\u001b[43m \u001b[49m\u001b[38;5;241;43m*\u001b[39;49m\u001b[38;5;241;43m*\u001b[39;49m\u001b[43mkwargs\u001b[49m\u001b[43m)\u001b[49m\n",
      "File \u001b[0;32m/localscratch/stenhout/myvenv/lib/python3.9/site-packages/numba/core/compiler_machinery.py:311\u001b[0m, in \u001b[0;36mPassManager._runPass\u001b[0;34m(self, index, pss, internal_state)\u001b[0m\n\u001b[1;32m    309\u001b[0m     mutated \u001b[38;5;241m|\u001b[39m\u001b[38;5;241m=\u001b[39m check(pss\u001b[38;5;241m.\u001b[39mrun_initialization, internal_state)\n\u001b[1;32m    310\u001b[0m \u001b[38;5;28;01mwith\u001b[39;00m SimpleTimer() \u001b[38;5;28;01mas\u001b[39;00m pass_time:\n\u001b[0;32m--> 311\u001b[0m     mutated \u001b[38;5;241m|\u001b[39m\u001b[38;5;241m=\u001b[39m \u001b[43mcheck\u001b[49m\u001b[43m(\u001b[49m\u001b[43mpss\u001b[49m\u001b[38;5;241;43m.\u001b[39;49m\u001b[43mrun_pass\u001b[49m\u001b[43m,\u001b[49m\u001b[43m \u001b[49m\u001b[43minternal_state\u001b[49m\u001b[43m)\u001b[49m\n\u001b[1;32m    312\u001b[0m \u001b[38;5;28;01mwith\u001b[39;00m SimpleTimer() \u001b[38;5;28;01mas\u001b[39;00m finalize_time:\n\u001b[1;32m    313\u001b[0m     mutated \u001b[38;5;241m|\u001b[39m\u001b[38;5;241m=\u001b[39m check(pss\u001b[38;5;241m.\u001b[39mrun_finalizer, internal_state)\n",
      "File \u001b[0;32m/localscratch/stenhout/myvenv/lib/python3.9/site-packages/numba/core/compiler_machinery.py:273\u001b[0m, in \u001b[0;36mPassManager._runPass.<locals>.check\u001b[0;34m(func, compiler_state)\u001b[0m\n\u001b[1;32m    272\u001b[0m \u001b[38;5;28;01mdef\u001b[39;00m \u001b[38;5;21mcheck\u001b[39m(func, compiler_state):\n\u001b[0;32m--> 273\u001b[0m     mangled \u001b[38;5;241m=\u001b[39m \u001b[43mfunc\u001b[49m\u001b[43m(\u001b[49m\u001b[43mcompiler_state\u001b[49m\u001b[43m)\u001b[49m\n\u001b[1;32m    274\u001b[0m     \u001b[38;5;28;01mif\u001b[39;00m mangled \u001b[38;5;129;01mnot\u001b[39;00m \u001b[38;5;129;01min\u001b[39;00m (\u001b[38;5;28;01mTrue\u001b[39;00m, \u001b[38;5;28;01mFalse\u001b[39;00m):\n\u001b[1;32m    275\u001b[0m         msg \u001b[38;5;241m=\u001b[39m (\u001b[38;5;124m\"\u001b[39m\u001b[38;5;124mCompilerPass implementations should return True/False. \u001b[39m\u001b[38;5;124m\"\u001b[39m\n\u001b[1;32m    276\u001b[0m                \u001b[38;5;124m\"\u001b[39m\u001b[38;5;124mCompilerPass with name \u001b[39m\u001b[38;5;124m'\u001b[39m\u001b[38;5;132;01m%s\u001b[39;00m\u001b[38;5;124m'\u001b[39m\u001b[38;5;124m did not.\u001b[39m\u001b[38;5;124m\"\u001b[39m)\n",
      "File \u001b[0;32m/localscratch/stenhout/myvenv/lib/python3.9/site-packages/numba/core/typed_passes.py:466\u001b[0m, in \u001b[0;36mBaseNativeLowering.run_pass\u001b[0;34m(self, state)\u001b[0m\n\u001b[1;32m    463\u001b[0m \u001b[38;5;28;01mwith\u001b[39;00m targetctx\u001b[38;5;241m.\u001b[39mpush_code_library(library):\n\u001b[1;32m    464\u001b[0m     lower \u001b[38;5;241m=\u001b[39m \u001b[38;5;28mself\u001b[39m\u001b[38;5;241m.\u001b[39mlowering_class(targetctx, library, fndesc, interp,\n\u001b[1;32m    465\u001b[0m                                 metadata\u001b[38;5;241m=\u001b[39mmetadata)\n\u001b[0;32m--> 466\u001b[0m     \u001b[43mlower\u001b[49m\u001b[38;5;241;43m.\u001b[39;49m\u001b[43mlower\u001b[49m\u001b[43m(\u001b[49m\u001b[43m)\u001b[49m\n\u001b[1;32m    467\u001b[0m     \u001b[38;5;28;01mif\u001b[39;00m \u001b[38;5;129;01mnot\u001b[39;00m flags\u001b[38;5;241m.\u001b[39mno_cpython_wrapper:\n\u001b[1;32m    468\u001b[0m         lower\u001b[38;5;241m.\u001b[39mcreate_cpython_wrapper(flags\u001b[38;5;241m.\u001b[39mrelease_gil)\n",
      "File \u001b[0;32m/localscratch/stenhout/myvenv/lib/python3.9/site-packages/numba/core/lowering.py:187\u001b[0m, in \u001b[0;36mBaseLower.lower\u001b[0;34m(self)\u001b[0m\n\u001b[1;32m    185\u001b[0m \u001b[38;5;28;01mif\u001b[39;00m \u001b[38;5;28mself\u001b[39m\u001b[38;5;241m.\u001b[39mgenerator_info \u001b[38;5;129;01mis\u001b[39;00m \u001b[38;5;28;01mNone\u001b[39;00m:\n\u001b[1;32m    186\u001b[0m     \u001b[38;5;28mself\u001b[39m\u001b[38;5;241m.\u001b[39mgenlower \u001b[38;5;241m=\u001b[39m \u001b[38;5;28;01mNone\u001b[39;00m\n\u001b[0;32m--> 187\u001b[0m     \u001b[38;5;28;43mself\u001b[39;49m\u001b[38;5;241;43m.\u001b[39;49m\u001b[43mlower_normal_function\u001b[49m\u001b[43m(\u001b[49m\u001b[38;5;28;43mself\u001b[39;49m\u001b[38;5;241;43m.\u001b[39;49m\u001b[43mfndesc\u001b[49m\u001b[43m)\u001b[49m\n\u001b[1;32m    188\u001b[0m \u001b[38;5;28;01melse\u001b[39;00m:\n\u001b[1;32m    189\u001b[0m     \u001b[38;5;28mself\u001b[39m\u001b[38;5;241m.\u001b[39mgenlower \u001b[38;5;241m=\u001b[39m \u001b[38;5;28mself\u001b[39m\u001b[38;5;241m.\u001b[39mGeneratorLower(\u001b[38;5;28mself\u001b[39m)\n",
      "File \u001b[0;32m/localscratch/stenhout/myvenv/lib/python3.9/site-packages/numba/core/lowering.py:241\u001b[0m, in \u001b[0;36mBaseLower.lower_normal_function\u001b[0;34m(self, fndesc)\u001b[0m\n\u001b[1;32m    239\u001b[0m \u001b[38;5;66;03m# Init argument values\u001b[39;00m\n\u001b[1;32m    240\u001b[0m \u001b[38;5;28mself\u001b[39m\u001b[38;5;241m.\u001b[39mextract_function_arguments()\n\u001b[0;32m--> 241\u001b[0m entry_block_tail \u001b[38;5;241m=\u001b[39m \u001b[38;5;28;43mself\u001b[39;49m\u001b[38;5;241;43m.\u001b[39;49m\u001b[43mlower_function_body\u001b[49m\u001b[43m(\u001b[49m\u001b[43m)\u001b[49m\n\u001b[1;32m    243\u001b[0m \u001b[38;5;66;03m# Close tail of entry block, do not emit debug metadata else the\u001b[39;00m\n\u001b[1;32m    244\u001b[0m \u001b[38;5;66;03m# unconditional jump gets associated with the metadata from the function\u001b[39;00m\n\u001b[1;32m    245\u001b[0m \u001b[38;5;66;03m# body end.\u001b[39;00m\n\u001b[1;32m    246\u001b[0m \u001b[38;5;28;01mwith\u001b[39;00m debuginfo\u001b[38;5;241m.\u001b[39msuspend_emission(\u001b[38;5;28mself\u001b[39m\u001b[38;5;241m.\u001b[39mbuilder):\n",
      "File \u001b[0;32m/localscratch/stenhout/myvenv/lib/python3.9/site-packages/numba/core/lowering.py:271\u001b[0m, in \u001b[0;36mBaseLower.lower_function_body\u001b[0;34m(self)\u001b[0m\n\u001b[1;32m    269\u001b[0m     \u001b[38;5;28mself\u001b[39m\u001b[38;5;241m.\u001b[39mbuilder\u001b[38;5;241m.\u001b[39mposition_at_end(bb)\n\u001b[1;32m    270\u001b[0m     \u001b[38;5;28mself\u001b[39m\u001b[38;5;241m.\u001b[39mdebug_print(\u001b[38;5;124mf\u001b[39m\u001b[38;5;124m\"\u001b[39m\u001b[38;5;124m# lower block: \u001b[39m\u001b[38;5;132;01m{\u001b[39;00moffset\u001b[38;5;132;01m}\u001b[39;00m\u001b[38;5;124m\"\u001b[39m)\n\u001b[0;32m--> 271\u001b[0m     \u001b[38;5;28;43mself\u001b[39;49m\u001b[38;5;241;43m.\u001b[39;49m\u001b[43mlower_block\u001b[49m\u001b[43m(\u001b[49m\u001b[43mblock\u001b[49m\u001b[43m)\u001b[49m\n\u001b[1;32m    272\u001b[0m \u001b[38;5;28mself\u001b[39m\u001b[38;5;241m.\u001b[39mpost_lower()\n\u001b[1;32m    273\u001b[0m \u001b[38;5;28;01mreturn\u001b[39;00m entry_block_tail\n",
      "File \u001b[0;32m/localscratch/stenhout/myvenv/lib/python3.9/site-packages/numba/core/lowering.py:285\u001b[0m, in \u001b[0;36mBaseLower.lower_block\u001b[0;34m(self, block)\u001b[0m\n\u001b[1;32m    282\u001b[0m     defaulterrcls \u001b[38;5;241m=\u001b[39m partial(LoweringError, loc\u001b[38;5;241m=\u001b[39m\u001b[38;5;28mself\u001b[39m\u001b[38;5;241m.\u001b[39mloc)\n\u001b[1;32m    283\u001b[0m     \u001b[38;5;28;01mwith\u001b[39;00m new_error_context(\u001b[38;5;124m'\u001b[39m\u001b[38;5;124mlowering \u001b[39m\u001b[38;5;124m\"\u001b[39m\u001b[38;5;132;01m{inst}\u001b[39;00m\u001b[38;5;124m\"\u001b[39m\u001b[38;5;124m at \u001b[39m\u001b[38;5;132;01m{loc}\u001b[39;00m\u001b[38;5;124m'\u001b[39m, inst\u001b[38;5;241m=\u001b[39minst,\n\u001b[1;32m    284\u001b[0m                            loc\u001b[38;5;241m=\u001b[39m\u001b[38;5;28mself\u001b[39m\u001b[38;5;241m.\u001b[39mloc, errcls_\u001b[38;5;241m=\u001b[39mdefaulterrcls):\n\u001b[0;32m--> 285\u001b[0m         \u001b[38;5;28mself\u001b[39m\u001b[38;5;241m.\u001b[39mlower_inst(inst)\n\u001b[1;32m    286\u001b[0m \u001b[38;5;28mself\u001b[39m\u001b[38;5;241m.\u001b[39mpost_block(block)\n",
      "File \u001b[0;32m/usr/lib/python3.9/contextlib.py:135\u001b[0m, in \u001b[0;36m_GeneratorContextManager.__exit__\u001b[0;34m(self, type, value, traceback)\u001b[0m\n\u001b[1;32m    133\u001b[0m     value \u001b[38;5;241m=\u001b[39m \u001b[38;5;28mtype\u001b[39m()\n\u001b[1;32m    134\u001b[0m \u001b[38;5;28;01mtry\u001b[39;00m:\n\u001b[0;32m--> 135\u001b[0m     \u001b[38;5;28;43mself\u001b[39;49m\u001b[38;5;241;43m.\u001b[39;49m\u001b[43mgen\u001b[49m\u001b[38;5;241;43m.\u001b[39;49m\u001b[43mthrow\u001b[49m\u001b[43m(\u001b[49m\u001b[38;5;28;43mtype\u001b[39;49m\u001b[43m,\u001b[49m\u001b[43m \u001b[49m\u001b[43mvalue\u001b[49m\u001b[43m,\u001b[49m\u001b[43m \u001b[49m\u001b[43mtraceback\u001b[49m\u001b[43m)\u001b[49m\n\u001b[1;32m    136\u001b[0m \u001b[38;5;28;01mexcept\u001b[39;00m \u001b[38;5;167;01mStopIteration\u001b[39;00m \u001b[38;5;28;01mas\u001b[39;00m exc:\n\u001b[1;32m    137\u001b[0m     \u001b[38;5;66;03m# Suppress StopIteration *unless* it's the same exception that\u001b[39;00m\n\u001b[1;32m    138\u001b[0m     \u001b[38;5;66;03m# was passed to throw().  This prevents a StopIteration\u001b[39;00m\n\u001b[1;32m    139\u001b[0m     \u001b[38;5;66;03m# raised inside the \"with\" statement from being suppressed.\u001b[39;00m\n\u001b[1;32m    140\u001b[0m     \u001b[38;5;28;01mreturn\u001b[39;00m exc \u001b[38;5;129;01mis\u001b[39;00m \u001b[38;5;129;01mnot\u001b[39;00m value\n",
      "File \u001b[0;32m/localscratch/stenhout/myvenv/lib/python3.9/site-packages/numba/core/errors.py:837\u001b[0m, in \u001b[0;36mnew_error_context\u001b[0;34m(fmt_, *args, **kwargs)\u001b[0m\n\u001b[1;32m    835\u001b[0m     \u001b[38;5;28;01melse\u001b[39;00m:\n\u001b[1;32m    836\u001b[0m         tb \u001b[38;5;241m=\u001b[39m \u001b[38;5;28;01mNone\u001b[39;00m\n\u001b[0;32m--> 837\u001b[0m     \u001b[38;5;28;01mraise\u001b[39;00m newerr\u001b[38;5;241m.\u001b[39mwith_traceback(tb)\n\u001b[1;32m    838\u001b[0m \u001b[38;5;28;01melif\u001b[39;00m use_new_style_errors():\n\u001b[1;32m    839\u001b[0m     \u001b[38;5;28;01mraise\u001b[39;00m e\n",
      "\u001b[0;31mLoweringError\u001b[0m: Failed in nopython mode pipeline (step: native lowering)\nunhashable type: 'dict'\n\nFile \"../../../tmp/ipykernel_468254/1541308511.py\", line 85:\n<source missing, REPL/exec in use?>\n\nDuring: lowering \"print(dataset)\" at /tmp/ipykernel_468254/1541308511.py (85)"
     ]
    }
   ],
   "source": [
    "\n",
    "batch_size=5000\n",
    "\n",
    "myfilter=\"/(MissingET.(MET|Phi)|Particle.(PID|Status)|Electron.(PT|Eta|Phi)|Muon.(PT|Eta|Phi)|Jet.(PT|Eta|Phi))/\"\n",
    "\n",
    "#loop over VH/WWW\n",
    "ntotal_VH=0\n",
    "nselected_VH=0\n",
    "ntotal_WWW=0\n",
    "nselected_WWW=0\n",
    "iterator = uproot.iterate([f+\":Delphes\" for f in root_signal],step_size=batch_size, filter_name=myfilter)\n",
    "make_df(N_root_sig, batch_size, iterator)\n",
    "              # invarM_VH=np.array(dr[np.logical_and(higgs,presel)])\n",
    "              #  invarM_WWW=np.array(dr[np.logical_and(~higgs,presel)])\n",
    "\n",
    "#print(\"Preselection efficiency for VH events: %2.2f %%\"%(100.*nselected_VH/ntotal_VH))\n",
    "#print(\"Preselection efficiency for WWW events: %2.2f %%\"%(100.*nselected_WWW/ntotal_WWW))\n"
   ]
  },
  {
   "cell_type": "code",
   "execution_count": 41,
   "metadata": {},
   "outputs": [
    {
     "name": "stderr",
     "output_type": "stream",
     "text": [
      "  0%|                                                                                                                                                                                 | 0/102 [00:00<?, ?it/s]\n"
     ]
    },
    {
     "ename": "LoweringError",
     "evalue": "Failed in nopython mode pipeline (step: native lowering)\nunhashable type: 'dict'\n\nFile \"../../../tmp/ipykernel_468254/3829268290.py\", line 85:\n<source missing, REPL/exec in use?>\n\nDuring: lowering \"print(dataset)\" at /tmp/ipykernel_468254/3829268290.py (85)",
     "output_type": "error",
     "traceback": [
      "\u001b[0;31m---------------------------------------------------------------------------\u001b[0m",
      "\u001b[0;31mTypeError\u001b[0m                                 Traceback (most recent call last)",
      "File \u001b[0;32m/localscratch/stenhout/myvenv/lib/python3.9/site-packages/numba/core/errors.py:823\u001b[0m, in \u001b[0;36mnew_error_context\u001b[0;34m(fmt_, *args, **kwargs)\u001b[0m\n\u001b[1;32m    822\u001b[0m \u001b[38;5;28;01mtry\u001b[39;00m:\n\u001b[0;32m--> 823\u001b[0m     \u001b[38;5;28;01myield\u001b[39;00m\n\u001b[1;32m    824\u001b[0m \u001b[38;5;28;01mexcept\u001b[39;00m NumbaError \u001b[38;5;28;01mas\u001b[39;00m e:\n",
      "File \u001b[0;32m/localscratch/stenhout/myvenv/lib/python3.9/site-packages/numba/core/lowering.py:285\u001b[0m, in \u001b[0;36mBaseLower.lower_block\u001b[0;34m(self, block)\u001b[0m\n\u001b[1;32m    283\u001b[0m     \u001b[38;5;28;01mwith\u001b[39;00m new_error_context(\u001b[38;5;124m'\u001b[39m\u001b[38;5;124mlowering \u001b[39m\u001b[38;5;124m\"\u001b[39m\u001b[38;5;132;01m{inst}\u001b[39;00m\u001b[38;5;124m\"\u001b[39m\u001b[38;5;124m at \u001b[39m\u001b[38;5;132;01m{loc}\u001b[39;00m\u001b[38;5;124m'\u001b[39m, inst\u001b[38;5;241m=\u001b[39minst,\n\u001b[1;32m    284\u001b[0m                            loc\u001b[38;5;241m=\u001b[39m\u001b[38;5;28mself\u001b[39m\u001b[38;5;241m.\u001b[39mloc, errcls_\u001b[38;5;241m=\u001b[39mdefaulterrcls):\n\u001b[0;32m--> 285\u001b[0m         \u001b[38;5;28;43mself\u001b[39;49m\u001b[38;5;241;43m.\u001b[39;49m\u001b[43mlower_inst\u001b[49m\u001b[43m(\u001b[49m\u001b[43minst\u001b[49m\u001b[43m)\u001b[49m\n\u001b[1;32m    286\u001b[0m \u001b[38;5;28mself\u001b[39m\u001b[38;5;241m.\u001b[39mpost_block(block)\n",
      "File \u001b[0;32m/localscratch/stenhout/myvenv/lib/python3.9/site-packages/numba/core/lowering.py:525\u001b[0m, in \u001b[0;36mLower.lower_inst\u001b[0;34m(self, inst)\u001b[0m\n\u001b[1;32m    524\u001b[0m \u001b[38;5;28;01melif\u001b[39;00m \u001b[38;5;28misinstance\u001b[39m(inst, ir\u001b[38;5;241m.\u001b[39mPrint):\n\u001b[0;32m--> 525\u001b[0m     \u001b[38;5;28;43mself\u001b[39;49m\u001b[38;5;241;43m.\u001b[39;49m\u001b[43mlower_print\u001b[49m\u001b[43m(\u001b[49m\u001b[43minst\u001b[49m\u001b[43m)\u001b[49m\n\u001b[1;32m    527\u001b[0m \u001b[38;5;28;01melif\u001b[39;00m \u001b[38;5;28misinstance\u001b[39m(inst, ir\u001b[38;5;241m.\u001b[39mSetItem):\n",
      "File \u001b[0;32m/localscratch/stenhout/myvenv/lib/python3.9/site-packages/numba/core/lowering.py:913\u001b[0m, in \u001b[0;36mLower.lower_print\u001b[0;34m(self, inst)\u001b[0m\n\u001b[1;32m    912\u001b[0m impl \u001b[38;5;241m=\u001b[39m \u001b[38;5;28mself\u001b[39m\u001b[38;5;241m.\u001b[39mcontext\u001b[38;5;241m.\u001b[39mget_function(\u001b[38;5;28mprint\u001b[39m, fixed_sig)\n\u001b[0;32m--> 913\u001b[0m \u001b[43mimpl\u001b[49m\u001b[43m(\u001b[49m\u001b[38;5;28;43mself\u001b[39;49m\u001b[38;5;241;43m.\u001b[39;49m\u001b[43mbuilder\u001b[49m\u001b[43m,\u001b[49m\u001b[43m \u001b[49m\u001b[43margvals\u001b[49m\u001b[43m)\u001b[49m\n",
      "File \u001b[0;32m/localscratch/stenhout/myvenv/lib/python3.9/site-packages/numba/core/base.py:1187\u001b[0m, in \u001b[0;36m_wrap_impl.__call__\u001b[0;34m(self, builder, args, loc)\u001b[0m\n\u001b[1;32m   1186\u001b[0m \u001b[38;5;28;01mdef\u001b[39;00m \u001b[38;5;21m__call__\u001b[39m(\u001b[38;5;28mself\u001b[39m, builder, args, loc\u001b[38;5;241m=\u001b[39m\u001b[38;5;28;01mNone\u001b[39;00m):\n\u001b[0;32m-> 1187\u001b[0m     res \u001b[38;5;241m=\u001b[39m \u001b[38;5;28;43mself\u001b[39;49m\u001b[38;5;241;43m.\u001b[39;49m\u001b[43m_imp\u001b[49m\u001b[43m(\u001b[49m\u001b[38;5;28;43mself\u001b[39;49m\u001b[38;5;241;43m.\u001b[39;49m\u001b[43m_context\u001b[49m\u001b[43m,\u001b[49m\u001b[43m \u001b[49m\u001b[43mbuilder\u001b[49m\u001b[43m,\u001b[49m\u001b[43m \u001b[49m\u001b[38;5;28;43mself\u001b[39;49m\u001b[38;5;241;43m.\u001b[39;49m\u001b[43m_sig\u001b[49m\u001b[43m,\u001b[49m\u001b[43m \u001b[49m\u001b[43margs\u001b[49m\u001b[43m,\u001b[49m\u001b[43m \u001b[49m\u001b[43mloc\u001b[49m\u001b[38;5;241;43m=\u001b[39;49m\u001b[43mloc\u001b[49m\u001b[43m)\u001b[49m\n\u001b[1;32m   1188\u001b[0m     \u001b[38;5;28mself\u001b[39m\u001b[38;5;241m.\u001b[39m_context\u001b[38;5;241m.\u001b[39madd_linking_libs(\u001b[38;5;28mgetattr\u001b[39m(\u001b[38;5;28mself\u001b[39m, \u001b[38;5;124m'\u001b[39m\u001b[38;5;124mlibs\u001b[39m\u001b[38;5;124m'\u001b[39m, ()))\n",
      "File \u001b[0;32m/localscratch/stenhout/myvenv/lib/python3.9/site-packages/numba/core/base.py:1217\u001b[0m, in \u001b[0;36m_wrap_missing_loc.__call__.<locals>.wrapper\u001b[0;34m(*args, **kwargs)\u001b[0m\n\u001b[1;32m   1216\u001b[0m kwargs\u001b[38;5;241m.\u001b[39mpop(\u001b[38;5;124m'\u001b[39m\u001b[38;5;124mloc\u001b[39m\u001b[38;5;124m'\u001b[39m)     \u001b[38;5;66;03m# drop unused loc\u001b[39;00m\n\u001b[0;32m-> 1217\u001b[0m \u001b[38;5;28;01mreturn\u001b[39;00m \u001b[43mfn\u001b[49m\u001b[43m(\u001b[49m\u001b[38;5;241;43m*\u001b[39;49m\u001b[43margs\u001b[49m\u001b[43m,\u001b[49m\u001b[43m \u001b[49m\u001b[38;5;241;43m*\u001b[39;49m\u001b[38;5;241;43m*\u001b[39;49m\u001b[43mkwargs\u001b[49m\u001b[43m)\u001b[49m\n",
      "File \u001b[0;32m/localscratch/stenhout/myvenv/lib/python3.9/site-packages/numba/cpython/printimpl.py:75\u001b[0m, in \u001b[0;36mprint_varargs_impl\u001b[0;34m(context, builder, sig, args)\u001b[0m\n\u001b[1;32m     74\u001b[0m imp \u001b[38;5;241m=\u001b[39m context\u001b[38;5;241m.\u001b[39mget_function(\u001b[38;5;124m\"\u001b[39m\u001b[38;5;124mprint_item\u001b[39m\u001b[38;5;124m\"\u001b[39m, signature)\n\u001b[0;32m---> 75\u001b[0m \u001b[43mimp\u001b[49m\u001b[43m(\u001b[49m\u001b[43mbuilder\u001b[49m\u001b[43m,\u001b[49m\u001b[43m \u001b[49m\u001b[43m[\u001b[49m\u001b[43margval\u001b[49m\u001b[43m]\u001b[49m\u001b[43m)\u001b[49m\n\u001b[1;32m     76\u001b[0m \u001b[38;5;28;01mif\u001b[39;00m i \u001b[38;5;241m<\u001b[39m \u001b[38;5;28mlen\u001b[39m(args) \u001b[38;5;241m-\u001b[39m \u001b[38;5;241m1\u001b[39m:\n",
      "File \u001b[0;32m/localscratch/stenhout/myvenv/lib/python3.9/site-packages/numba/core/base.py:1187\u001b[0m, in \u001b[0;36m_wrap_impl.__call__\u001b[0;34m(self, builder, args, loc)\u001b[0m\n\u001b[1;32m   1186\u001b[0m \u001b[38;5;28;01mdef\u001b[39;00m \u001b[38;5;21m__call__\u001b[39m(\u001b[38;5;28mself\u001b[39m, builder, args, loc\u001b[38;5;241m=\u001b[39m\u001b[38;5;28;01mNone\u001b[39;00m):\n\u001b[0;32m-> 1187\u001b[0m     res \u001b[38;5;241m=\u001b[39m \u001b[38;5;28;43mself\u001b[39;49m\u001b[38;5;241;43m.\u001b[39;49m\u001b[43m_imp\u001b[49m\u001b[43m(\u001b[49m\u001b[38;5;28;43mself\u001b[39;49m\u001b[38;5;241;43m.\u001b[39;49m\u001b[43m_context\u001b[49m\u001b[43m,\u001b[49m\u001b[43m \u001b[49m\u001b[43mbuilder\u001b[49m\u001b[43m,\u001b[49m\u001b[43m \u001b[49m\u001b[38;5;28;43mself\u001b[39;49m\u001b[38;5;241;43m.\u001b[39;49m\u001b[43m_sig\u001b[49m\u001b[43m,\u001b[49m\u001b[43m \u001b[49m\u001b[43margs\u001b[49m\u001b[43m,\u001b[49m\u001b[43m \u001b[49m\u001b[43mloc\u001b[49m\u001b[38;5;241;43m=\u001b[39;49m\u001b[43mloc\u001b[49m\u001b[43m)\u001b[49m\n\u001b[1;32m   1188\u001b[0m     \u001b[38;5;28mself\u001b[39m\u001b[38;5;241m.\u001b[39m_context\u001b[38;5;241m.\u001b[39madd_linking_libs(\u001b[38;5;28mgetattr\u001b[39m(\u001b[38;5;28mself\u001b[39m, \u001b[38;5;124m'\u001b[39m\u001b[38;5;124mlibs\u001b[39m\u001b[38;5;124m'\u001b[39m, ()))\n",
      "File \u001b[0;32m/localscratch/stenhout/myvenv/lib/python3.9/site-packages/numba/core/base.py:1217\u001b[0m, in \u001b[0;36m_wrap_missing_loc.__call__.<locals>.wrapper\u001b[0;34m(*args, **kwargs)\u001b[0m\n\u001b[1;32m   1216\u001b[0m kwargs\u001b[38;5;241m.\u001b[39mpop(\u001b[38;5;124m'\u001b[39m\u001b[38;5;124mloc\u001b[39m\u001b[38;5;124m'\u001b[39m)     \u001b[38;5;66;03m# drop unused loc\u001b[39;00m\n\u001b[0;32m-> 1217\u001b[0m \u001b[38;5;28;01mreturn\u001b[39;00m \u001b[43mfn\u001b[49m\u001b[43m(\u001b[49m\u001b[38;5;241;43m*\u001b[39;49m\u001b[43margs\u001b[49m\u001b[43m,\u001b[49m\u001b[43m \u001b[49m\u001b[38;5;241;43m*\u001b[39;49m\u001b[38;5;241;43m*\u001b[39;49m\u001b[43mkwargs\u001b[49m\u001b[43m)\u001b[49m\n",
      "File \u001b[0;32m/localscratch/stenhout/myvenv/lib/python3.9/site-packages/numba/cpython/printimpl.py:25\u001b[0m, in \u001b[0;36mprint_item_impl\u001b[0;34m(context, builder, sig, args)\u001b[0m\n\u001b[1;32m     23\u001b[0m pyapi \u001b[38;5;241m=\u001b[39m context\u001b[38;5;241m.\u001b[39mget_python_api(builder)\n\u001b[0;32m---> 25\u001b[0m strobj \u001b[38;5;241m=\u001b[39m pyapi\u001b[38;5;241m.\u001b[39munserialize(\u001b[43mpyapi\u001b[49m\u001b[38;5;241;43m.\u001b[39;49m\u001b[43mserialize_object\u001b[49m\u001b[43m(\u001b[49m\u001b[43mval\u001b[49m\u001b[43m)\u001b[49m)\n\u001b[1;32m     26\u001b[0m pyapi\u001b[38;5;241m.\u001b[39mprint_object(strobj)\n",
      "File \u001b[0;32m/localscratch/stenhout/myvenv/lib/python3.9/site-packages/numba/core/pythonapi.py:1393\u001b[0m, in \u001b[0;36mPythonAPI.serialize_object\u001b[0;34m(self, obj)\u001b[0m\n\u001b[1;32m   1392\u001b[0m \u001b[38;5;28;01mtry\u001b[39;00m:\n\u001b[0;32m-> 1393\u001b[0m     gv \u001b[38;5;241m=\u001b[39m \u001b[38;5;28;43mself\u001b[39;49m\u001b[38;5;241;43m.\u001b[39;49m\u001b[43mmodule\u001b[49m\u001b[38;5;241;43m.\u001b[39;49m\u001b[43m__serialized\u001b[49m\u001b[43m[\u001b[49m\u001b[43mobj\u001b[49m\u001b[43m]\u001b[49m\n\u001b[1;32m   1394\u001b[0m \u001b[38;5;28;01mexcept\u001b[39;00m \u001b[38;5;167;01mKeyError\u001b[39;00m:\n",
      "\u001b[0;31mTypeError\u001b[0m: unhashable type: 'dict'",
      "\nDuring handling of the above exception, another exception occurred:\n",
      "\u001b[0;31mLoweringError\u001b[0m                             Traceback (most recent call last)",
      "Cell \u001b[0;32mIn[41], line 28\u001b[0m\n\u001b[1;32m     26\u001b[0m met, metPhi\u001b[38;5;241m=\u001b[39mget_MET(batch)\n\u001b[1;32m     27\u001b[0m \u001b[38;5;66;03m#print(met)\u001b[39;00m\n\u001b[0;32m---> 28\u001b[0m dr \u001b[38;5;241m=\u001b[39m\u001b[43mget_minDRll\u001b[49m\u001b[43m(\u001b[49m\u001b[43mbatch\u001b[49m\u001b[43m)\u001b[49m\n\u001b[1;32m     29\u001b[0m presel\u001b[38;5;241m=\u001b[39mpreselection(batch)\n\u001b[1;32m     30\u001b[0m \u001b[38;5;28;01mif\u001b[39;00m met_VH \u001b[38;5;129;01mis\u001b[39;00m \u001b[38;5;129;01mnot\u001b[39;00m \u001b[38;5;28;01mNone\u001b[39;00m:\n",
      "File \u001b[0;32m/localscratch/stenhout/myvenv/lib/python3.9/site-packages/numba/core/dispatcher.py:487\u001b[0m, in \u001b[0;36m_DispatcherBase._compile_for_args\u001b[0;34m(self, *args, **kws)\u001b[0m\n\u001b[1;32m    485\u001b[0m             e\u001b[38;5;241m.\u001b[39mpatch_message(\u001b[38;5;124m'\u001b[39m\u001b[38;5;130;01m\\n\u001b[39;00m\u001b[38;5;124m'\u001b[39m\u001b[38;5;241m.\u001b[39mjoin((\u001b[38;5;28mstr\u001b[39m(e)\u001b[38;5;241m.\u001b[39mrstrip(), help_msg)))\n\u001b[1;32m    486\u001b[0m     \u001b[38;5;66;03m# ignore the FULL_TRACEBACKS config, this needs reporting!\u001b[39;00m\n\u001b[0;32m--> 487\u001b[0m     \u001b[38;5;28;01mraise\u001b[39;00m e\n\u001b[1;32m    488\u001b[0m \u001b[38;5;28;01mfinally\u001b[39;00m:\n\u001b[1;32m    489\u001b[0m     \u001b[38;5;28mself\u001b[39m\u001b[38;5;241m.\u001b[39m_types_active_call \u001b[38;5;241m=\u001b[39m []\n",
      "File \u001b[0;32m/localscratch/stenhout/myvenv/lib/python3.9/site-packages/numba/core/dispatcher.py:420\u001b[0m, in \u001b[0;36m_DispatcherBase._compile_for_args\u001b[0;34m(self, *args, **kws)\u001b[0m\n\u001b[1;32m    418\u001b[0m return_val \u001b[38;5;241m=\u001b[39m \u001b[38;5;28;01mNone\u001b[39;00m\n\u001b[1;32m    419\u001b[0m \u001b[38;5;28;01mtry\u001b[39;00m:\n\u001b[0;32m--> 420\u001b[0m     return_val \u001b[38;5;241m=\u001b[39m \u001b[38;5;28;43mself\u001b[39;49m\u001b[38;5;241;43m.\u001b[39;49m\u001b[43mcompile\u001b[49m\u001b[43m(\u001b[49m\u001b[38;5;28;43mtuple\u001b[39;49m\u001b[43m(\u001b[49m\u001b[43margtypes\u001b[49m\u001b[43m)\u001b[49m\u001b[43m)\u001b[49m\n\u001b[1;32m    421\u001b[0m \u001b[38;5;28;01mexcept\u001b[39;00m errors\u001b[38;5;241m.\u001b[39mForceLiteralArg \u001b[38;5;28;01mas\u001b[39;00m e:\n\u001b[1;32m    422\u001b[0m     \u001b[38;5;66;03m# Received request for compiler re-entry with the list of arguments\u001b[39;00m\n\u001b[1;32m    423\u001b[0m     \u001b[38;5;66;03m# indicated by e.requested_args.\u001b[39;00m\n\u001b[1;32m    424\u001b[0m     \u001b[38;5;66;03m# First, check if any of these args are already Literal-ized\u001b[39;00m\n\u001b[1;32m    425\u001b[0m     already_lit_pos \u001b[38;5;241m=\u001b[39m [i \u001b[38;5;28;01mfor\u001b[39;00m i \u001b[38;5;129;01min\u001b[39;00m e\u001b[38;5;241m.\u001b[39mrequested_args\n\u001b[1;32m    426\u001b[0m                        \u001b[38;5;28;01mif\u001b[39;00m \u001b[38;5;28misinstance\u001b[39m(args[i], types\u001b[38;5;241m.\u001b[39mLiteral)]\n",
      "File \u001b[0;32m/localscratch/stenhout/myvenv/lib/python3.9/site-packages/numba/core/dispatcher.py:965\u001b[0m, in \u001b[0;36mDispatcher.compile\u001b[0;34m(self, sig)\u001b[0m\n\u001b[1;32m    963\u001b[0m \u001b[38;5;28;01mwith\u001b[39;00m ev\u001b[38;5;241m.\u001b[39mtrigger_event(\u001b[38;5;124m\"\u001b[39m\u001b[38;5;124mnumba:compile\u001b[39m\u001b[38;5;124m\"\u001b[39m, data\u001b[38;5;241m=\u001b[39mev_details):\n\u001b[1;32m    964\u001b[0m     \u001b[38;5;28;01mtry\u001b[39;00m:\n\u001b[0;32m--> 965\u001b[0m         cres \u001b[38;5;241m=\u001b[39m \u001b[38;5;28;43mself\u001b[39;49m\u001b[38;5;241;43m.\u001b[39;49m\u001b[43m_compiler\u001b[49m\u001b[38;5;241;43m.\u001b[39;49m\u001b[43mcompile\u001b[49m\u001b[43m(\u001b[49m\u001b[43margs\u001b[49m\u001b[43m,\u001b[49m\u001b[43m \u001b[49m\u001b[43mreturn_type\u001b[49m\u001b[43m)\u001b[49m\n\u001b[1;32m    966\u001b[0m     \u001b[38;5;28;01mexcept\u001b[39;00m errors\u001b[38;5;241m.\u001b[39mForceLiteralArg \u001b[38;5;28;01mas\u001b[39;00m e:\n\u001b[1;32m    967\u001b[0m         \u001b[38;5;28;01mdef\u001b[39;00m \u001b[38;5;21mfolded\u001b[39m(args, kws):\n",
      "File \u001b[0;32m/localscratch/stenhout/myvenv/lib/python3.9/site-packages/numba/core/dispatcher.py:125\u001b[0m, in \u001b[0;36m_FunctionCompiler.compile\u001b[0;34m(self, args, return_type)\u001b[0m\n\u001b[1;32m    124\u001b[0m \u001b[38;5;28;01mdef\u001b[39;00m \u001b[38;5;21mcompile\u001b[39m(\u001b[38;5;28mself\u001b[39m, args, return_type):\n\u001b[0;32m--> 125\u001b[0m     status, retval \u001b[38;5;241m=\u001b[39m \u001b[38;5;28;43mself\u001b[39;49m\u001b[38;5;241;43m.\u001b[39;49m\u001b[43m_compile_cached\u001b[49m\u001b[43m(\u001b[49m\u001b[43margs\u001b[49m\u001b[43m,\u001b[49m\u001b[43m \u001b[49m\u001b[43mreturn_type\u001b[49m\u001b[43m)\u001b[49m\n\u001b[1;32m    126\u001b[0m     \u001b[38;5;28;01mif\u001b[39;00m status:\n\u001b[1;32m    127\u001b[0m         \u001b[38;5;28;01mreturn\u001b[39;00m retval\n",
      "File \u001b[0;32m/localscratch/stenhout/myvenv/lib/python3.9/site-packages/numba/core/dispatcher.py:139\u001b[0m, in \u001b[0;36m_FunctionCompiler._compile_cached\u001b[0;34m(self, args, return_type)\u001b[0m\n\u001b[1;32m    136\u001b[0m     \u001b[38;5;28;01mpass\u001b[39;00m\n\u001b[1;32m    138\u001b[0m \u001b[38;5;28;01mtry\u001b[39;00m:\n\u001b[0;32m--> 139\u001b[0m     retval \u001b[38;5;241m=\u001b[39m \u001b[38;5;28;43mself\u001b[39;49m\u001b[38;5;241;43m.\u001b[39;49m\u001b[43m_compile_core\u001b[49m\u001b[43m(\u001b[49m\u001b[43margs\u001b[49m\u001b[43m,\u001b[49m\u001b[43m \u001b[49m\u001b[43mreturn_type\u001b[49m\u001b[43m)\u001b[49m\n\u001b[1;32m    140\u001b[0m \u001b[38;5;28;01mexcept\u001b[39;00m errors\u001b[38;5;241m.\u001b[39mTypingError \u001b[38;5;28;01mas\u001b[39;00m e:\n\u001b[1;32m    141\u001b[0m     \u001b[38;5;28mself\u001b[39m\u001b[38;5;241m.\u001b[39m_failed_cache[key] \u001b[38;5;241m=\u001b[39m e\n",
      "File \u001b[0;32m/localscratch/stenhout/myvenv/lib/python3.9/site-packages/numba/core/dispatcher.py:152\u001b[0m, in \u001b[0;36m_FunctionCompiler._compile_core\u001b[0;34m(self, args, return_type)\u001b[0m\n\u001b[1;32m    149\u001b[0m flags \u001b[38;5;241m=\u001b[39m \u001b[38;5;28mself\u001b[39m\u001b[38;5;241m.\u001b[39m_customize_flags(flags)\n\u001b[1;32m    151\u001b[0m impl \u001b[38;5;241m=\u001b[39m \u001b[38;5;28mself\u001b[39m\u001b[38;5;241m.\u001b[39m_get_implementation(args, {})\n\u001b[0;32m--> 152\u001b[0m cres \u001b[38;5;241m=\u001b[39m \u001b[43mcompiler\u001b[49m\u001b[38;5;241;43m.\u001b[39;49m\u001b[43mcompile_extra\u001b[49m\u001b[43m(\u001b[49m\u001b[38;5;28;43mself\u001b[39;49m\u001b[38;5;241;43m.\u001b[39;49m\u001b[43mtargetdescr\u001b[49m\u001b[38;5;241;43m.\u001b[39;49m\u001b[43mtyping_context\u001b[49m\u001b[43m,\u001b[49m\n\u001b[1;32m    153\u001b[0m \u001b[43m                              \u001b[49m\u001b[38;5;28;43mself\u001b[39;49m\u001b[38;5;241;43m.\u001b[39;49m\u001b[43mtargetdescr\u001b[49m\u001b[38;5;241;43m.\u001b[39;49m\u001b[43mtarget_context\u001b[49m\u001b[43m,\u001b[49m\n\u001b[1;32m    154\u001b[0m \u001b[43m                              \u001b[49m\u001b[43mimpl\u001b[49m\u001b[43m,\u001b[49m\n\u001b[1;32m    155\u001b[0m \u001b[43m                              \u001b[49m\u001b[43margs\u001b[49m\u001b[38;5;241;43m=\u001b[39;49m\u001b[43margs\u001b[49m\u001b[43m,\u001b[49m\u001b[43m \u001b[49m\u001b[43mreturn_type\u001b[49m\u001b[38;5;241;43m=\u001b[39;49m\u001b[43mreturn_type\u001b[49m\u001b[43m,\u001b[49m\n\u001b[1;32m    156\u001b[0m \u001b[43m                              \u001b[49m\u001b[43mflags\u001b[49m\u001b[38;5;241;43m=\u001b[39;49m\u001b[43mflags\u001b[49m\u001b[43m,\u001b[49m\u001b[43m \u001b[49m\u001b[38;5;28;43mlocals\u001b[39;49m\u001b[38;5;241;43m=\u001b[39;49m\u001b[38;5;28;43mself\u001b[39;49m\u001b[38;5;241;43m.\u001b[39;49m\u001b[43mlocals\u001b[49m\u001b[43m,\u001b[49m\n\u001b[1;32m    157\u001b[0m \u001b[43m                              \u001b[49m\u001b[43mpipeline_class\u001b[49m\u001b[38;5;241;43m=\u001b[39;49m\u001b[38;5;28;43mself\u001b[39;49m\u001b[38;5;241;43m.\u001b[39;49m\u001b[43mpipeline_class\u001b[49m\u001b[43m)\u001b[49m\n\u001b[1;32m    158\u001b[0m \u001b[38;5;66;03m# Check typing error if object mode is used\u001b[39;00m\n\u001b[1;32m    159\u001b[0m \u001b[38;5;28;01mif\u001b[39;00m cres\u001b[38;5;241m.\u001b[39mtyping_error \u001b[38;5;129;01mis\u001b[39;00m \u001b[38;5;129;01mnot\u001b[39;00m \u001b[38;5;28;01mNone\u001b[39;00m \u001b[38;5;129;01mand\u001b[39;00m \u001b[38;5;129;01mnot\u001b[39;00m flags\u001b[38;5;241m.\u001b[39menable_pyobject:\n",
      "File \u001b[0;32m/localscratch/stenhout/myvenv/lib/python3.9/site-packages/numba/core/compiler.py:762\u001b[0m, in \u001b[0;36mcompile_extra\u001b[0;34m(typingctx, targetctx, func, args, return_type, flags, locals, library, pipeline_class)\u001b[0m\n\u001b[1;32m    738\u001b[0m \u001b[38;5;250m\u001b[39m\u001b[38;5;124;03m\"\"\"Compiler entry point\u001b[39;00m\n\u001b[1;32m    739\u001b[0m \n\u001b[1;32m    740\u001b[0m \u001b[38;5;124;03mParameter\u001b[39;00m\n\u001b[0;32m   (...)\u001b[0m\n\u001b[1;32m    758\u001b[0m \u001b[38;5;124;03m    compiler pipeline\u001b[39;00m\n\u001b[1;32m    759\u001b[0m \u001b[38;5;124;03m\"\"\"\u001b[39;00m\n\u001b[1;32m    760\u001b[0m pipeline \u001b[38;5;241m=\u001b[39m pipeline_class(typingctx, targetctx, library,\n\u001b[1;32m    761\u001b[0m                           args, return_type, flags, \u001b[38;5;28mlocals\u001b[39m)\n\u001b[0;32m--> 762\u001b[0m \u001b[38;5;28;01mreturn\u001b[39;00m \u001b[43mpipeline\u001b[49m\u001b[38;5;241;43m.\u001b[39;49m\u001b[43mcompile_extra\u001b[49m\u001b[43m(\u001b[49m\u001b[43mfunc\u001b[49m\u001b[43m)\u001b[49m\n",
      "File \u001b[0;32m/localscratch/stenhout/myvenv/lib/python3.9/site-packages/numba/core/compiler.py:460\u001b[0m, in \u001b[0;36mCompilerBase.compile_extra\u001b[0;34m(self, func)\u001b[0m\n\u001b[1;32m    458\u001b[0m \u001b[38;5;28mself\u001b[39m\u001b[38;5;241m.\u001b[39mstate\u001b[38;5;241m.\u001b[39mlifted \u001b[38;5;241m=\u001b[39m ()\n\u001b[1;32m    459\u001b[0m \u001b[38;5;28mself\u001b[39m\u001b[38;5;241m.\u001b[39mstate\u001b[38;5;241m.\u001b[39mlifted_from \u001b[38;5;241m=\u001b[39m \u001b[38;5;28;01mNone\u001b[39;00m\n\u001b[0;32m--> 460\u001b[0m \u001b[38;5;28;01mreturn\u001b[39;00m \u001b[38;5;28;43mself\u001b[39;49m\u001b[38;5;241;43m.\u001b[39;49m\u001b[43m_compile_bytecode\u001b[49m\u001b[43m(\u001b[49m\u001b[43m)\u001b[49m\n",
      "File \u001b[0;32m/localscratch/stenhout/myvenv/lib/python3.9/site-packages/numba/core/compiler.py:528\u001b[0m, in \u001b[0;36mCompilerBase._compile_bytecode\u001b[0;34m(self)\u001b[0m\n\u001b[1;32m    524\u001b[0m \u001b[38;5;250m\u001b[39m\u001b[38;5;124;03m\"\"\"\u001b[39;00m\n\u001b[1;32m    525\u001b[0m \u001b[38;5;124;03mPopulate and run pipeline for bytecode input\u001b[39;00m\n\u001b[1;32m    526\u001b[0m \u001b[38;5;124;03m\"\"\"\u001b[39;00m\n\u001b[1;32m    527\u001b[0m \u001b[38;5;28;01massert\u001b[39;00m \u001b[38;5;28mself\u001b[39m\u001b[38;5;241m.\u001b[39mstate\u001b[38;5;241m.\u001b[39mfunc_ir \u001b[38;5;129;01mis\u001b[39;00m \u001b[38;5;28;01mNone\u001b[39;00m\n\u001b[0;32m--> 528\u001b[0m \u001b[38;5;28;01mreturn\u001b[39;00m \u001b[38;5;28;43mself\u001b[39;49m\u001b[38;5;241;43m.\u001b[39;49m\u001b[43m_compile_core\u001b[49m\u001b[43m(\u001b[49m\u001b[43m)\u001b[49m\n",
      "File \u001b[0;32m/localscratch/stenhout/myvenv/lib/python3.9/site-packages/numba/core/compiler.py:507\u001b[0m, in \u001b[0;36mCompilerBase._compile_core\u001b[0;34m(self)\u001b[0m\n\u001b[1;32m    505\u001b[0m         \u001b[38;5;28mself\u001b[39m\u001b[38;5;241m.\u001b[39mstate\u001b[38;5;241m.\u001b[39mstatus\u001b[38;5;241m.\u001b[39mfail_reason \u001b[38;5;241m=\u001b[39m e\n\u001b[1;32m    506\u001b[0m         \u001b[38;5;28;01mif\u001b[39;00m is_final_pipeline:\n\u001b[0;32m--> 507\u001b[0m             \u001b[38;5;28;01mraise\u001b[39;00m e\n\u001b[1;32m    508\u001b[0m \u001b[38;5;28;01melse\u001b[39;00m:\n\u001b[1;32m    509\u001b[0m     \u001b[38;5;28;01mraise\u001b[39;00m CompilerError(\u001b[38;5;124m\"\u001b[39m\u001b[38;5;124mAll available pipelines exhausted\u001b[39m\u001b[38;5;124m\"\u001b[39m)\n",
      "File \u001b[0;32m/localscratch/stenhout/myvenv/lib/python3.9/site-packages/numba/core/compiler.py:494\u001b[0m, in \u001b[0;36mCompilerBase._compile_core\u001b[0;34m(self)\u001b[0m\n\u001b[1;32m    492\u001b[0m res \u001b[38;5;241m=\u001b[39m \u001b[38;5;28;01mNone\u001b[39;00m\n\u001b[1;32m    493\u001b[0m \u001b[38;5;28;01mtry\u001b[39;00m:\n\u001b[0;32m--> 494\u001b[0m     \u001b[43mpm\u001b[49m\u001b[38;5;241;43m.\u001b[39;49m\u001b[43mrun\u001b[49m\u001b[43m(\u001b[49m\u001b[38;5;28;43mself\u001b[39;49m\u001b[38;5;241;43m.\u001b[39;49m\u001b[43mstate\u001b[49m\u001b[43m)\u001b[49m\n\u001b[1;32m    495\u001b[0m     \u001b[38;5;28;01mif\u001b[39;00m \u001b[38;5;28mself\u001b[39m\u001b[38;5;241m.\u001b[39mstate\u001b[38;5;241m.\u001b[39mcr \u001b[38;5;129;01mis\u001b[39;00m \u001b[38;5;129;01mnot\u001b[39;00m \u001b[38;5;28;01mNone\u001b[39;00m:\n\u001b[1;32m    496\u001b[0m         \u001b[38;5;28;01mbreak\u001b[39;00m\n",
      "File \u001b[0;32m/localscratch/stenhout/myvenv/lib/python3.9/site-packages/numba/core/compiler_machinery.py:368\u001b[0m, in \u001b[0;36mPassManager.run\u001b[0;34m(self, state)\u001b[0m\n\u001b[1;32m    365\u001b[0m msg \u001b[38;5;241m=\u001b[39m \u001b[38;5;124m\"\u001b[39m\u001b[38;5;124mFailed in \u001b[39m\u001b[38;5;132;01m%s\u001b[39;00m\u001b[38;5;124m mode pipeline (step: \u001b[39m\u001b[38;5;132;01m%s\u001b[39;00m\u001b[38;5;124m)\u001b[39m\u001b[38;5;124m\"\u001b[39m \u001b[38;5;241m%\u001b[39m \\\n\u001b[1;32m    366\u001b[0m     (\u001b[38;5;28mself\u001b[39m\u001b[38;5;241m.\u001b[39mpipeline_name, pass_desc)\n\u001b[1;32m    367\u001b[0m patched_exception \u001b[38;5;241m=\u001b[39m \u001b[38;5;28mself\u001b[39m\u001b[38;5;241m.\u001b[39m_patch_error(msg, e)\n\u001b[0;32m--> 368\u001b[0m \u001b[38;5;28;01mraise\u001b[39;00m patched_exception\n",
      "File \u001b[0;32m/localscratch/stenhout/myvenv/lib/python3.9/site-packages/numba/core/compiler_machinery.py:356\u001b[0m, in \u001b[0;36mPassManager.run\u001b[0;34m(self, state)\u001b[0m\n\u001b[1;32m    354\u001b[0m pass_inst \u001b[38;5;241m=\u001b[39m _pass_registry\u001b[38;5;241m.\u001b[39mget(pss)\u001b[38;5;241m.\u001b[39mpass_inst\n\u001b[1;32m    355\u001b[0m \u001b[38;5;28;01mif\u001b[39;00m \u001b[38;5;28misinstance\u001b[39m(pass_inst, CompilerPass):\n\u001b[0;32m--> 356\u001b[0m     \u001b[38;5;28;43mself\u001b[39;49m\u001b[38;5;241;43m.\u001b[39;49m\u001b[43m_runPass\u001b[49m\u001b[43m(\u001b[49m\u001b[43midx\u001b[49m\u001b[43m,\u001b[49m\u001b[43m \u001b[49m\u001b[43mpass_inst\u001b[49m\u001b[43m,\u001b[49m\u001b[43m \u001b[49m\u001b[43mstate\u001b[49m\u001b[43m)\u001b[49m\n\u001b[1;32m    357\u001b[0m \u001b[38;5;28;01melse\u001b[39;00m:\n\u001b[1;32m    358\u001b[0m     \u001b[38;5;28;01mraise\u001b[39;00m \u001b[38;5;167;01mBaseException\u001b[39;00m(\u001b[38;5;124m\"\u001b[39m\u001b[38;5;124mLegacy pass in use\u001b[39m\u001b[38;5;124m\"\u001b[39m)\n",
      "File \u001b[0;32m/localscratch/stenhout/myvenv/lib/python3.9/site-packages/numba/core/compiler_lock.py:35\u001b[0m, in \u001b[0;36m_CompilerLock.__call__.<locals>._acquire_compile_lock\u001b[0;34m(*args, **kwargs)\u001b[0m\n\u001b[1;32m     32\u001b[0m \u001b[38;5;129m@functools\u001b[39m\u001b[38;5;241m.\u001b[39mwraps(func)\n\u001b[1;32m     33\u001b[0m \u001b[38;5;28;01mdef\u001b[39;00m \u001b[38;5;21m_acquire_compile_lock\u001b[39m(\u001b[38;5;241m*\u001b[39margs, \u001b[38;5;241m*\u001b[39m\u001b[38;5;241m*\u001b[39mkwargs):\n\u001b[1;32m     34\u001b[0m     \u001b[38;5;28;01mwith\u001b[39;00m \u001b[38;5;28mself\u001b[39m:\n\u001b[0;32m---> 35\u001b[0m         \u001b[38;5;28;01mreturn\u001b[39;00m \u001b[43mfunc\u001b[49m\u001b[43m(\u001b[49m\u001b[38;5;241;43m*\u001b[39;49m\u001b[43margs\u001b[49m\u001b[43m,\u001b[49m\u001b[43m \u001b[49m\u001b[38;5;241;43m*\u001b[39;49m\u001b[38;5;241;43m*\u001b[39;49m\u001b[43mkwargs\u001b[49m\u001b[43m)\u001b[49m\n",
      "File \u001b[0;32m/localscratch/stenhout/myvenv/lib/python3.9/site-packages/numba/core/compiler_machinery.py:311\u001b[0m, in \u001b[0;36mPassManager._runPass\u001b[0;34m(self, index, pss, internal_state)\u001b[0m\n\u001b[1;32m    309\u001b[0m     mutated \u001b[38;5;241m|\u001b[39m\u001b[38;5;241m=\u001b[39m check(pss\u001b[38;5;241m.\u001b[39mrun_initialization, internal_state)\n\u001b[1;32m    310\u001b[0m \u001b[38;5;28;01mwith\u001b[39;00m SimpleTimer() \u001b[38;5;28;01mas\u001b[39;00m pass_time:\n\u001b[0;32m--> 311\u001b[0m     mutated \u001b[38;5;241m|\u001b[39m\u001b[38;5;241m=\u001b[39m \u001b[43mcheck\u001b[49m\u001b[43m(\u001b[49m\u001b[43mpss\u001b[49m\u001b[38;5;241;43m.\u001b[39;49m\u001b[43mrun_pass\u001b[49m\u001b[43m,\u001b[49m\u001b[43m \u001b[49m\u001b[43minternal_state\u001b[49m\u001b[43m)\u001b[49m\n\u001b[1;32m    312\u001b[0m \u001b[38;5;28;01mwith\u001b[39;00m SimpleTimer() \u001b[38;5;28;01mas\u001b[39;00m finalize_time:\n\u001b[1;32m    313\u001b[0m     mutated \u001b[38;5;241m|\u001b[39m\u001b[38;5;241m=\u001b[39m check(pss\u001b[38;5;241m.\u001b[39mrun_finalizer, internal_state)\n",
      "File \u001b[0;32m/localscratch/stenhout/myvenv/lib/python3.9/site-packages/numba/core/compiler_machinery.py:273\u001b[0m, in \u001b[0;36mPassManager._runPass.<locals>.check\u001b[0;34m(func, compiler_state)\u001b[0m\n\u001b[1;32m    272\u001b[0m \u001b[38;5;28;01mdef\u001b[39;00m \u001b[38;5;21mcheck\u001b[39m(func, compiler_state):\n\u001b[0;32m--> 273\u001b[0m     mangled \u001b[38;5;241m=\u001b[39m \u001b[43mfunc\u001b[49m\u001b[43m(\u001b[49m\u001b[43mcompiler_state\u001b[49m\u001b[43m)\u001b[49m\n\u001b[1;32m    274\u001b[0m     \u001b[38;5;28;01mif\u001b[39;00m mangled \u001b[38;5;129;01mnot\u001b[39;00m \u001b[38;5;129;01min\u001b[39;00m (\u001b[38;5;28;01mTrue\u001b[39;00m, \u001b[38;5;28;01mFalse\u001b[39;00m):\n\u001b[1;32m    275\u001b[0m         msg \u001b[38;5;241m=\u001b[39m (\u001b[38;5;124m\"\u001b[39m\u001b[38;5;124mCompilerPass implementations should return True/False. \u001b[39m\u001b[38;5;124m\"\u001b[39m\n\u001b[1;32m    276\u001b[0m                \u001b[38;5;124m\"\u001b[39m\u001b[38;5;124mCompilerPass with name \u001b[39m\u001b[38;5;124m'\u001b[39m\u001b[38;5;132;01m%s\u001b[39;00m\u001b[38;5;124m'\u001b[39m\u001b[38;5;124m did not.\u001b[39m\u001b[38;5;124m\"\u001b[39m)\n",
      "File \u001b[0;32m/localscratch/stenhout/myvenv/lib/python3.9/site-packages/numba/core/typed_passes.py:466\u001b[0m, in \u001b[0;36mBaseNativeLowering.run_pass\u001b[0;34m(self, state)\u001b[0m\n\u001b[1;32m    463\u001b[0m \u001b[38;5;28;01mwith\u001b[39;00m targetctx\u001b[38;5;241m.\u001b[39mpush_code_library(library):\n\u001b[1;32m    464\u001b[0m     lower \u001b[38;5;241m=\u001b[39m \u001b[38;5;28mself\u001b[39m\u001b[38;5;241m.\u001b[39mlowering_class(targetctx, library, fndesc, interp,\n\u001b[1;32m    465\u001b[0m                                 metadata\u001b[38;5;241m=\u001b[39mmetadata)\n\u001b[0;32m--> 466\u001b[0m     \u001b[43mlower\u001b[49m\u001b[38;5;241;43m.\u001b[39;49m\u001b[43mlower\u001b[49m\u001b[43m(\u001b[49m\u001b[43m)\u001b[49m\n\u001b[1;32m    467\u001b[0m     \u001b[38;5;28;01mif\u001b[39;00m \u001b[38;5;129;01mnot\u001b[39;00m flags\u001b[38;5;241m.\u001b[39mno_cpython_wrapper:\n\u001b[1;32m    468\u001b[0m         lower\u001b[38;5;241m.\u001b[39mcreate_cpython_wrapper(flags\u001b[38;5;241m.\u001b[39mrelease_gil)\n",
      "File \u001b[0;32m/localscratch/stenhout/myvenv/lib/python3.9/site-packages/numba/core/lowering.py:187\u001b[0m, in \u001b[0;36mBaseLower.lower\u001b[0;34m(self)\u001b[0m\n\u001b[1;32m    185\u001b[0m \u001b[38;5;28;01mif\u001b[39;00m \u001b[38;5;28mself\u001b[39m\u001b[38;5;241m.\u001b[39mgenerator_info \u001b[38;5;129;01mis\u001b[39;00m \u001b[38;5;28;01mNone\u001b[39;00m:\n\u001b[1;32m    186\u001b[0m     \u001b[38;5;28mself\u001b[39m\u001b[38;5;241m.\u001b[39mgenlower \u001b[38;5;241m=\u001b[39m \u001b[38;5;28;01mNone\u001b[39;00m\n\u001b[0;32m--> 187\u001b[0m     \u001b[38;5;28;43mself\u001b[39;49m\u001b[38;5;241;43m.\u001b[39;49m\u001b[43mlower_normal_function\u001b[49m\u001b[43m(\u001b[49m\u001b[38;5;28;43mself\u001b[39;49m\u001b[38;5;241;43m.\u001b[39;49m\u001b[43mfndesc\u001b[49m\u001b[43m)\u001b[49m\n\u001b[1;32m    188\u001b[0m \u001b[38;5;28;01melse\u001b[39;00m:\n\u001b[1;32m    189\u001b[0m     \u001b[38;5;28mself\u001b[39m\u001b[38;5;241m.\u001b[39mgenlower \u001b[38;5;241m=\u001b[39m \u001b[38;5;28mself\u001b[39m\u001b[38;5;241m.\u001b[39mGeneratorLower(\u001b[38;5;28mself\u001b[39m)\n",
      "File \u001b[0;32m/localscratch/stenhout/myvenv/lib/python3.9/site-packages/numba/core/lowering.py:241\u001b[0m, in \u001b[0;36mBaseLower.lower_normal_function\u001b[0;34m(self, fndesc)\u001b[0m\n\u001b[1;32m    239\u001b[0m \u001b[38;5;66;03m# Init argument values\u001b[39;00m\n\u001b[1;32m    240\u001b[0m \u001b[38;5;28mself\u001b[39m\u001b[38;5;241m.\u001b[39mextract_function_arguments()\n\u001b[0;32m--> 241\u001b[0m entry_block_tail \u001b[38;5;241m=\u001b[39m \u001b[38;5;28;43mself\u001b[39;49m\u001b[38;5;241;43m.\u001b[39;49m\u001b[43mlower_function_body\u001b[49m\u001b[43m(\u001b[49m\u001b[43m)\u001b[49m\n\u001b[1;32m    243\u001b[0m \u001b[38;5;66;03m# Close tail of entry block, do not emit debug metadata else the\u001b[39;00m\n\u001b[1;32m    244\u001b[0m \u001b[38;5;66;03m# unconditional jump gets associated with the metadata from the function\u001b[39;00m\n\u001b[1;32m    245\u001b[0m \u001b[38;5;66;03m# body end.\u001b[39;00m\n\u001b[1;32m    246\u001b[0m \u001b[38;5;28;01mwith\u001b[39;00m debuginfo\u001b[38;5;241m.\u001b[39msuspend_emission(\u001b[38;5;28mself\u001b[39m\u001b[38;5;241m.\u001b[39mbuilder):\n",
      "File \u001b[0;32m/localscratch/stenhout/myvenv/lib/python3.9/site-packages/numba/core/lowering.py:271\u001b[0m, in \u001b[0;36mBaseLower.lower_function_body\u001b[0;34m(self)\u001b[0m\n\u001b[1;32m    269\u001b[0m     \u001b[38;5;28mself\u001b[39m\u001b[38;5;241m.\u001b[39mbuilder\u001b[38;5;241m.\u001b[39mposition_at_end(bb)\n\u001b[1;32m    270\u001b[0m     \u001b[38;5;28mself\u001b[39m\u001b[38;5;241m.\u001b[39mdebug_print(\u001b[38;5;124mf\u001b[39m\u001b[38;5;124m\"\u001b[39m\u001b[38;5;124m# lower block: \u001b[39m\u001b[38;5;132;01m{\u001b[39;00moffset\u001b[38;5;132;01m}\u001b[39;00m\u001b[38;5;124m\"\u001b[39m)\n\u001b[0;32m--> 271\u001b[0m     \u001b[38;5;28;43mself\u001b[39;49m\u001b[38;5;241;43m.\u001b[39;49m\u001b[43mlower_block\u001b[49m\u001b[43m(\u001b[49m\u001b[43mblock\u001b[49m\u001b[43m)\u001b[49m\n\u001b[1;32m    272\u001b[0m \u001b[38;5;28mself\u001b[39m\u001b[38;5;241m.\u001b[39mpost_lower()\n\u001b[1;32m    273\u001b[0m \u001b[38;5;28;01mreturn\u001b[39;00m entry_block_tail\n",
      "File \u001b[0;32m/localscratch/stenhout/myvenv/lib/python3.9/site-packages/numba/core/lowering.py:285\u001b[0m, in \u001b[0;36mBaseLower.lower_block\u001b[0;34m(self, block)\u001b[0m\n\u001b[1;32m    282\u001b[0m     defaulterrcls \u001b[38;5;241m=\u001b[39m partial(LoweringError, loc\u001b[38;5;241m=\u001b[39m\u001b[38;5;28mself\u001b[39m\u001b[38;5;241m.\u001b[39mloc)\n\u001b[1;32m    283\u001b[0m     \u001b[38;5;28;01mwith\u001b[39;00m new_error_context(\u001b[38;5;124m'\u001b[39m\u001b[38;5;124mlowering \u001b[39m\u001b[38;5;124m\"\u001b[39m\u001b[38;5;132;01m{inst}\u001b[39;00m\u001b[38;5;124m\"\u001b[39m\u001b[38;5;124m at \u001b[39m\u001b[38;5;132;01m{loc}\u001b[39;00m\u001b[38;5;124m'\u001b[39m, inst\u001b[38;5;241m=\u001b[39minst,\n\u001b[1;32m    284\u001b[0m                            loc\u001b[38;5;241m=\u001b[39m\u001b[38;5;28mself\u001b[39m\u001b[38;5;241m.\u001b[39mloc, errcls_\u001b[38;5;241m=\u001b[39mdefaulterrcls):\n\u001b[0;32m--> 285\u001b[0m         \u001b[38;5;28mself\u001b[39m\u001b[38;5;241m.\u001b[39mlower_inst(inst)\n\u001b[1;32m    286\u001b[0m \u001b[38;5;28mself\u001b[39m\u001b[38;5;241m.\u001b[39mpost_block(block)\n",
      "File \u001b[0;32m/usr/lib/python3.9/contextlib.py:135\u001b[0m, in \u001b[0;36m_GeneratorContextManager.__exit__\u001b[0;34m(self, type, value, traceback)\u001b[0m\n\u001b[1;32m    133\u001b[0m     value \u001b[38;5;241m=\u001b[39m \u001b[38;5;28mtype\u001b[39m()\n\u001b[1;32m    134\u001b[0m \u001b[38;5;28;01mtry\u001b[39;00m:\n\u001b[0;32m--> 135\u001b[0m     \u001b[38;5;28;43mself\u001b[39;49m\u001b[38;5;241;43m.\u001b[39;49m\u001b[43mgen\u001b[49m\u001b[38;5;241;43m.\u001b[39;49m\u001b[43mthrow\u001b[49m\u001b[43m(\u001b[49m\u001b[38;5;28;43mtype\u001b[39;49m\u001b[43m,\u001b[49m\u001b[43m \u001b[49m\u001b[43mvalue\u001b[49m\u001b[43m,\u001b[49m\u001b[43m \u001b[49m\u001b[43mtraceback\u001b[49m\u001b[43m)\u001b[49m\n\u001b[1;32m    136\u001b[0m \u001b[38;5;28;01mexcept\u001b[39;00m \u001b[38;5;167;01mStopIteration\u001b[39;00m \u001b[38;5;28;01mas\u001b[39;00m exc:\n\u001b[1;32m    137\u001b[0m     \u001b[38;5;66;03m# Suppress StopIteration *unless* it's the same exception that\u001b[39;00m\n\u001b[1;32m    138\u001b[0m     \u001b[38;5;66;03m# was passed to throw().  This prevents a StopIteration\u001b[39;00m\n\u001b[1;32m    139\u001b[0m     \u001b[38;5;66;03m# raised inside the \"with\" statement from being suppressed.\u001b[39;00m\n\u001b[1;32m    140\u001b[0m     \u001b[38;5;28;01mreturn\u001b[39;00m exc \u001b[38;5;129;01mis\u001b[39;00m \u001b[38;5;129;01mnot\u001b[39;00m value\n",
      "File \u001b[0;32m/localscratch/stenhout/myvenv/lib/python3.9/site-packages/numba/core/errors.py:837\u001b[0m, in \u001b[0;36mnew_error_context\u001b[0;34m(fmt_, *args, **kwargs)\u001b[0m\n\u001b[1;32m    835\u001b[0m     \u001b[38;5;28;01melse\u001b[39;00m:\n\u001b[1;32m    836\u001b[0m         tb \u001b[38;5;241m=\u001b[39m \u001b[38;5;28;01mNone\u001b[39;00m\n\u001b[0;32m--> 837\u001b[0m     \u001b[38;5;28;01mraise\u001b[39;00m newerr\u001b[38;5;241m.\u001b[39mwith_traceback(tb)\n\u001b[1;32m    838\u001b[0m \u001b[38;5;28;01melif\u001b[39;00m use_new_style_errors():\n\u001b[1;32m    839\u001b[0m     \u001b[38;5;28;01mraise\u001b[39;00m e\n",
      "\u001b[0;31mLoweringError\u001b[0m: Failed in nopython mode pipeline (step: native lowering)\nunhashable type: 'dict'\n\nFile \"../../../tmp/ipykernel_468254/3829268290.py\", line 85:\n<source missing, REPL/exec in use?>\n\nDuring: lowering \"print(dataset)\" at /tmp/ipykernel_468254/3829268290.py (85)"
     ]
    }
   ],
   "source": [
    "met_VH=None\n",
    "met_WWW=None\n",
    "met_bkg=None\n",
    "\n",
    "dr_VH=None\n",
    "dr_WWW=None\n",
    "dr_bkg=None\n",
    "\n",
    "\n",
    "invarM_VH=None\n",
    "invarM_WWW=None\n",
    "invarM_bkg=None\n",
    "\n",
    "batch_size=5000\n",
    "\n",
    "myfilter=\"/(MissingET.(MET|Phi)|Particle.(PID|Status)|Electron.(PT|Eta|Phi)|Muon.(PT|Eta|Phi)|Jet.(PT|Eta|Phi))/\"\n",
    "\n",
    "#loop over VH/WWW\n",
    "ntotal_VH=0\n",
    "nselected_VH=0\n",
    "ntotal_WWW=0\n",
    "nselected_WWW=0\n",
    "iterator = uproot.iterate([f+\":Delphes\" for f in root_signal],step_size=batch_size, filter_name=myfilter)\n",
    "for batch in tqdm(iterator, total=N_root_sig//batch_size):\n",
    "        higgs=checkHiggs(batch)\n",
    "        met, metPhi=get_MET(batch)\n",
    "        #print(met)\n",
    "        dr =get_minDRll(batch)\n",
    "        presel=preselection(batch)\n",
    "        if met_VH is not None:\n",
    "                met_VH=np.concatenate((met_VH,met[np.logical_and(higgs,presel)]),axis=0)\n",
    "                met_WWW=np.concatenate((met_WWW,met[np.logical_and(~higgs,presel)]),axis=0)\n",
    "\n",
    "                dr_VH=np.concatenate((dr_VH,dr[np.logical_and(higgs,presel)]),axis=0)\n",
    "                dr_WWW=np.concatenate((dr_WWW,dr[np.logical_and(~higgs,presel)]),axis=0)\n",
    "\n",
    "                #invarM_VH=np.concatenate((dr_VH,dr[np.logical_and(higgs,presel)]),axis=0)\n",
    "               # invarM_WWW=np.concatenate((dr_VH,dr[np.logical_and(higgs,presel)]),axis=0)\n",
    "        else:\n",
    "                met_VH=np.array(met[np.logical_and(higgs,presel)])\n",
    "                met_WWW=np.array(met[np.logical_and(~higgs,presel)])\n",
    "\n",
    "                dr_VH=np.array(dr[np.logical_and(higgs,presel)])\n",
    "                dr_WWW=np.array(dr[np.logical_and(~higgs,presel)])\n",
    "\n",
    "              # invarM_VH=np.array(dr[np.logical_and(higgs,presel)])\n",
    "              #  invarM_WWW=np.array(dr[np.logical_and(~higgs,presel)])\n",
    "\n",
    "        ntotal_VH+=higgs.sum()\n",
    "        ntotal_WWW+=(~higgs).sum()\n",
    "        nselected_VH+=np.logical_and(higgs,presel).sum()\n",
    "        nselected_WWW+=np.logical_and(~higgs,presel).sum()\n",
    "\n",
    "print(\"Preselection efficiency for VH events: %2.2f %%\"%(100.*nselected_VH/ntotal_VH))\n",
    "print(\"Preselection efficiency for WWW events: %2.2f %%\"%(100.*nselected_WWW/ntotal_WWW))\n"
   ]
  },
  {
   "cell_type": "code",
   "execution_count": null,
   "metadata": {},
   "outputs": [],
   "source": [
    "\n",
    "#loop over background\n",
    "ntotal=0\n",
    "nselected=0\n",
    "iterator = uproot.iterate([f+\":Delphes\" for f in root_bkg],step_size=batch_size, filter_name=myfilter)\n",
    "for batch in tqdm(iterator, total=N_root_bgk/batch_size):\n",
    "        met=get_MET(batch)\n",
    "        dr=get_minDRll(batch)\n",
    "        presel=preselection(batch)\n",
    "        invarM=get_invarM(batch)\n",
    "        if met_bkg is not None:\n",
    "                met_bkg=np.concatenate((met_bkg,met[presel]),axis=0)\n",
    "                dr_bkg=np.concatenate((dr_bkg,dr[presel]),axis=0)\n",
    "                invarM_bkg=np.concatenate((invarM_bkg,invarM[presel],axis=0)\n",
    "\n",
    "        else:\n",
    "                met_bkg=np.array(met[presel])\n",
    "                dr_bkg=np.array(dr[presel])\n",
    "                invarM_bkg=np.array(invarM[presel)\n",
    "\n",
    "        ntotal+=len(batch)\n",
    "        nselected+=presel.sum()\n",
    "print(\"Preselection efficiency for background events: %2.2f %%\"%(100.*nselected/ntotal))"
   ]
  },
  {
   "cell_type": "code",
   "execution_count": 22,
   "metadata": {},
   "outputs": [
    {
     "ename": "NameError",
     "evalue": "name 'pd' is not defined",
     "output_type": "error",
     "traceback": [
      "\u001b[0;31m---------------------------------------------------------------------------\u001b[0m",
      "\u001b[0;31mNameError\u001b[0m                                 Traceback (most recent call last)",
      "Cell \u001b[0;32mIn[22], line 1\u001b[0m\n\u001b[0;32m----> 1\u001b[0m df_VH \u001b[38;5;241m=\u001b[39m \u001b[43mpd\u001b[49m\u001b[38;5;241m.\u001b[39mDataFrame(met_VH) \n\u001b[1;32m      2\u001b[0m df_VH\u001b[38;5;241m.\u001b[39minsert(loc\u001b[38;5;241m=\u001b[39m\u001b[38;5;241m0\u001b[39m, column\u001b[38;5;241m=\u001b[39m\u001b[38;5;124m'\u001b[39m\u001b[38;5;124mdR\u001b[39m\u001b[38;5;124m'\u001b[39m,value\u001b[38;5;241m=\u001b[39mdr_VH)\n\u001b[1;32m      3\u001b[0m df_VH\u001b[38;5;241m.\u001b[39minsert(loc\u001b[38;5;241m=\u001b[39m\u001b[38;5;241m0\u001b[39m, column\u001b[38;5;241m=\u001b[39m\u001b[38;5;124m'\u001b[39m\u001b[38;5;124mtype\u001b[39m\u001b[38;5;124m'\u001b[39m, value\u001b[38;5;241m=\u001b[39m\u001b[38;5;124m'\u001b[39m\u001b[38;5;124mVH\u001b[39m\u001b[38;5;124m'\u001b[39m)\n",
      "\u001b[0;31mNameError\u001b[0m: name 'pd' is not defined"
     ]
    }
   ],
   "source": [
    "df_VH = pd.DataFrame(met_VH) \n",
    "df_VH.insert(loc=0, column='dR',value=dr_VH)\n",
    "df_VH.insert(loc=0, column='type', value='VH')\n",
    "df_VH.columns=['type', 'dR', 'MET']\n",
    "\n",
    "df_WWW = pd.DataFrame(met_WWW) \n",
    "df_WWW.insert(loc=0, column='dR',value=dr_WWW)\n",
    "df_WWW.insert(loc=0, column='type', value='WWW')\n",
    "df_WWW.columns=['type', 'dR', 'MET']\n",
    "\n",
    "df_bkg = pd.DataFrame(met_bkg) \n",
    "df_bkg.insert(loc=0, column='dR',value=dr_bkg)\n",
    "df_bkg.insert(loc=0, column='type', value='bkg')\n",
    "df_bkg.columns=['type', 'dR', 'MET']\n",
    "df=pd.concat([df_WWW, df_VH, df_bkg], axis=0, ignore_index=True)\n",
    "df.head()\n",
    "\n"
   ]
  },
  {
   "cell_type": "code",
   "execution_count": 23,
   "metadata": {
    "scrolled": true
   },
   "outputs": [
    {
     "ename": "NameError",
     "evalue": "name 'df' is not defined",
     "output_type": "error",
     "traceback": [
      "\u001b[0;31m---------------------------------------------------------------------------\u001b[0m",
      "\u001b[0;31mNameError\u001b[0m                                 Traceback (most recent call last)",
      "Cell \u001b[0;32mIn[23], line 1\u001b[0m\n\u001b[0;32m----> 1\u001b[0m plt\u001b[38;5;241m.\u001b[39mscatter(\u001b[43mdf\u001b[49m[\u001b[38;5;124m'\u001b[39m\u001b[38;5;124mdR\u001b[39m\u001b[38;5;124m'\u001b[39m], df[\u001b[38;5;124m'\u001b[39m\u001b[38;5;124mMET\u001b[39m\u001b[38;5;124m'\u001b[39m])\n\u001b[1;32m      2\u001b[0m plt\u001b[38;5;241m.\u001b[39mshow()\n",
      "\u001b[0;31mNameError\u001b[0m: name 'df' is not defined"
     ]
    }
   ],
   "source": [
    "plt.scatter(df['dR'], df['MET'])\n",
    "plt.show()"
   ]
  },
  {
   "cell_type": "code",
   "execution_count": 24,
   "metadata": {},
   "outputs": [],
   "source": [
    "#scale to given luminosity\n",
    "lumi=400 #inverse fb\n",
    "\n",
    "n_sig=lumi*xSection_sig*1000\n",
    "n_bkg=lumi*xSection_bkg*1000\n",
    "\n",
    "weight_sig=n_sig/N_root_sig\n",
    "weight_bkg=n_bkg/N_root_bgk"
   ]
  },
  {
   "cell_type": "code",
   "execution_count": 25,
   "metadata": {},
   "outputs": [
    {
     "ename": "AttributeError",
     "evalue": "'NoneType' object has no attribute 'shape'",
     "output_type": "error",
     "traceback": [
      "\u001b[0;31m---------------------------------------------------------------------------\u001b[0m",
      "\u001b[0;31mAttributeError\u001b[0m                            Traceback (most recent call last)",
      "Cell \u001b[0;32mIn[25], line 4\u001b[0m\n\u001b[1;32m      1\u001b[0m fig,ax\u001b[38;5;241m=\u001b[39mplt\u001b[38;5;241m.\u001b[39msubplots(\u001b[38;5;241m1\u001b[39m,\u001b[38;5;241m2\u001b[39m,figsize\u001b[38;5;241m=\u001b[39m(\u001b[38;5;241m12\u001b[39m,\u001b[38;5;241m6\u001b[39m))\n\u001b[1;32m      2\u001b[0m bins\u001b[38;5;241m=\u001b[39mnp\u001b[38;5;241m.\u001b[39mlinspace(\u001b[38;5;241m0.\u001b[39m,\u001b[38;5;241m500.\u001b[39m,\u001b[38;5;241m100\u001b[39m)\n\u001b[1;32m      3\u001b[0m ax[\u001b[38;5;241m0\u001b[39m]\u001b[38;5;241m.\u001b[39mhist([met_VH,met_WWW,met_bkg],bins\u001b[38;5;241m=\u001b[39mbins,\n\u001b[0;32m----> 4\u001b[0m         weights\u001b[38;5;241m=\u001b[39m[np\u001b[38;5;241m.\u001b[39mfull(\u001b[43mmet_VH\u001b[49m\u001b[38;5;241;43m.\u001b[39;49m\u001b[43mshape\u001b[49m,weight_sig),\n\u001b[1;32m      5\u001b[0m                  np\u001b[38;5;241m.\u001b[39mfull(met_WWW\u001b[38;5;241m.\u001b[39mshape,weight_sig),\n\u001b[1;32m      6\u001b[0m                  np\u001b[38;5;241m.\u001b[39mfull(met_bkg\u001b[38;5;241m.\u001b[39mshape,weight_bkg)],\n\u001b[1;32m      7\u001b[0m         histtype\u001b[38;5;241m=\u001b[39m\u001b[38;5;124m'\u001b[39m\u001b[38;5;124mbar\u001b[39m\u001b[38;5;124m'\u001b[39m, stacked\u001b[38;5;241m=\u001b[39m\u001b[38;5;28;01mTrue\u001b[39;00m,label\u001b[38;5;241m=\u001b[39m[\u001b[38;5;124m\"\u001b[39m\u001b[38;5;124mVH\u001b[39m\u001b[38;5;124m\"\u001b[39m,\u001b[38;5;124m\"\u001b[39m\u001b[38;5;124mWWW\u001b[39m\u001b[38;5;124m\"\u001b[39m,\u001b[38;5;124m\"\u001b[39m\u001b[38;5;124mbkg\u001b[39m\u001b[38;5;124m\"\u001b[39m])\n\u001b[1;32m      8\u001b[0m ax[\u001b[38;5;241m0\u001b[39m]\u001b[38;5;241m.\u001b[39mset_yscale(\u001b[38;5;124m'\u001b[39m\u001b[38;5;124mlog\u001b[39m\u001b[38;5;124m'\u001b[39m)\n\u001b[1;32m      9\u001b[0m ax[\u001b[38;5;241m0\u001b[39m]\u001b[38;5;241m.\u001b[39mtext(\u001b[38;5;241m0.55\u001b[39m,\u001b[38;5;241m0.95\u001b[39m,\u001b[38;5;124m\"\u001b[39m\u001b[38;5;124m$\u001b[39m\u001b[38;5;124m{\u001b[39m\u001b[38;5;130;01m\\\\\u001b[39;00m\u001b[38;5;124mcal L}=\u001b[39m\u001b[38;5;132;01m%3.0f\u001b[39;00m\u001b[38;5;124m$/fb\u001b[39m\u001b[38;5;124m\"\u001b[39m\u001b[38;5;241m%\u001b[39mlumi,transform\u001b[38;5;241m=\u001b[39max[\u001b[38;5;241m0\u001b[39m]\u001b[38;5;241m.\u001b[39mtransAxes)\n",
      "\u001b[0;31mAttributeError\u001b[0m: 'NoneType' object has no attribute 'shape'"
     ]
    },
    {
     "data": {
      "image/png": "[encoded data removed]",
      "text/plain": [
       "<Figure size 1200x600 with 2 Axes>"
      ]
     },
     "metadata": {},
     "output_type": "display_data"
    }
   ],
   "source": [
    "fig,ax=plt.subplots(1,2,figsize=(12,6))\n",
    "bins=np.linspace(0.,500.,100)\n",
    "ax[0].hist([met_VH,met_WWW,met_bkg],bins=bins,\n",
    "        weights=[np.full(met_VH.shape,weight_sig),\n",
    "                 np.full(met_WWW.shape,weight_sig),\n",
    "                 np.full(met_bkg.shape,weight_bkg)],\n",
    "        histtype='bar', stacked=True,label=[\"VH\",\"WWW\",\"bkg\"])\n",
    "ax[0].set_yscale('log')\n",
    "ax[0].text(0.55,0.95,\"${\\\\cal L}=%3.0f$/fb\"%lumi,transform=ax[0].transAxes)\n",
    "ax[0].set_xlabel(\"MET [GeV]\")\n",
    "ax[0].set_ylabel(\"Entries\")\n",
    "ax[0].legend()\n",
    "\n",
    "bins=np.linspace(0.,4.,80)\n",
    "ax[1].hist([dr_VH,dr_WWW,dr_bkg],bins=bins,\n",
    "        weights=[np.full(dr_VH.shape,weight_sig),\n",
    "                 np.full(dr_WWW.shape,weight_sig),\n",
    "                 np.full(dr_bkg.shape,weight_bkg)],\n",
    "        histtype='step', stacked=False,density=True,label=[\"VH\",\"WWW\",\"bkg\"])\n",
    "ax[1].set_yscale('log')\n",
    "ax[1].text(0.55,0.95,\"${\\\\cal L}=%3.0f$/fb\"%lumi,transform=ax[1].transAxes)\n",
    "ax[1].set_xlabel(\"min($\\\\Delta R_{\\\\ell\\\\ell})$\")\n",
    "ax[1].set_ylabel(\"1/N dN/d min($\\\\Delta R_{\\\\ell\\\\ell})$\")\n",
    "ax[1].legend()"
   ]
  },
  {
   "cell_type": "code",
   "execution_count": null,
   "metadata": {},
   "outputs": [],
   "source": []
  }
 ],
 "metadata": {
  "kernelspec": {
   "display_name": "Python 3 (ipykernel)",
   "language": "python",
   "name": "python3"
  },
  "language_info": {
   "codemirror_mode": {
    "name": "ipython",
    "version": 3
   },
   "file_extension": ".py",
   "mimetype": "text/x-python",
   "name": "python",
   "nbconvert_exporter": "python",
   "pygments_lexer": "ipython3",
   "version": "3.9.2"
  }
 },
 "nbformat": 4,
 "nbformat_minor": 4
}
