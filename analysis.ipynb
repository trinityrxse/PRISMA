{
 "cells": [
  {
   "cell_type": "code",
   "execution_count": 1,
   "metadata": {},
   "outputs": [],
   "source": [
    "import uproot, pylhe, glob, os\n",
    "import numpy as np\n",
    "import numba,vector\n",
    "import matplotlib.pyplot as plt\n",
    "from tqdm import tqdm\n",
    "import pandas as pd \n",
    "import seaborn as sns"
   ]
  },
  {
   "cell_type": "code",
   "execution_count": 2,
   "metadata": {},
   "outputs": [
    {
     "name": "stdout",
     "output_type": "stream",
     "text": [
      "['./Samples/3l01j/3l01j_0019.root', './Samples/3l01j/3l01j_0015.root', './Samples/3l01j/3l01j_0003.root', './Samples/3l01j/3l01j_0002.root', './Samples/3l01j/3l01j_0014.root', './Samples/3l01j/3l01j_0018.root', './Samples/3l01j/3l01j_0013.root', './Samples/3l01j/3l01j_0005.root', './Samples/3l01j/3l01j_0009.root', './Samples/3l01j/3l01j_0008.root', './Samples/3l01j/3l01j_0004.root', './Samples/3l01j/3l01j_0012.root', './Samples/3l01j/3l01j_0007.root', './Samples/3l01j/3l01j_0011.root', './Samples/3l01j/3l01j_0010.root', './Samples/3l01j/3l01j_0006.root', './Samples/3l01j/3l01j_0001.root', './Samples/3l01j/3l01j_0017.root', './Samples/3l01j/3l01j_0016.root', './Samples/3l01j/3l01j_0000.root']\n"
     ]
    }
   ],
   "source": [
    "lhe_signal=glob.glob(\"./Samples/Signal/SM/WWW01j_000[0-4].lhe.gz\")\n",
    "root_signal=glob.glob(\"./Samples/Signal/SM/WWW01j_000[0-4].root\")\n",
    "\n",
    "lhe_bkg=glob.glob(\"./Samples/3l01j/3l01j_00[0-1]?.lhe.gz\")\n",
    "root_bkg=glob.glob(\"./Samples/3l01j/3l01j_00[0-1]?.root\")\n",
    "\n",
    "print(root_bkg)"
   ]
  },
  {
   "cell_type": "code",
   "execution_count": 3,
   "metadata": {},
   "outputs": [],
   "source": [
    "def get_xSection(lhefiles):\n",
    "    init=pylhe.read_lhe_init(lhefiles[0])\n",
    "\n",
    "    xSection=0.\n",
    "    for process in init['procInfo']:\n",
    "        xSection+=process['xSection']\n",
    "    return xSection # in pb"
   ]
  },
  {
   "cell_type": "code",
   "execution_count": 4,
   "metadata": {},
   "outputs": [],
   "source": [
    "def getNeventsLHE(lhefiles):\n",
    "    N=0\n",
    "    for f in lhefiles:\n",
    "        lines=os.popen('zgrep \"</event>\" '+f+\"|wc -l\").readlines()\n",
    "        N+=int(lines[0])\n",
    "    return N"
   ]
  },
  {
   "cell_type": "code",
   "execution_count": 5,
   "metadata": {},
   "outputs": [
    {
     "name": "stdout",
     "output_type": "stream",
     "text": [
      "0.017251415 0.8911546000000001\n"
     ]
    }
   ],
   "source": [
    "xSection_sig=get_xSection(lhe_signal)\n",
    "xSection_bkg=get_xSection(lhe_bkg)\n",
    "print(xSection_sig,xSection_bkg)"
   ]
  },
  {
   "cell_type": "code",
   "execution_count": 6,
   "metadata": {},
   "outputs": [
    {
     "name": "stdout",
     "output_type": "stream",
     "text": [
      "1000000 4000000\n"
     ]
    }
   ],
   "source": [
    "N_lhe_sig=1000000 #getNeventsLHE(lhe_signal)\n",
    "N_lhe_bkg=4000000 #getNeventsLHE(lhe_bkg)\n",
    "print(N_lhe_sig,N_lhe_bkg)"
   ]
  },
  {
   "cell_type": "code",
   "execution_count": 7,
   "metadata": {},
   "outputs": [],
   "source": [
    "def getNeventsRoot(rootfiles):\n",
    "    N=0\n",
    "    for f in rootfiles:\n",
    "        with uproot.open(f+':Delphes') as tree:\n",
    "            N+=tree.num_entries\n",
    "    return N"
   ]
  },
  {
   "cell_type": "code",
   "execution_count": 8,
   "metadata": {},
   "outputs": [
    {
     "name": "stdout",
     "output_type": "stream",
     "text": [
      "511723 2964674\n"
     ]
    }
   ],
   "source": [
    "N_root_sig=511723 #getNeventsRoot(root_signal)\n",
    "N_root_bgk=2964674 #getNeventsRoot(root_bkg)\n",
    "print(N_root_sig,N_root_bgk)"
   ]
  },
  {
   "cell_type": "code",
   "execution_count": 9,
   "metadata": {},
   "outputs": [
    {
     "name": "stdout",
     "output_type": "stream",
     "text": [
      "0.008827945838045 0.6604957181501001\n"
     ]
    }
   ],
   "source": [
    "#calculate resulting xSection*efficiency\n",
    "xSection_sig*=N_root_sig/N_lhe_sig\n",
    "xSection_bkg*=N_root_bgk/N_lhe_bkg\n",
    "print(xSection_sig,xSection_bkg)"
   ]
  },
  {
   "cell_type": "code",
   "execution_count": 10,
   "metadata": {},
   "outputs": [
    {
     "name": "stdout",
     "output_type": "stream",
     "text": [
      "name                 | typename                 | interpretation                \n",
      "---------------------+--------------------------+-------------------------------\n",
      "Event                | int32_t                  | AsDtype('>i4')\n",
      "Event/Event.fUniq... | uint32_t[]               | AsJagged(AsDtype('>u4'))\n",
      "Event/Event.fBits    | uint32_t[]               | AsJagged(AsDtype('>u4'))\n",
      "Event/Event.Number   | int64_t[]                | AsJagged(AsDtype('>i8'))\n",
      "Event/Event.ReadTime | float[]                  | AsJagged(AsDtype('>f4'))\n",
      "Event/Event.ProcTime | float[]                  | AsJagged(AsDtype('>f4'))\n",
      "Event/Event.Proce... | int32_t[]                | AsJagged(AsDtype('>i4'))\n",
      "Event/Event.MPI      | int32_t[]                | AsJagged(AsDtype('>i4'))\n",
      "Event/Event.Weight   | float[]                  | AsJagged(AsDtype('>f4'))\n",
      "Event/Event.Cross... | float[]                  | AsJagged(AsDtype('>f4'))\n",
      "Event/Event.Cross... | float[]                  | AsJagged(AsDtype('>f4'))\n",
      "Event/Event.Scale    | float[]                  | AsJagged(AsDtype('>f4'))\n",
      "Event/Event.AlphaQED | float[]                  | AsJagged(AsDtype('>f4'))\n",
      "Event/Event.AlphaQCD | float[]                  | AsJagged(AsDtype('>f4'))\n",
      "Event/Event.ID1      | int32_t[]                | AsJagged(AsDtype('>i4'))\n",
      "Event/Event.ID2      | int32_t[]                | AsJagged(AsDtype('>i4'))\n",
      "Event/Event.X1       | float[]                  | AsJagged(AsDtype('>f4'))\n",
      "Event/Event.X2       | float[]                  | AsJagged(AsDtype('>f4'))\n",
      "Event/Event.ScalePDF | float[]                  | AsJagged(AsDtype('>f4'))\n",
      "Event/Event.PDF1     | float[]                  | AsJagged(AsDtype('>f4'))\n",
      "Event/Event.PDF2     | float[]                  | AsJagged(AsDtype('>f4'))\n",
      "Event_size           | int32_t                  | AsDtype('>i4')\n",
      "Weight               | int32_t                  | AsDtype('>i4')\n",
      "Weight/Weight.fUn... | uint32_t[]               | AsJagged(AsDtype('>u4'))\n",
      "Weight/Weight.fBits  | uint32_t[]               | AsJagged(AsDtype('>u4'))\n",
      "Weight/Weight.Weight | float[]                  | AsJagged(AsDtype('>f4'))\n",
      "Weight_size          | int32_t                  | AsDtype('>i4')\n",
      "Particle             | int32_t                  | AsDtype('>i4')\n",
      "Particle/Particle... | uint32_t[]               | AsJagged(AsDtype('>u4'))\n",
      "Particle/Particle... | uint32_t[]               | AsJagged(AsDtype('>u4'))\n",
      "Particle/Particle... | int32_t[]                | AsJagged(AsDtype('>i4'))\n",
      "Particle/Particle... | int32_t[]                | AsJagged(AsDtype('>i4'))\n",
      "Particle/Particle... | int32_t[]                | AsJagged(AsDtype('>i4'))\n",
      "Particle/Particle.M1 | int32_t[]                | AsJagged(AsDtype('>i4'))\n",
      "Particle/Particle.M2 | int32_t[]                | AsJagged(AsDtype('>i4'))\n",
      "Particle/Particle.D1 | int32_t[]                | AsJagged(AsDtype('>i4'))\n",
      "Particle/Particle.D2 | int32_t[]                | AsJagged(AsDtype('>i4'))\n",
      "Particle/Particle... | int32_t[]                | AsJagged(AsDtype('>i4'))\n",
      "Particle/Particle... | float[]                  | AsJagged(AsDtype('>f4'))\n",
      "Particle/Particle.E  | float[]                  | AsJagged(AsDtype('>f4'))\n",
      "Particle/Particle.Px | float[]                  | AsJagged(AsDtype('>f4'))\n",
      "Particle/Particle.Py | float[]                  | AsJagged(AsDtype('>f4'))\n",
      "Particle/Particle.Pz | float[]                  | AsJagged(AsDtype('>f4'))\n",
      "Particle/Particle.P  | float[]                  | AsJagged(AsDtype('>f4'))\n",
      "Particle/Particle.PT | float[]                  | AsJagged(AsDtype('>f4'))\n",
      "Particle/Particle... | float[]                  | AsJagged(AsDtype('>f4'))\n",
      "Particle/Particle... | float[]                  | AsJagged(AsDtype('>f4'))\n",
      "Particle/Particle... | float[]                  | AsJagged(AsDtype('>f4'))\n",
      "Particle/Particle.T  | float[]                  | AsJagged(AsDtype('>f4'))\n",
      "Particle/Particle.X  | float[]                  | AsJagged(AsDtype('>f4'))\n",
      "Particle/Particle.Y  | float[]                  | AsJagged(AsDtype('>f4'))\n",
      "Particle/Particle.Z  | float[]                  | AsJagged(AsDtype('>f4'))\n",
      "Particle_size        | int32_t                  | AsDtype('>i4')\n",
      "GenJet               | int32_t                  | AsDtype('>i4')\n",
      "GenJet/GenJet.fUn... | uint32_t[]               | AsJagged(AsDtype('>u4'))\n",
      "GenJet/GenJet.fBits  | uint32_t[]               | AsJagged(AsDtype('>u4'))\n",
      "GenJet/GenJet.PT     | float[]                  | AsJagged(AsDtype('>f4'))\n",
      "GenJet/GenJet.Eta    | float[]                  | AsJagged(AsDtype('>f4'))\n",
      "GenJet/GenJet.Phi    | float[]                  | AsJagged(AsDtype('>f4'))\n",
      "GenJet/GenJet.T      | float[]                  | AsJagged(AsDtype('>f4'))\n",
      "GenJet/GenJet.Mass   | float[]                  | AsJagged(AsDtype('>f4'))\n",
      "GenJet/GenJet.Del... | float[]                  | AsJagged(AsDtype('>f4'))\n",
      "GenJet/GenJet.Del... | float[]                  | AsJagged(AsDtype('>f4'))\n",
      "GenJet/GenJet.Flavor | uint32_t[]               | AsJagged(AsDtype('>u4'))\n",
      "GenJet/GenJet.Fla... | uint32_t[]               | AsJagged(AsDtype('>u4'))\n",
      "GenJet/GenJet.Fla... | uint32_t[]               | AsJagged(AsDtype('>u4'))\n",
      "GenJet/GenJet.BTag   | uint32_t[]               | AsJagged(AsDtype('>u4'))\n",
      "GenJet/GenJet.BTa... | uint32_t[]               | AsJagged(AsDtype('>u4'))\n",
      "GenJet/GenJet.BTa... | uint32_t[]               | AsJagged(AsDtype('>u4'))\n",
      "GenJet/GenJet.TauTag | uint32_t[]               | AsJagged(AsDtype('>u4'))\n",
      "GenJet/GenJet.Tau... | float[]                  | AsJagged(AsDtype('>f4'))\n",
      "GenJet/GenJet.Charge | int32_t[]                | AsJagged(AsDtype('>i4'))\n",
      "GenJet/GenJet.Eha... | float[]                  | AsJagged(AsDtype('>f4'))\n",
      "GenJet/GenJet.NCh... | int32_t[]                | AsJagged(AsDtype('>i4'))\n",
      "GenJet/GenJet.NNe... | int32_t[]                | AsJagged(AsDtype('>i4'))\n",
      "GenJet/GenJet.Neu... | float[]                  | AsJagged(AsDtype('>f4'))\n",
      "GenJet/GenJet.Cha... | float[]                  | AsJagged(AsDtype('>f4'))\n",
      "GenJet/GenJet.Beta   | float[]                  | AsJagged(AsDtype('>f4'))\n",
      "GenJet/GenJet.Bet... | float[]                  | AsJagged(AsDtype('>f4'))\n",
      "GenJet/GenJet.Mea... | float[]                  | AsJagged(AsDtype('>f4'))\n",
      "GenJet/GenJet.PTD    | float[]                  | AsJagged(AsDtype('>f4'))\n",
      "GenJet/GenJet.Fra... | float[][5]               | AsJagged(AsDtype(\"('>f4', (...\n",
      "GenJet/GenJet.Tau[5] | float[][5]               | AsJagged(AsDtype(\"('>f4', (...\n",
      "GenJet/GenJet.Sof... | TLorentzVector[]         | AsJagged(AsStridedObjects(M...\n",
      "GenJet/GenJet.Sof... | TLorentzVector[]         | AsJagged(AsStridedObjects(M...\n",
      "GenJet/GenJet.Sof... | TLorentzVector[]         | AsJagged(AsStridedObjects(M...\n",
      "GenJet/GenJet.Tri... | TLorentzVector[][5]      | AsJagged(AsStridedObjects(M...\n",
      "GenJet/GenJet.Pru... | TLorentzVector[][5]      | AsJagged(AsStridedObjects(M...\n",
      "GenJet/GenJet.Sof... | TLorentzVector[][5]      | AsJagged(AsStridedObjects(M...\n",
      "GenJet/GenJet.NSu... | int32_t[]                | AsJagged(AsDtype('>i4'))\n",
      "GenJet/GenJet.NSu... | int32_t[]                | AsJagged(AsDtype('>i4'))\n",
      "GenJet/GenJet.NSu... | int32_t[]                | AsJagged(AsDtype('>i4'))\n",
      "GenJet/GenJet.Exc... | double[]                 | AsJagged(AsDtype('>f8'))\n",
      "GenJet/GenJet.Exc... | double[]                 | AsJagged(AsDtype('>f8'))\n",
      "GenJet/GenJet.Exc... | double[]                 | AsJagged(AsDtype('>f8'))\n",
      "GenJet/GenJet.Exc... | double[]                 | AsJagged(AsDtype('>f8'))\n",
      "GenJet/GenJet.Con... | TRefArray[]              | AsObjects(AsArray(False, Fa...\n",
      "GenJet/GenJet.Par... | TRefArray[]              | AsObjects(AsArray(False, Fa...\n",
      "GenJet/GenJet.Area   | TLorentzVector[]         | AsJagged(AsStridedObjects(M...\n",
      "GenJet_size          | int32_t                  | AsDtype('>i4')\n",
      "GenMissingET         | int32_t                  | AsDtype('>i4')\n",
      "GenMissingET/GenM... | uint32_t[]               | AsJagged(AsDtype('>u4'))\n",
      "GenMissingET/GenM... | uint32_t[]               | AsJagged(AsDtype('>u4'))\n",
      "GenMissingET/GenM... | float[]                  | AsJagged(AsDtype('>f4'))\n",
      "GenMissingET/GenM... | float[]                  | AsJagged(AsDtype('>f4'))\n",
      "GenMissingET/GenM... | float[]                  | AsJagged(AsDtype('>f4'))\n",
      "GenMissingET_size    | int32_t                  | AsDtype('>i4')\n",
      "Jet                  | int32_t                  | AsDtype('>i4')\n",
      "Jet/Jet.fUniqueID    | uint32_t[]               | AsJagged(AsDtype('>u4'))\n",
      "Jet/Jet.fBits        | uint32_t[]               | AsJagged(AsDtype('>u4'))\n",
      "Jet/Jet.PT           | float[]                  | AsJagged(AsDtype('>f4'))\n",
      "Jet/Jet.Eta          | float[]                  | AsJagged(AsDtype('>f4'))\n",
      "Jet/Jet.Phi          | float[]                  | AsJagged(AsDtype('>f4'))\n",
      "Jet/Jet.T            | float[]                  | AsJagged(AsDtype('>f4'))\n",
      "Jet/Jet.Mass         | float[]                  | AsJagged(AsDtype('>f4'))\n",
      "Jet/Jet.DeltaEta     | float[]                  | AsJagged(AsDtype('>f4'))\n",
      "Jet/Jet.DeltaPhi     | float[]                  | AsJagged(AsDtype('>f4'))\n",
      "Jet/Jet.Flavor       | uint32_t[]               | AsJagged(AsDtype('>u4'))\n",
      "Jet/Jet.FlavorAlgo   | uint32_t[]               | AsJagged(AsDtype('>u4'))\n",
      "Jet/Jet.FlavorPhys   | uint32_t[]               | AsJagged(AsDtype('>u4'))\n",
      "Jet/Jet.BTag         | uint32_t[]               | AsJagged(AsDtype('>u4'))\n",
      "Jet/Jet.BTagAlgo     | uint32_t[]               | AsJagged(AsDtype('>u4'))\n",
      "Jet/Jet.BTagPhys     | uint32_t[]               | AsJagged(AsDtype('>u4'))\n",
      "Jet/Jet.TauTag       | uint32_t[]               | AsJagged(AsDtype('>u4'))\n",
      "Jet/Jet.TauWeight    | float[]                  | AsJagged(AsDtype('>f4'))\n",
      "Jet/Jet.Charge       | int32_t[]                | AsJagged(AsDtype('>i4'))\n",
      "Jet/Jet.EhadOverEem  | float[]                  | AsJagged(AsDtype('>f4'))\n",
      "Jet/Jet.NCharged     | int32_t[]                | AsJagged(AsDtype('>i4'))\n",
      "Jet/Jet.NNeutrals    | int32_t[]                | AsJagged(AsDtype('>i4'))\n",
      "Jet/Jet.NeutralEn... | float[]                  | AsJagged(AsDtype('>f4'))\n",
      "Jet/Jet.ChargedEn... | float[]                  | AsJagged(AsDtype('>f4'))\n",
      "Jet/Jet.Beta         | float[]                  | AsJagged(AsDtype('>f4'))\n",
      "Jet/Jet.BetaStar     | float[]                  | AsJagged(AsDtype('>f4'))\n",
      "Jet/Jet.MeanSqDeltaR | float[]                  | AsJagged(AsDtype('>f4'))\n",
      "Jet/Jet.PTD          | float[]                  | AsJagged(AsDtype('>f4'))\n",
      "Jet/Jet.FracPt[5]    | float[][5]               | AsJagged(AsDtype(\"('>f4', (...\n",
      "Jet/Jet.Tau[5]       | float[][5]               | AsJagged(AsDtype(\"('>f4', (...\n",
      "Jet/Jet.SoftDropp... | TLorentzVector[]         | AsJagged(AsStridedObjects(M...\n",
      "Jet/Jet.SoftDropp... | TLorentzVector[]         | AsJagged(AsStridedObjects(M...\n",
      "Jet/Jet.SoftDropp... | TLorentzVector[]         | AsJagged(AsStridedObjects(M...\n",
      "Jet/Jet.TrimmedP4[5] | TLorentzVector[][5]      | AsJagged(AsStridedObjects(M...\n",
      "Jet/Jet.PrunedP4[5]  | TLorentzVector[][5]      | AsJagged(AsStridedObjects(M...\n",
      "Jet/Jet.SoftDropp... | TLorentzVector[][5]      | AsJagged(AsStridedObjects(M...\n",
      "Jet/Jet.NSubJetsT... | int32_t[]                | AsJagged(AsDtype('>i4'))\n",
      "Jet/Jet.NSubJetsP... | int32_t[]                | AsJagged(AsDtype('>i4'))\n",
      "Jet/Jet.NSubJetsS... | int32_t[]                | AsJagged(AsDtype('>i4'))\n",
      "Jet/Jet.ExclYmerge23 | double[]                 | AsJagged(AsDtype('>f8'))\n",
      "Jet/Jet.ExclYmerge34 | double[]                 | AsJagged(AsDtype('>f8'))\n",
      "Jet/Jet.ExclYmerge45 | double[]                 | AsJagged(AsDtype('>f8'))\n",
      "Jet/Jet.ExclYmerge56 | double[]                 | AsJagged(AsDtype('>f8'))\n",
      "Jet/Jet.Constituents | TRefArray[]              | AsObjects(AsArray(False, Fa...\n",
      "Jet/Jet.Particles    | TRefArray[]              | AsObjects(AsArray(False, Fa...\n",
      "Jet/Jet.Area         | TLorentzVector[]         | AsJagged(AsStridedObjects(M...\n",
      "Jet_size             | int32_t                  | AsDtype('>i4')\n",
      "Electron             | int32_t                  | AsDtype('>i4')\n",
      "Electron/Electron... | uint32_t[]               | AsJagged(AsDtype('>u4'))\n",
      "Electron/Electron... | uint32_t[]               | AsJagged(AsDtype('>u4'))\n",
      "Electron/Electron.PT | float[]                  | AsJagged(AsDtype('>f4'))\n",
      "Electron/Electron... | float[]                  | AsJagged(AsDtype('>f4'))\n",
      "Electron/Electron... | float[]                  | AsJagged(AsDtype('>f4'))\n",
      "Electron/Electron.T  | float[]                  | AsJagged(AsDtype('>f4'))\n",
      "Electron/Electron... | int32_t[]                | AsJagged(AsDtype('>i4'))\n",
      "Electron/Electron... | float[]                  | AsJagged(AsDtype('>f4'))\n",
      "Electron/Electron... | TRef[]                   | AsJagged(AsStridedObjects(M...\n",
      "Electron/Electron... | float[]                  | AsJagged(AsDtype('>f4'))\n",
      "Electron/Electron... | float[]                  | AsJagged(AsDtype('>f4'))\n",
      "Electron/Electron... | float[]                  | AsJagged(AsDtype('>f4'))\n",
      "Electron/Electron... | float[]                  | AsJagged(AsDtype('>f4'))\n",
      "Electron/Electron... | float[]                  | AsJagged(AsDtype('>f4'))\n",
      "Electron/Electron... | float[]                  | AsJagged(AsDtype('>f4'))\n",
      "Electron/Electron.D0 | float[]                  | AsJagged(AsDtype('>f4'))\n",
      "Electron/Electron.DZ | float[]                  | AsJagged(AsDtype('>f4'))\n",
      "Electron/Electron... | float[]                  | AsJagged(AsDtype('>f4'))\n",
      "Electron/Electron... | float[]                  | AsJagged(AsDtype('>f4'))\n",
      "Electron_size        | int32_t                  | AsDtype('>i4')\n",
      "Muon                 | int32_t                  | AsDtype('>i4')\n",
      "Muon/Muon.fUniqueID  | uint32_t[]               | AsJagged(AsDtype('>u4'))\n",
      "Muon/Muon.fBits      | uint32_t[]               | AsJagged(AsDtype('>u4'))\n",
      "Muon/Muon.PT         | float[]                  | AsJagged(AsDtype('>f4'))\n",
      "Muon/Muon.Eta        | float[]                  | AsJagged(AsDtype('>f4'))\n",
      "Muon/Muon.Phi        | float[]                  | AsJagged(AsDtype('>f4'))\n",
      "Muon/Muon.T          | float[]                  | AsJagged(AsDtype('>f4'))\n",
      "Muon/Muon.Charge     | int32_t[]                | AsJagged(AsDtype('>i4'))\n",
      "Muon/Muon.Particle   | TRef[]                   | AsJagged(AsStridedObjects(M...\n",
      "Muon/Muon.Isolati... | float[]                  | AsJagged(AsDtype('>f4'))\n",
      "Muon/Muon.Isolati... | float[]                  | AsJagged(AsDtype('>f4'))\n",
      "Muon/Muon.SumPtCh... | float[]                  | AsJagged(AsDtype('>f4'))\n",
      "Muon/Muon.SumPtNe... | float[]                  | AsJagged(AsDtype('>f4'))\n",
      "Muon/Muon.SumPtCh... | float[]                  | AsJagged(AsDtype('>f4'))\n",
      "Muon/Muon.SumPt      | float[]                  | AsJagged(AsDtype('>f4'))\n",
      "Muon/Muon.D0         | float[]                  | AsJagged(AsDtype('>f4'))\n",
      "Muon/Muon.DZ         | float[]                  | AsJagged(AsDtype('>f4'))\n",
      "Muon/Muon.ErrorD0    | float[]                  | AsJagged(AsDtype('>f4'))\n",
      "Muon/Muon.ErrorDZ    | float[]                  | AsJagged(AsDtype('>f4'))\n",
      "Muon_size            | int32_t                  | AsDtype('>i4')\n",
      "MissingET            | int32_t                  | AsDtype('>i4')\n",
      "MissingET/Missing... | uint32_t[]               | AsJagged(AsDtype('>u4'))\n",
      "MissingET/Missing... | uint32_t[]               | AsJagged(AsDtype('>u4'))\n",
      "MissingET/Missing... | float[]                  | AsJagged(AsDtype('>f4'))\n",
      "MissingET/Missing... | float[]                  | AsJagged(AsDtype('>f4'))\n",
      "MissingET/Missing... | float[]                  | AsJagged(AsDtype('>f4'))\n",
      "MissingET_size       | int32_t                  | AsDtype('>i4')\n"
     ]
    }
   ],
   "source": [
    "#show available branches\n",
    "tree=uproot.open(root_signal[0]+':Delphes')\n",
    "tree.show()"
   ]
  },
  {
   "cell_type": "code",
   "execution_count": 11,
   "metadata": {},
   "outputs": [
    {
     "name": "stdout",
     "output_type": "stream",
     "text": [
      "name                 | typename                 | interpretation                \n",
      "---------------------+--------------------------+-------------------------------\n",
      "MissingET            | int32_t                  | AsDtype('>i4')                \n",
      "MissingET.fUniqueID  | uint32_t[]               | AsJagged(AsDtype('>u4'))\n",
      "MissingET.fBits      | uint32_t[]               | AsJagged(AsDtype('>u4'))\n",
      "MissingET.MET        | float[]                  | AsJagged(AsDtype('>f4'))\n",
      "MissingET.Eta        | float[]                  | AsJagged(AsDtype('>f4'))\n",
      "MissingET.Phi        | float[]                  | AsJagged(AsDtype('>f4'))\n"
     ]
    }
   ],
   "source": [
    "#show only specifc elements\n",
    "tree['MissingET'].show(filter_name=\"MissingET.*\")"
   ]
  },
  {
   "cell_type": "code",
   "execution_count": 12,
   "metadata": {},
   "outputs": [
    {
     "name": "stdout",
     "output_type": "stream",
     "text": [
      "name                                     | typename                 | interpretation                \n",
      "-----------------------------------------+--------------------------+-------------------------------\n",
      "Electron                                 | int32_t                  | AsDtype('>i4')                \n",
      "Electron.fUniqueID                       | uint32_t[]               | AsJagged(AsDtype('>u4'))\n",
      "Electron.fBits                           | uint32_t[]               | AsJagged(AsDtype('>u4'))\n",
      "Electron.PT                              | float[]                  | AsJagged(AsDtype('>f4'))\n",
      "Electron.Eta                             | float[]                  | AsJagged(AsDtype('>f4'))\n",
      "Electron.Phi                             | float[]                  | AsJagged(AsDtype('>f4'))\n",
      "Electron.T                               | float[]                  | AsJagged(AsDtype('>f4'))\n",
      "Electron.Charge                          | int32_t[]                | AsJagged(AsDtype('>i4'))\n",
      "Electron.EhadOverEem                     | float[]                  | AsJagged(AsDtype('>f4'))\n",
      "Electron.Particle                        | TRef[]                   | AsJagged(AsStridedObjects(M...\n",
      "Electron.IsolationVar                    | float[]                  | AsJagged(AsDtype('>f4'))\n",
      "Electron.IsolationVarRhoCorr             | float[]                  | AsJagged(AsDtype('>f4'))\n",
      "Electron.SumPtCharged                    | float[]                  | AsJagged(AsDtype('>f4'))\n",
      "Electron.SumPtNeutral                    | float[]                  | AsJagged(AsDtype('>f4'))\n",
      "Electron.SumPtChargedPU                  | float[]                  | AsJagged(AsDtype('>f4'))\n",
      "Electron.SumPt                           | float[]                  | AsJagged(AsDtype('>f4'))\n",
      "Electron.D0                              | float[]                  | AsJagged(AsDtype('>f4'))\n",
      "Electron.DZ                              | float[]                  | AsJagged(AsDtype('>f4'))\n",
      "Electron.ErrorD0                         | float[]                  | AsJagged(AsDtype('>f4'))\n",
      "Electron.ErrorDZ                         | float[]                  | AsJagged(AsDtype('>f4'))\n"
     ]
    }
   ],
   "source": [
    "\n",
    "tree['Electron'].show(filter_name=\"Electron.*\", name_width=40)"
   ]
  },
  {
   "cell_type": "code",
   "execution_count": 13,
   "metadata": {},
   "outputs": [
    {
     "data": {
      "text/plain": [
       "['Particle/Particle.PID',\n",
       " 'Particle/Particle.Status',\n",
       " 'Jet/Jet.PT',\n",
       " 'Jet/Jet.Eta',\n",
       " 'Jet/Jet.Phi',\n",
       " 'Jet/Jet.PTD',\n",
       " 'Electron/Electron.PT',\n",
       " 'Electron/Electron.Eta',\n",
       " 'Electron/Electron.Phi',\n",
       " 'Electron/Electron.Charge',\n",
       " 'Muon/Muon.PT',\n",
       " 'Muon/Muon.Eta',\n",
       " 'Muon/Muon.Phi',\n",
       " 'Muon/Muon.Charge',\n",
       " 'MissingET/MissingET.MET',\n",
       " 'MissingET/MissingET.Phi']"
      ]
     },
     "execution_count": 13,
     "metadata": {},
     "output_type": "execute_result"
    }
   ],
   "source": [
    "#specify the variables we are interested in\n",
    "tree.keys(filter_name=\"/(MissingET.(MET|Phi)|Particle.(PID|Status)|Electron.(PT|Eta|Phi|Charge)|\"\n",
    "          \"Muon.(PT|Eta|Phi|Charge)|Jet.(PT|Eta|Phi))/\")"
   ]
  },
  {
   "cell_type": "code",
   "execution_count": 14,
   "metadata": {},
   "outputs": [],
   "source": [
    "@numba.jit(nopython=True)\n",
    "def checkHiggs(batch):\n",
    "    higgs=np.full((len(batch),),False)\n",
    "    for i in range(len(batch)):\n",
    "        for p in range(len(batch[i]['Particle.PID'])):\n",
    "            if abs(batch[i]['Particle.PID'][p])==25:\n",
    "                higgs[i]=True\n",
    "                break\n",
    "    return higgs"
   ]
  },
  {
   "cell_type": "code",
   "execution_count": 15,
   "metadata": {},
   "outputs": [],
   "source": [
    "@numba.jit(nopython=True)\n",
    "def preselection(batch):\n",
    "    pass_selection=np.full((len(batch),),False)\n",
    "    for i in range(len(batch)):\n",
    "        nElectrons=0\n",
    "        nMuons=0\n",
    "        nJets=0\n",
    "\n",
    "        for e in range(len(batch[i]['Electron.PT'])):\n",
    "            if batch[i]['Electron.PT'][e]>=10.0 and abs(batch[i]['Electron.Eta'][e])<2.5:\n",
    "                nElectrons+=1\n",
    "\n",
    "\n",
    "        for m in range(len(batch[i]['Muon.PT'])):\n",
    "            if batch[i]['Muon.PT'][m]>=10.0 and abs(batch[i]['Muon.Eta'][m])<2.5:\n",
    "                nMuons+=1\n",
    "\n",
    "        for j in range(len(batch[i]['Jet.PT'])):\n",
    "            if batch[i]['Jet.PT'][j]>=25.0 and abs(batch[i]['Jet.Eta'][j])<2.5:\n",
    "                nJets+=1\n",
    "\n",
    "        if nElectrons+nMuons==3 and nJets<5:\n",
    "            pass_selection[i]=True\n",
    "\n",
    "    return pass_selection\n",
    "    "
   ]
  },
  {
   "cell_type": "code",
   "execution_count": 16,
   "metadata": {},
   "outputs": [],
   "source": [
    "@numba.jit(nopython=True)\n",
    "def get_MET(batch):\n",
    "    met=np.zeros((len(batch),))\n",
    "    metPhi=np.zeros((len(batch),))\n",
    "    for i in range(len(batch)):\n",
    "        met[i]=float(batch[i]['MissingET.MET'][0])\n",
    "        metPhi[i]=float(batch[i]['MissingET.Phi'][0])\n",
    "    return met, metPhi"
   ]
  },
  {
   "cell_type": "code",
   "execution_count": 23,
   "metadata": {},
   "outputs": [],
   "source": [
    "def find_unique_charge(batch):\n",
    "    for i in range(len(batch)):\n",
    "        charge = []\n",
    "        leptons = []\n",
    "        lepton0 = []\n",
    "        for e in range(len(batch[i]['Electron.Charge'])):\n",
    "            charge.append([batch[i]['Electron.Charge'][e], vector.obj(pt=batch[i]['Electron.PT'][e], \n",
    "                                      phi=batch[i]['Electron.Phi'][e], \n",
    "                                      eta=batch[i]['Electron.Eta'][e], \n",
    "                                      mass=511./1e6)])\n",
    "        for m in range(len(batch[i]['Muon.Charge'])):\n",
    "            charge.append([batch[i]['Muon.Charge'][m], vector.obj(pt=batch[i]['Muon.PT'][m], \n",
    "                                      phi=batch[i]['Muon.Phi'][m], \n",
    "                                      eta=batch[i]['Muon.Eta'][m], \n",
    "                                      mass=105.66/1e3)]) \n",
    "        if charge[0][0] == charge[1][0]:\n",
    "            lepton0.append(charge[2][1])\n",
    "        elif charge[0][0] == charge[2][0]:\n",
    "            lepton0.append(charge[1][1])\n",
    "        else:\n",
    "            lepton0.append(charge[0][1])\n",
    "        \n",
    "    return lepton0\n"
   ]
  },
  {
   "cell_type": "code",
   "execution_count": 18,
   "metadata": {},
   "outputs": [],
   "source": [
    "#selects which data type we are putting through the processing\n",
    "def batch_selector(batch, decay):\n",
    "    higgs = checkHiggs(batch)\n",
    "    presel = preselection(batch)\n",
    "    if decay == 0:\n",
    "        batch = batch[np.logical_and(higgs,presel)]\n",
    "    elif decay == 1:\n",
    "        batch = batch[np.logical_and(~higgs,presel)]\n",
    "    else:\n",
    "        batch = batch[presel]\n",
    "    \n",
    "    return batch\n",
    "\n",
    "#def batch_selector(batch):\n",
    " #   higgs = checkHiggs(batch)\n",
    "  #  presel = preselection(batch)\n",
    "   # batch = batch[np.logical_and(higgs,presel)] \n",
    "    #return batch"
   ]
  },
  {
   "cell_type": "code",
   "execution_count": 19,
   "metadata": {},
   "outputs": [],
   "source": [
    "#get l0, l1, l2 where l0 has unique charge, l1 is closest to it and l2 is the other\n",
    "def get_leptons(batch):\n",
    "    DRll=np.full((len(batch),),1000.)\n",
    "    lepton0s = find_unique_charge(batch)\n",
    "    lepton1s = []\n",
    "    lepton2s = []\n",
    "    leptons=[]\n",
    "    for i in range(len(batch)):\n",
    "    \n",
    "        #loop over electrons\n",
    "        for e in range(len(batch[i]['Electron.PT'])):\n",
    "            leptons.append(vector.obj(pt=batch[i]['Electron.PT'][e], \n",
    "                                      phi=batch[i]['Electron.Phi'][e], \n",
    "                                      eta=batch[i]['Electron.Eta'][e], \n",
    "                                      mass=511./1e6))\n",
    "        #loop over muons\n",
    "        for m in range(len(batch[i]['Muon.PT'])):\n",
    "            leptons.append(vector.obj(pt=batch[i]['Muon.PT'][m], \n",
    "                                      phi=batch[i]['Muon.Phi'][m], \n",
    "                                      eta=batch[i]['Muon.Eta'][m], \n",
    "                                      mass=105.66/1e3)) # in GeV\n",
    "           \n",
    "             \n",
    "        mindr=DRll[i]\n",
    "        for l in leptons:\n",
    "            for l0 in lepton0s:\n",
    "                if l==l0:\n",
    "                    continue\n",
    "                if l.deltaR(l0)<mindr:\n",
    "                    mindr=l.deltaR(l0)\n",
    "                    lepton1s.append(l)\n",
    "        for l in leptons:\n",
    "            for l0 in lepton0s:\n",
    "                for l1 in lepton0s:\n",
    "                    if l==l0:\n",
    "                        continue\n",
    "                    elif l==l1:\n",
    "                        continue\n",
    "                    else:\n",
    "                        lepton2s.append(l)\n",
    "    \n",
    "    return lepton0s, lepton1s, lepton2s\n",
    "                "
   ]
  },
  {
   "cell_type": "code",
   "execution_count": 31,
   "metadata": {},
   "outputs": [],
   "source": [
    "def get_data(batch, lepton0s, lepton1s, lepton2s):\n",
    "    for i in range(len(batch)):\n",
    "        l0 = lepton0s[0]\n",
    "        l1 = lepton1s[i]\n",
    "        l2 = lepton2s[i]\n",
    "\n",
    "        PT_l0 = l0.p\n",
    "        PT_l1 = l1.p\n",
    "        PT_l2 = l2.p\n",
    "        PT = np.array([PT_l0, PT_l1, PT_l2])\n",
    "\n",
    "        #deltaPhi_l0_MET = l1.deltaangle(METvec)\n",
    "       # deltaPhi_l1_MET = l1.deltaangle(METvec)\n",
    "        #deltaPhi_l2_MET = l2.deltaangle(METvec)\n",
    "\n",
    "        invarM_l0l2=(l0.p2+l2.p2)**2\n",
    "        invarM_l1l2=(l1.p2+l2.p2)**2\n",
    "        invarM_l0l1=(l0.p2+l1.p2)**2\n",
    "        invarM_pairs = np.array([invarM_l0l2, invarM_l0l1, invarM_l1l2])\n",
    "\n",
    "        invarM=(l1.p2+l2.p2+l0.p2)**2\n",
    "\n",
    "        E_l1l2=np.sqrt((l1.p+l2.p)**2 + invarM_l1l2)\n",
    "        E_l0l2=np.sqrt((l0.p+l2.p)**2 + invarM_l0l2)\n",
    "        E_l0l1=np.sqrt((l0.p+l1.p)**2 + invarM_l0l1)\n",
    "        transM_l1l2=np.sqrt((E_l1l2+batch[i]['MissingET.MET'][0])**2 - np.abs(l1.p * l2.p + batch[i]['MissingET.MET'][0])**2)\n",
    "        transM_l0l2=np.sqrt((E_l0l2+batch[i]['MissingET.MET'][0])**2 - np.abs(l0.p * l2.p + batch[i]['MissingET.MET'][0])**2)\n",
    "        transM_l0l1=np.sqrt((E_l0l1+batch[i]['MissingET.MET'][0])**2 - np.abs(l0.p * l1.p + batch[i]['MissingET.MET'][0])**2)\n",
    "        transM_pairs=np.array([transM_l1l2, transM_l0l2, transM_l0l1])\n",
    "\n",
    "        deltaeta_l1l2=l1.deltaeta(l2)\n",
    "        deltaeta_l0l2=l0.deltaeta(l2)\n",
    "        deltaeta_l0l1=l0.deltaeta(l1)\n",
    "        deltaeta_pairs = np.array([deltaeta_l0l1, deltaeta_l0l2, deltaeta_l1l2])\n",
    "\n",
    "        deltaangle_l1l2=l1.deltaangle(l2)\n",
    "        deltaangle_l0l2=l0.deltaangle(l2)\n",
    "        deltaangle_l0l1=l0.deltaangle(l1) \n",
    "        deltaangle_pairs = np.array([deltaangle_l0l1, deltaangle_l0l2, deltaangle_l1l2])\n",
    "\n",
    "        dR_l1l2 = l1.deltaR(l2)\n",
    "        dR_l0l1 = l0.deltaR(l1)\n",
    "        dR_l0l2 = l0.deltaR(l2)\n",
    "        dR_pairs = np.array([dR_l1l2, dR_l0l1, dR_l0l2])\n",
    "\n",
    "        totalP = l0.p + l1.p + l2.p \n",
    "\n",
    "\n",
    "    return PT_l0, PT_l1, PT_l2, invarM_l0l1, invarM_l0l2, invarM_l1l2, invarM, \\\n",
    "                transM_l0l1, transM_l0l2, transM_l1l2, \\\n",
    "                deltaeta_l0l1, deltaeta_l0l2, deltaeta_l1l2, \\\n",
    "                deltaangle_l0l1, deltaangle_l0l2, deltaangle_l1l2, \\\n",
    "                dR_l0l1, dR_l0l2, dR_l1l2, totalP\n",
    "    "
   ]
  },
  {
   "cell_type": "code",
   "execution_count": 28,
   "metadata": {},
   "outputs": [],
   "source": [
    "@numba.jit(nopython=True)\n",
    "def get_minDRll(batch):  \n",
    "    \n",
    "    batch = batch_selector(batch) #makes batch only have type as passed from selection criteria\n",
    "                                            #this means there are 3 leptons        \n",
    "    lepton0s, lepton1s, lepton2s = get_leptons(batch)\n",
    "    \n",
    "    get_data(batch, lepton0s, lepton1s, lepton2s)\n",
    "\n",
    "    return lepton0s, lepton1s, lepton2s"
   ]
  },
  {
   "cell_type": "code",
   "execution_count": 29,
   "metadata": {},
   "outputs": [
    {
     "name": "stderr",
     "output_type": "stream",
     "text": [
      "  0%|                                                   | 0/511 [00:03<?, ?it/s]\n"
     ]
    },
    {
     "ename": "KeyboardInterrupt",
     "evalue": "",
     "output_type": "error",
     "traceback": [
      "\u001b[0;31m---------------------------------------------------------------------------\u001b[0m",
      "\u001b[0;31mKeyboardInterrupt\u001b[0m                         Traceback (most recent call last)",
      "\u001b[0;32m/var/folders/8w/6hy5w6dj7ynd7ky9bffmrnq80000gn/T/ipykernel_54719/2527193991.py\u001b[0m in \u001b[0;36m<module>\u001b[0;34m\u001b[0m\n\u001b[1;32m      4\u001b[0m \u001b[0;32mfor\u001b[0m \u001b[0mbatch\u001b[0m \u001b[0;32min\u001b[0m \u001b[0mtqdm\u001b[0m\u001b[0;34m(\u001b[0m\u001b[0miterator\u001b[0m\u001b[0;34m,\u001b[0m \u001b[0mtotal\u001b[0m\u001b[0;34m=\u001b[0m\u001b[0mN_root_sig\u001b[0m\u001b[0;34m//\u001b[0m\u001b[0mbatch_size\u001b[0m\u001b[0;34m)\u001b[0m\u001b[0;34m:\u001b[0m\u001b[0;34m\u001b[0m\u001b[0;34m\u001b[0m\u001b[0m\n\u001b[1;32m      5\u001b[0m     \u001b[0mbatch\u001b[0m \u001b[0;34m=\u001b[0m \u001b[0mbatch_selector\u001b[0m\u001b[0;34m(\u001b[0m\u001b[0mbatch\u001b[0m\u001b[0;34m,\u001b[0m \u001b[0;36m0\u001b[0m\u001b[0;34m)\u001b[0m\u001b[0;34m\u001b[0m\u001b[0;34m\u001b[0m\u001b[0m\n\u001b[0;32m----> 6\u001b[0;31m     \u001b[0ml0s\u001b[0m\u001b[0;34m,\u001b[0m \u001b[0ml1s\u001b[0m\u001b[0;34m,\u001b[0m \u001b[0ml2s\u001b[0m \u001b[0;34m=\u001b[0m \u001b[0mget_leptons\u001b[0m\u001b[0;34m(\u001b[0m\u001b[0mbatch\u001b[0m\u001b[0;34m)\u001b[0m\u001b[0;34m\u001b[0m\u001b[0;34m\u001b[0m\u001b[0m\n\u001b[0m\u001b[1;32m      7\u001b[0m     \u001b[0mprint\u001b[0m\u001b[0;34m(\u001b[0m\u001b[0;34m\"batch done\"\u001b[0m\u001b[0;34m)\u001b[0m\u001b[0;34m\u001b[0m\u001b[0;34m\u001b[0m\u001b[0m\n\u001b[1;32m      8\u001b[0m \u001b[0;34m\u001b[0m\u001b[0m\n",
      "\u001b[0;32m/var/folders/8w/6hy5w6dj7ynd7ky9bffmrnq80000gn/T/ipykernel_54719/4049864359.py\u001b[0m in \u001b[0;36mget_leptons\u001b[0;34m(batch)\u001b[0m\n\u001b[1;32m     33\u001b[0m             \u001b[0;32mfor\u001b[0m \u001b[0ml0\u001b[0m \u001b[0;32min\u001b[0m \u001b[0mlepton0s\u001b[0m\u001b[0;34m:\u001b[0m\u001b[0;34m\u001b[0m\u001b[0;34m\u001b[0m\u001b[0m\n\u001b[1;32m     34\u001b[0m                 \u001b[0;32mfor\u001b[0m \u001b[0ml1\u001b[0m \u001b[0;32min\u001b[0m \u001b[0mlepton0s\u001b[0m\u001b[0;34m:\u001b[0m\u001b[0;34m\u001b[0m\u001b[0;34m\u001b[0m\u001b[0m\n\u001b[0;32m---> 35\u001b[0;31m                     \u001b[0;32mif\u001b[0m \u001b[0ml\u001b[0m\u001b[0;34m==\u001b[0m\u001b[0ml0\u001b[0m\u001b[0;34m:\u001b[0m\u001b[0;34m\u001b[0m\u001b[0;34m\u001b[0m\u001b[0m\n\u001b[0m\u001b[1;32m     36\u001b[0m                         \u001b[0;32mcontinue\u001b[0m\u001b[0;34m\u001b[0m\u001b[0;34m\u001b[0m\u001b[0m\n\u001b[1;32m     37\u001b[0m                     \u001b[0;32melif\u001b[0m \u001b[0ml\u001b[0m\u001b[0;34m==\u001b[0m\u001b[0ml1\u001b[0m\u001b[0;34m:\u001b[0m\u001b[0;34m\u001b[0m\u001b[0;34m\u001b[0m\u001b[0m\n",
      "\u001b[0;32m~/opt/anaconda3/lib/python3.9/site-packages/vector/backends/object.py\u001b[0m in \u001b[0;36m__eq__\u001b[0;34m(self, other)\u001b[0m\n\u001b[1;32m    336\u001b[0m \u001b[0;34m\u001b[0m\u001b[0m\n\u001b[1;32m    337\u001b[0m     \u001b[0;32mdef\u001b[0m \u001b[0m__eq__\u001b[0m\u001b[0;34m(\u001b[0m\u001b[0mself\u001b[0m\u001b[0;34m,\u001b[0m \u001b[0mother\u001b[0m\u001b[0;34m:\u001b[0m \u001b[0mtyping\u001b[0m\u001b[0;34m.\u001b[0m\u001b[0mAny\u001b[0m\u001b[0;34m)\u001b[0m \u001b[0;34m->\u001b[0m \u001b[0mtyping\u001b[0m\u001b[0;34m.\u001b[0m\u001b[0mAny\u001b[0m\u001b[0;34m:\u001b[0m\u001b[0;34m\u001b[0m\u001b[0;34m\u001b[0m\u001b[0m\n\u001b[0;32m--> 338\u001b[0;31m         \u001b[0;32mreturn\u001b[0m \u001b[0mnumpy\u001b[0m\u001b[0;34m.\u001b[0m\u001b[0mequal\u001b[0m\u001b[0;34m(\u001b[0m\u001b[0mself\u001b[0m\u001b[0;34m,\u001b[0m \u001b[0mother\u001b[0m\u001b[0;34m)\u001b[0m  \u001b[0;31m# type: ignore[call-overload]\u001b[0m\u001b[0;34m\u001b[0m\u001b[0;34m\u001b[0m\u001b[0m\n\u001b[0m\u001b[1;32m    339\u001b[0m \u001b[0;34m\u001b[0m\u001b[0m\n\u001b[1;32m    340\u001b[0m     \u001b[0;32mdef\u001b[0m \u001b[0m__ne__\u001b[0m\u001b[0;34m(\u001b[0m\u001b[0mself\u001b[0m\u001b[0;34m,\u001b[0m \u001b[0mother\u001b[0m\u001b[0;34m:\u001b[0m \u001b[0mtyping\u001b[0m\u001b[0;34m.\u001b[0m\u001b[0mAny\u001b[0m\u001b[0;34m)\u001b[0m \u001b[0;34m->\u001b[0m \u001b[0mtyping\u001b[0m\u001b[0;34m.\u001b[0m\u001b[0mAny\u001b[0m\u001b[0;34m:\u001b[0m\u001b[0;34m\u001b[0m\u001b[0;34m\u001b[0m\u001b[0m\n",
      "\u001b[0;32m~/opt/anaconda3/lib/python3.9/site-packages/vector/backends/object.py\u001b[0m in \u001b[0;36m__array_ufunc__\u001b[0;34m(self, ufunc, method, *inputs, **kwargs)\u001b[0m\n\u001b[1;32m    576\u001b[0m                     \u001b[0;34m\"output of 'numpy.equal' is scalar, cannot fill a VectorObject with 'out'\"\u001b[0m\u001b[0;34m\u001b[0m\u001b[0;34m\u001b[0m\u001b[0m\n\u001b[1;32m    577\u001b[0m                 )\n\u001b[0;32m--> 578\u001b[0;31m             \u001b[0;32mreturn\u001b[0m \u001b[0minputs\u001b[0m\u001b[0;34m[\u001b[0m\u001b[0;36m0\u001b[0m\u001b[0;34m]\u001b[0m\u001b[0;34m.\u001b[0m\u001b[0mequal\u001b[0m\u001b[0;34m(\u001b[0m\u001b[0minputs\u001b[0m\u001b[0;34m[\u001b[0m\u001b[0;36m1\u001b[0m\u001b[0;34m]\u001b[0m\u001b[0;34m)\u001b[0m\u001b[0;34m\u001b[0m\u001b[0;34m\u001b[0m\u001b[0m\n\u001b[0m\u001b[1;32m    579\u001b[0m \u001b[0;34m\u001b[0m\u001b[0m\n\u001b[1;32m    580\u001b[0m         elif (\n",
      "\u001b[0;32m~/opt/anaconda3/lib/python3.9/site-packages/vector/_methods.py\u001b[0m in \u001b[0;36mequal\u001b[0;34m(self, other)\u001b[0m\n\u001b[1;32m   3739\u001b[0m         \u001b[0;32mif\u001b[0m \u001b[0mdim\u001b[0m\u001b[0;34m(\u001b[0m\u001b[0mself\u001b[0m\u001b[0;34m)\u001b[0m \u001b[0;34m!=\u001b[0m \u001b[0mdim\u001b[0m\u001b[0;34m(\u001b[0m\u001b[0mother\u001b[0m\u001b[0;34m)\u001b[0m\u001b[0;34m:\u001b[0m\u001b[0;34m\u001b[0m\u001b[0;34m\u001b[0m\u001b[0m\n\u001b[1;32m   3740\u001b[0m             \u001b[0;32mraise\u001b[0m \u001b[0mTypeError\u001b[0m\u001b[0;34m(\u001b[0m\u001b[0;34mf\"{self!r} and {other!r} do not have the same dimension\"\u001b[0m\u001b[0;34m)\u001b[0m\u001b[0;34m\u001b[0m\u001b[0;34m\u001b[0m\u001b[0m\n\u001b[0;32m-> 3741\u001b[0;31m         \u001b[0;32mreturn\u001b[0m \u001b[0mequal\u001b[0m\u001b[0;34m.\u001b[0m\u001b[0mdispatch\u001b[0m\u001b[0;34m(\u001b[0m\u001b[0mself\u001b[0m\u001b[0;34m,\u001b[0m \u001b[0mother\u001b[0m\u001b[0;34m)\u001b[0m\u001b[0;34m\u001b[0m\u001b[0;34m\u001b[0m\u001b[0m\n\u001b[0m\u001b[1;32m   3742\u001b[0m \u001b[0;34m\u001b[0m\u001b[0m\n\u001b[1;32m   3743\u001b[0m     \u001b[0;32mdef\u001b[0m \u001b[0mnot_equal\u001b[0m\u001b[0;34m(\u001b[0m\u001b[0mself\u001b[0m\u001b[0;34m,\u001b[0m \u001b[0mother\u001b[0m\u001b[0;34m:\u001b[0m \u001b[0mVectorProtocol\u001b[0m\u001b[0;34m)\u001b[0m \u001b[0;34m->\u001b[0m \u001b[0mBoolCollection\u001b[0m\u001b[0;34m:\u001b[0m\u001b[0;34m\u001b[0m\u001b[0;34m\u001b[0m\u001b[0m\n",
      "\u001b[0;32m~/opt/anaconda3/lib/python3.9/site-packages/vector/_compute/lorentz/equal.py\u001b[0m in \u001b[0;36mdispatch\u001b[0;34m(v1, v2)\u001b[0m\n\u001b[1;32m    168\u001b[0m     )\n\u001b[1;32m    169\u001b[0m     \u001b[0;32mwith\u001b[0m \u001b[0mnumpy\u001b[0m\u001b[0;34m.\u001b[0m\u001b[0merrstate\u001b[0m\u001b[0;34m(\u001b[0m\u001b[0mall\u001b[0m\u001b[0;34m=\u001b[0m\u001b[0;34m\"ignore\"\u001b[0m\u001b[0;34m)\u001b[0m\u001b[0;34m:\u001b[0m\u001b[0;34m\u001b[0m\u001b[0;34m\u001b[0m\u001b[0m\n\u001b[0;32m--> 170\u001b[0;31m         return _handler_of(v1, v2)._wrap_result(\n\u001b[0m\u001b[1;32m    171\u001b[0m             \u001b[0m_flavor_of\u001b[0m\u001b[0;34m(\u001b[0m\u001b[0mv1\u001b[0m\u001b[0;34m,\u001b[0m \u001b[0mv2\u001b[0m\u001b[0;34m)\u001b[0m\u001b[0;34m,\u001b[0m\u001b[0;34m\u001b[0m\u001b[0;34m\u001b[0m\u001b[0m\n\u001b[1;32m    172\u001b[0m             function(\n",
      "\u001b[0;32m~/opt/anaconda3/lib/python3.9/site-packages/numpy/core/_ufunc_config.py\u001b[0m in \u001b[0;36m__exit__\u001b[0;34m(self, *exc_info)\u001b[0m\n\u001b[1;32m    433\u001b[0m \u001b[0;34m\u001b[0m\u001b[0m\n\u001b[1;32m    434\u001b[0m     \u001b[0;32mdef\u001b[0m \u001b[0m__exit__\u001b[0m\u001b[0;34m(\u001b[0m\u001b[0mself\u001b[0m\u001b[0;34m,\u001b[0m \u001b[0;34m*\u001b[0m\u001b[0mexc_info\u001b[0m\u001b[0;34m)\u001b[0m\u001b[0;34m:\u001b[0m\u001b[0;34m\u001b[0m\u001b[0;34m\u001b[0m\u001b[0m\n\u001b[0;32m--> 435\u001b[0;31m         \u001b[0mseterr\u001b[0m\u001b[0;34m(\u001b[0m\u001b[0;34m**\u001b[0m\u001b[0mself\u001b[0m\u001b[0;34m.\u001b[0m\u001b[0moldstate\u001b[0m\u001b[0;34m)\u001b[0m\u001b[0;34m\u001b[0m\u001b[0;34m\u001b[0m\u001b[0m\n\u001b[0m\u001b[1;32m    436\u001b[0m         \u001b[0;32mif\u001b[0m \u001b[0mself\u001b[0m\u001b[0;34m.\u001b[0m\u001b[0mcall\u001b[0m \u001b[0;32mis\u001b[0m \u001b[0;32mnot\u001b[0m \u001b[0m_Unspecified\u001b[0m\u001b[0;34m:\u001b[0m\u001b[0;34m\u001b[0m\u001b[0;34m\u001b[0m\u001b[0m\n\u001b[1;32m    437\u001b[0m             \u001b[0mseterrcall\u001b[0m\u001b[0;34m(\u001b[0m\u001b[0mself\u001b[0m\u001b[0;34m.\u001b[0m\u001b[0moldcall\u001b[0m\u001b[0;34m)\u001b[0m\u001b[0;34m\u001b[0m\u001b[0;34m\u001b[0m\u001b[0m\n",
      "\u001b[0;32m~/opt/anaconda3/lib/python3.9/site-packages/numpy/core/_ufunc_config.py\u001b[0m in \u001b[0;36mseterr\u001b[0;34m(all, divide, over, under, invalid)\u001b[0m\n\u001b[1;32m    125\u001b[0m \u001b[0;34m\u001b[0m\u001b[0m\n\u001b[1;32m    126\u001b[0m     \u001b[0mpyvals\u001b[0m\u001b[0;34m[\u001b[0m\u001b[0;36m1\u001b[0m\u001b[0;34m]\u001b[0m \u001b[0;34m=\u001b[0m \u001b[0mmaskvalue\u001b[0m\u001b[0;34m\u001b[0m\u001b[0;34m\u001b[0m\u001b[0m\n\u001b[0;32m--> 127\u001b[0;31m     \u001b[0mumath\u001b[0m\u001b[0;34m.\u001b[0m\u001b[0mseterrobj\u001b[0m\u001b[0;34m(\u001b[0m\u001b[0mpyvals\u001b[0m\u001b[0;34m)\u001b[0m\u001b[0;34m\u001b[0m\u001b[0;34m\u001b[0m\u001b[0m\n\u001b[0m\u001b[1;32m    128\u001b[0m     \u001b[0;32mreturn\u001b[0m \u001b[0mold\u001b[0m\u001b[0;34m\u001b[0m\u001b[0;34m\u001b[0m\u001b[0m\n\u001b[1;32m    129\u001b[0m \u001b[0;34m\u001b[0m\u001b[0m\n",
      "\u001b[0;31mKeyboardInterrupt\u001b[0m: "
     ]
    }
   ],
   "source": [
    "myfilter=\"/(MissingET.(MET|Phi)|Particle.(PID|Status)|Electron.(PT|Eta|Phi|Charge)|Muon.(PT|Eta|Phi|Charge)|Jet.(PT|Eta|Phi))/\"\n",
    "batch_size=1000\n",
    "iterator = uproot.iterate([f+\":Delphes\" for f in root_signal],step_size=batch_size, filter_name=myfilter)\n",
    "for batch in tqdm(iterator, total=N_root_sig//batch_size):\n",
    "    batch = batch_selector(batch, 0)\n",
    "    l0s, l1s, l2s = get_leptons(batch)\n",
    "    print(\"batch done\")\n",
    "    "
   ]
  },
  {
   "cell_type": "code",
   "execution_count": null,
   "metadata": {},
   "outputs": [],
   "source": [
    "print(l0s)"
   ]
  },
  {
   "cell_type": "code",
   "execution_count": 34,
   "metadata": {},
   "outputs": [
    {
     "name": "stderr",
     "output_type": "stream",
     "text": [
      "515it [2:08:42, 15.00s/it]                                                      \n"
     ]
    }
   ],
   "source": [
    "ntotal_VH=0\n",
    "nselected_VH=0\n",
    "ntotal_WWW=0\n",
    "nselected_WWW=0\n",
    "df_VH = None\n",
    "\n",
    "myfilter=\"/(MissingET.(MET|Phi)|Particle.(PID|Status)|Electron.(PT|Eta|Phi|Charge)|Muon.(PT|Eta|Phi|Charge)|Jet.(PT|Eta|Phi))/\"\n",
    "batch_size=1000\n",
    "iterator = uproot.iterate([f+\":Delphes\" for f in root_signal],step_size=batch_size, filter_name=myfilter)\n",
    "\n",
    "for batch in tqdm(iterator, total=N_root_sig//batch_size):\n",
    "    batch = batch_selector(batch, 0) #VH data\n",
    "    higgs = checkHiggs(batch)\n",
    "    presel = preselection(batch)\n",
    "    met, metPhi = get_MET(batch)\n",
    "    l0s, l1s, l2s = get_leptons(batch)\n",
    "    PT_l0, PT_l1, PT_l2, invarM_l0l1, invarM_l0l2, invarM_l1l2, invarM, \\\n",
    "            transM_l0l1, transM_l0l2, transM_l1l2, \\\n",
    "            deltaeta_l0l1, deltaeta_l0l2, deltaeta_l1l2, \\\n",
    "            deltaangle_l0l1, deltaangle_l0l2, deltaangle_l1l2, \\\n",
    "            dR_l0l1, dR_l0l2, dR_l1l2, totalP = get_data(batch, l0s, l1s, l2s)\n",
    "    \n",
    "    dataset = {'PT_l0': PT_l0, 'PT_l1': PT_l1, 'PT_l2': PT_l2, 'met': met, 'metPhi': metPhi,\n",
    "       'm_l0l1': invarM_l0l1, 'm_l0l2': invarM_l0l2, 'm_l1l2': invarM_l1l2, 'm_lll': invarM,\n",
    "       'mT_l0l1': transM_l0l1, 'mT_l0l2': transM_l0l2, 'mT_l1l2': transM_l1l2, \n",
    "       'delEta_l0l1': deltaeta_l0l1, 'delEta_l0l2': deltaeta_l0l2, 'delEta_l1l2': deltaeta_l1l2,\n",
    "      'delPhi_l0l1': deltaangle_l0l1, 'delPhi_l0l2': deltaangle_l0l2, 'delPhi_l1l2': deltaangle_l1l2,\n",
    "      'delR_l0l1': dR_l0l1, 'delR_l0l2': dR_l0l2, 'delR_l1l2': dR_l1l2, \n",
    "        'sumPT': totalP} #make into dict\n",
    "    \n",
    "    \n",
    "    if df_VH is not None:\n",
    "            newdata_VH = pd.DataFrame(dataset)\n",
    "            df_VH = pd.concat([df_VH, newdata_VH], axis = 0, ignore_index=True)\n",
    "            \n",
    "    else:\n",
    "        df_VH = pd.DataFrame(dataset)\n",
    "        \n",
    "        ntotal_VH+=higgs.sum()\n",
    "        ntotal_WWW+=(~higgs).sum()\n",
    "        nselected_VH+=np.logical_and(higgs,presel).sum()\n",
    "        nselected_WWW+=np.logical_and(~higgs,presel).sum()\n",
    "                  \n",
    "#print(\"Preselection efficiency for VH events: %2.2f %%\"%(100.*nselected_VH/ntotal_VH))\n",
    "#print(\"Preselection efficiency for WWW events: %2.2f %%\"%(100.*nselected_WWW/ntotal_WWW))\n"
   ]
  },
  {
   "cell_type": "code",
   "execution_count": 54,
   "metadata": {},
   "outputs": [
    {
     "name": "stdout",
     "output_type": "stream",
     "text": [
      "[MomentumObject4D(pt=24.532987594604492, phi=-3.0067577362060547, eta=0.5549740195274353, mass=0.000511), MomentumObject4D(pt=33.686851501464844, phi=-1.9392164945602417, eta=0.13847164809703827, mass=0.10565999999999999), MomentumObject4D(pt=14.596811294555664, phi=2.0501394271850586, eta=0.9046310782432556, mass=0.10565999999999999)]\n"
     ]
    }
   ],
   "source": [
    "print(l2s)"
   ]
  },
  {
   "cell_type": "code",
   "execution_count": null,
   "metadata": {},
   "outputs": [],
   "source": [
    "batch_size=5000\n",
    "\n",
    "myfilter=\"/(MissingET.(MET|Phi)|Particle.(PID|Status)|Electron.(PT|Eta|Phi)|Muon.(PT|Eta|Phi)|Jet.(PT|Eta|Phi))/\"\n",
    "\n",
    "#loop over VH/WWW\n",
    "ntotal_VH=0\n",
    "nselected_VH=0\n",
    "ntotal_WWW=0\n",
    "nselected_WWW=0\n",
    "df = None\n",
    "iterator = uproot.iterate([f+\":Delphes\" for f in root_signal],step_size=batch_size, filter_name=myfilter)\n",
    "for batch in tqdm(iterator, total=N_root_sig//batch_size):\n",
    "        higgs=checkHiggs(batch)\n",
    "        presel=preselection(batch)\n",
    "        met, metPhi = get_MET(batch)\n",
    "        \n",
    "        dr, PT_l0, PT_l1, PT_l2, invarM_l0l1, invarM_l0l2, invarM_l1l2, invarM, \\\n",
    "                transM_l0l1, transM_l0l2, transM_l1l2, \\\n",
    "                deltaeta_l0l1, deltaeta_l0l2, deltaeta_l1l2, \\\n",
    "                deltaangle_l0l1, deltaangle_l0l2, deltaangle_l1l2, \\\n",
    "                dR_l0l1, dR_l0l2, dR_l1l2, totalP = get_minDRll(batch)  #get data (can't be dict due to numba)\n",
    "        \n",
    "        dataset = {'PT_l0': PT_l0, 'PT_l1': PT_l1, 'PT_l2': PT_l2, 'met': met, 'metPhi': metPhi,\n",
    "               'm_l0l1': invarM_l0l1, 'm_l0l2': invarM_l0l2, 'm_l1l2': invarM_l1l2, 'm_lll': invarM,\n",
    "               'mT_l0l1': transM_l0l1, 'mT_l0l2': transM_l0l2, 'mT_l1l2': transM_l1l2, \n",
    "               'delEta_l0l1': deltaeta_l0l1, 'delEta_l0l2': deltaeta_l0l2, 'delEta_l1l2': deltaeta_l1l2,\n",
    "              'delPhi_l0l1': deltaangle_l0l1, 'delPhi_l0l2': deltaangle_l0l2, 'delPhi_l1l2': deltaangle_l1l2,\n",
    "              'delR_l0l1': dR_l0l1, 'delR_l0l2': dR_l0l2, 'delR_l1l2': dR_l1l2, \n",
    "               'DRll': dr, 'sumPT': totalP} #make into dict\n",
    "        \n",
    "        if df is not None:\n",
    "            newdata = pd.DataFrame(dataset)\n",
    "            newdata_VH = pd.DataFrame(columns = newdata.keys())\n",
    "            newdata_WWW = pd.DataFrame(columns = newdata.keys())\n",
    "            for i in range(0, len(newdata)):\n",
    "                if np.logical_and(higgs,presel)[i] == True:\n",
    "                    newdata_VH.loc[df.index[i]] = df.iloc[i] \n",
    "                elif np.logical_and(~higgs,presel)[i] == True:\n",
    "                    newdata_WWW.loc[df.index[i]] = df.iloc[i] \n",
    "            df_VH = pd.concat([df_VH, newdata_VH], axis = 0, ignore_index=True)\n",
    "            df_VH = pd.concat([df_WWW, newdata_WWW], axis = 0, ignore_index=True)\n",
    "            df = pd.concat([df, newdata], axis = 0, ignore_index=True)\n",
    "            \n",
    "        else:\n",
    "            df = pd.DataFrame(dataset)\n",
    "            df_VH = pd.DataFrame(columns = df.keys())\n",
    "            df_WWW = pd.DataFrame(columns = df.keys())\n",
    "            for i in range(0, len(df)):\n",
    "                if np.logical_and(higgs,presel)[i] == True:\n",
    "                    df_VH.loc[df.index[i]] = df.iloc[i]\n",
    "                elif np.logical_and(~higgs,presel)[i] == True:\n",
    "                    df_WWW.loc[df.index[i]] = df.iloc[i]\n",
    "        \n",
    "        \n",
    "        #df.loc[df['DRll'][np.logical_and(higgs,presel)] == True, 'type'] = 1\n",
    "        ntotal_VH+=higgs.sum()\n",
    "        ntotal_WWW+=(~higgs).sum()\n",
    "        nselected_VH+=np.logical_and(higgs,presel).sum()\n",
    "        nselected_WWW+=np.logical_and(~higgs,presel).sum()\n",
    "                  \n",
    "print(\"Preselection efficiency for VH events: %2.2f %%\"%(100.*nselected_VH/ntotal_VH))\n",
    "print(\"Preselection efficiency for WWW events: %2.2f %%\"%(100.*nselected_WWW/ntotal_WWW))\n"
   ]
  },
  {
   "cell_type": "code",
   "execution_count": 67,
   "metadata": {},
   "outputs": [
    {
     "ename": "AttributeError",
     "evalue": "'NoneType' object has no attribute 'insert'",
     "output_type": "error",
     "traceback": [
      "\u001b[0;31m---------------------------------------------------------------------------\u001b[0m",
      "\u001b[0;31mAttributeError\u001b[0m                            Traceback (most recent call last)",
      "\u001b[0;32m/var/folders/8w/6hy5w6dj7ynd7ky9bffmrnq80000gn/T/ipykernel_53049/3932068766.py\u001b[0m in \u001b[0;36m<module>\u001b[0;34m\u001b[0m\n\u001b[0;32m----> 1\u001b[0;31m \u001b[0mdf_VH\u001b[0m\u001b[0;34m.\u001b[0m\u001b[0minsert\u001b[0m\u001b[0;34m(\u001b[0m\u001b[0mloc\u001b[0m\u001b[0;34m=\u001b[0m\u001b[0;36m0\u001b[0m\u001b[0;34m,\u001b[0m \u001b[0mcolumn\u001b[0m\u001b[0;34m=\u001b[0m\u001b[0;34m'Type'\u001b[0m\u001b[0;34m,\u001b[0m \u001b[0mvalue\u001b[0m\u001b[0;34m=\u001b[0m\u001b[0;36m2\u001b[0m\u001b[0;34m)\u001b[0m\u001b[0;34m\u001b[0m\u001b[0;34m\u001b[0m\u001b[0m\n\u001b[0m\u001b[1;32m      2\u001b[0m \u001b[0;31m#df_WWW.insert(loc=0, column='Type', value=1)\u001b[0m\u001b[0;34m\u001b[0m\u001b[0;34m\u001b[0m\u001b[0m\n",
      "\u001b[0;31mAttributeError\u001b[0m: 'NoneType' object has no attribute 'insert'"
     ]
    }
   ],
   "source": [
    "df_VH.insert(loc=0, column='Type', value=2)\n",
    "#df_WWW.insert(loc=0, column='Type', value=1)"
   ]
  },
  {
   "cell_type": "code",
   "execution_count": null,
   "metadata": {},
   "outputs": [],
   "source": [
    "#loop over background\n",
    "ntotal=0\n",
    "nselected=0\n",
    "df_bkg_full = None\n",
    "iterator = uproot.iterate([f+\":Delphes\" for f in root_bkg],step_size=batch_size, filter_name=myfilter)\n",
    "for batch in tqdm(iterator, total=N_root_bgk/batch_size):\n",
    "        higgs=checkHiggs(batch)\n",
    "        presel=preselection(batch)\n",
    "\n",
    "        met, metPhi = get_MET(batch)\n",
    "        dr, PT_l0, PT_l1, PT_l2, invarM_l0l1, invarM_l0l2, invarM_l1l2, invarM, \\\n",
    "                transM_l0l1, transM_l0l2, transM_l1l2, \\\n",
    "                deltaeta_l0l1, deltaeta_l0l2, deltaeta_l1l2, \\\n",
    "                deltaangle_l0l1, deltaangle_l0l2, deltaangle_l1l2, \\\n",
    "                dR_l0l1, dR_l0l2, dR_l1l2, totalP = get_minDRll(batch) #get data (can't be dict due to numba)\n",
    "        \n",
    "        dataset = {'PT_l0': PT_l0, 'PT_l1': PT_l1, 'PT_l2': PT_l2, 'met': met, 'metPhi': metPhi,\n",
    "               'm_l0l1': invarM_l0l1, 'm_l0l2': invarM_l0l2, 'm_l1l2': invarM_l1l2, 'm_lll': invarM,\n",
    "               'mT_l0l1': transM_l0l1, 'mT_l0l2': transM_l0l2, 'mT_l1l2': transM_l1l2, \n",
    "               'delEta_l0l1': deltaeta_l0l1, 'delEta_l0l2': deltaeta_l0l2, 'delEta_l1l2': deltaeta_l1l2,\n",
    "              'delPhi_l0l1': deltaangle_l0l1, 'delPhi_l0l2': deltaangle_l0l2, 'delPhi_l1l2': deltaangle_l1l2,\n",
    "              'delR_l0l1': dR_l0l1, 'delR_l0l2': dR_l0l2, 'delR_l1l2': dR_l1l2, \n",
    "               'DRll': dr, 'sumPT': totalP} #make into dict\n",
    "        \n",
    "        #any round but first round\n",
    "        if df_bkg_full is not None:\n",
    "            newdata = pd.DataFrame(dataset)\n",
    "            newdata_bkg = pd.DataFrame(columns = newdata.keys())\n",
    "            for i in range(0, len(newdata)):\n",
    "                if np.logical_and(higgs,presel)[i] == True:\n",
    "                    newdata_bkg.loc[df_bkg_full.index[i]] = df_bkg_full.iloc[i] \n",
    "            df_bkg = pd.concat([df_bkg, newdata_bkg], axis = 0, ignore_index=True)\n",
    "            df_bkg_full = pd.concat([df_bkg_full, newdata], axis = 0, ignore_index=True)\n",
    "            \n",
    "        #first round    \n",
    "        else:\n",
    "            df_bkg_full = pd.DataFrame(dataset)\n",
    "            df_bkg = pd.DataFrame(columns = df.keys())\n",
    "            for i in range(0, len(df_bkg_full)):\n",
    "                if presel[i] == True:\n",
    "                    df_bkg.loc[df_bkg_full.index[i]] = df_bkg_full.iloc[i]\n",
    "        \n",
    "        ntotal+=len(batch)\n",
    "        nselected+=presel.sum()\n",
    "print(\"Preselection efficiency for background events: %2.2f %%\"%(100.*nselected/ntotal))"
   ]
  },
  {
   "cell_type": "code",
   "execution_count": null,
   "metadata": {},
   "outputs": [],
   "source": [
    "df_bkg.insert(loc=0, column='Type', value=0)\n",
    "df_bkg.head()"
   ]
  },
  {
   "cell_type": "code",
   "execution_count": null,
   "metadata": {},
   "outputs": [],
   "source": [
    "df_p=pd.concat([df_WWW, df_VH, df_bkg], axis=0, ignore_index=True)\n",
    "df_p.shape"
   ]
  },
  {
   "cell_type": "code",
   "execution_count": null,
   "metadata": {},
   "outputs": [],
   "source": [
    "corr_df = df_p.corr()\n",
    "\n",
    "corr_df.dropna()\n",
    "\n",
    "sns.heatmap(corr_df,\n",
    "           xticklabels = corr_df.columns,\n",
    "           yticklabels=corr_df.columns,\n",
    "           )"
   ]
  },
  {
   "cell_type": "code",
   "execution_count": null,
   "metadata": {},
   "outputs": [],
   "source": [
    "#scale to given luminosity\n",
    "lumi=400 #inverse fb\n",
    "\n",
    "n_sig=lumi*xSection_sig*1000\n",
    "n_bkg=lumi*xSection_bkg*1000\n",
    "\n",
    "weight_sig=n_sig/N_root_sig\n",
    "weight_bkg=n_bkg/N_root_bgk"
   ]
  },
  {
   "cell_type": "code",
   "execution_count": null,
   "metadata": {},
   "outputs": [],
   "source": [
    "fig,ax=plt.subplots(1,2,figsize=(12,6))\n",
    "bins=np.linspace(0.,500.,100)\n",
    "ax[0].hist([df_VH['met'],df_WWW['met'],df_bkg['met']],bins=bins,\n",
    "        weights=[np.full(df_VH['met'].shape,weight_sig),\n",
    "                 np.full(df_WWW['met'].shape,weight_sig),\n",
    "                 np.full(df_bkg['met'].shape,weight_bkg)],\n",
    "        histtype='bar', stacked=True,label=[\"VH\",\"WWW\",\"bkg\"])\n",
    "ax[0].set_yscale('log')\n",
    "ax[0].text(0.55,0.95,\"${\\\\cal L}=%3.0f$/fb\"%lumi,transform=ax[0].transAxes)\n",
    "ax[0].set_xlabel(\"MET [GeV]\")\n",
    "ax[0].set_ylabel(\"Entries\")\n",
    "ax[0].legend()\n",
    "\n",
    "bins=np.linspace(0.,4.,80)\n",
    "ax[1].hist([df_VH['DRll'],df_WWW['DRll'],df_bkg['DRll']],bins=bins,\n",
    "        weights=[np.full(df_VH['DRll'].shape,weight_sig),\n",
    "                 np.full(df_WWW['DRll'].shape,weight_sig),\n",
    "                 np.full(df_bkg['DRll'].shape,weight_bkg)],\n",
    "        histtype='step', stacked=False,density=True,label=[\"VH\",\"WWW\",\"bkg\"])\n",
    "ax[1].set_yscale('log')\n",
    "ax[1].text(0.55,0.95,\"${\\\\cal L}=%3.0f$/fb\"%lumi,transform=ax[1].transAxes)\n",
    "ax[1].set_xlabel(\"min($\\\\Delta R_{\\\\ell\\\\ell})$\")\n",
    "ax[1].set_ylabel(\"1/N dN/d min($\\\\Delta R_{\\\\ell\\\\ell})$\")\n",
    "ax[1].legend()"
   ]
  },
  {
   "cell_type": "code",
   "execution_count": null,
   "metadata": {},
   "outputs": [],
   "source": []
  }
 ],
 "metadata": {
  "kernelspec": {
   "display_name": "Python 3 (ipykernel)",
   "language": "python",
   "name": "python3"
  },
  "language_info": {
   "codemirror_mode": {
    "name": "ipython",
    "version": 3
   },
   "file_extension": ".py",
   "mimetype": "text/x-python",
   "name": "python",
   "nbconvert_exporter": "python",
   "pygments_lexer": "ipython3",
   "version": "3.9.13"
  }
 },
 "nbformat": 4,
 "nbformat_minor": 4
}
